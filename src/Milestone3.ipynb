{
 "cells": [
  {
   "cell_type": "markdown",
   "metadata": {},
   "source": [
    "# Milestone 3"
   ]
  },
  {
   "cell_type": "markdown",
   "metadata": {},
   "source": [
    "In Milestone 1, our goal was to analyze the influence of ecological scandals on the society. After the review of the assistant, we have thought to slightly change the objective after our first analysis of the dataset. Indeed it was quite difficult to precisely define \"ecological scandal\" regarding the Gdelt dataset. Moreover, we had to define a precise metric of the \"influence\" which is quite troublesome. It would have required to do clustering or classification in a more detail manner. Thus, taking into account the timeline for the project, we deem wise to change the objectives of the project.\n",
    "\n",
    "\n",
    "With the advice of the TA, we have chosen to enlarge the theme to \"Environment\" and our goal is now to analyse how media covers environment relate events in the world. We would like to know the principal actors, events, the impact on politics or economy of environment issues from the news point of view.\n",
    "**As such, we have updated the description and the research questions of the ReadMe.\n",
    "We have explicited what we would like to do in each question and we invite the reader to first read these questions.**\n",
    "\n",
    "\n",
    "We present here the pipeline we have adopted to answer these questions.\n",
    "\n",
    "\n",
    "After Milestone 2, the TA suggest us to precie the [ReadMe](../README.md) with information about the used external datasets. We invite the reader to read this new ReadMe. We have also used the human development index as a measure of the development of a country. Moreover, we have continued answering the research questions as well as clarifiying some points, in particular the difference between the location of the event and the location of a news source."
   ]
  },
  {
   "cell_type": "markdown",
   "metadata": {},
   "source": [
    "### The data itself\n",
    "Gdelt files do not contain the name of the columns, so from the GDELT documentation we have built pyspark schemas to be able to use meaningful names in our queries and preprocessing scripts.\n",
    "\n",
    "Gdelt documentation:\n",
    "\n",
    "**[GlobalKnowledgeGraph (GKG) V2.1](http://data.gdeltproject.org/documentation/GDELT-Global_Knowledge_Graph_Codebook-V2.1.pdf)**\n",
    "\n",
    "**[GdeltEventDatabase V2.0](http://data.gdeltproject.org/documentation/GDELT-Event_Codebook-V2.0.pdf)**\n",
    "\n",
    "**[Mention Table](http://data.gdeltproject.org/documentation/GDELT-Event_Codebook-V2.0.pdf)**"
   ]
  },
  {
   "cell_type": "markdown",
   "metadata": {},
   "source": [
    "As said in the ReadMe, in order to filter the dataset and keep only the environment-related events we keep the items in GKG that contains one of the following tag in their V1THEMES field:\n",
    "- ```ENV_[*]```: Everything related to environment (from biofuels to overfishing, solar energy, nuclear energy, deforestation...)\n",
    "- ```SELF_IDENTIFIED_ENVIRON_DISASTER```: Articles where the text explicitly mentions \"ecological disaster\", \"environmental catastrophe\", etc\n",
    "- ```NATURAL_DISASTER```: From floods to coldsnaps, wildfires to tornadoes\n",
    "- ```MOVEMENT_ENVIRONMENTAL```: Environmental movements\n",
    "\n",
    "**The [configuration file](cluster/config.py) shows the name and type of the different columns of the dataset as well as the Themes we have kept.**\n",
    "\n",
    "We then join with the Mention table on the V2DOCUMENTIDENTIFIER mention and then we join the Mention table with GdeltEvent on GLOBALEVENTID to keep the environment-related events."
   ]
  },
  {
   "cell_type": "markdown",
   "metadata": {},
   "source": [
    "\n",
    "Moreover, the gdelt dataset contain a lot of null values. We need to keep this in mind when doing computation and fill in or filter this null values.\n"
   ]
  },
  {
   "cell_type": "markdown",
   "metadata": {},
   "source": [
    "### Use of the cluster to reduce the dataset size (Milestone 2)\n",
    "The entire Gdelt database available in the cluster is of TB. This is an enormous amount of data to deal with. Therefore, the first thing to do is to reduce the amount of data we are working on. Here we have used the cluster impressive processing power and memory to come up with parquet files that are treatable on our local machines. To this extent, we have to filtered out unnecessary columns (that is columns we will definitely not us in our analysis) but more importantly we need to filtered out information unrelated to environment."
   ]
  },
  {
   "cell_type": "markdown",
   "metadata": {},
   "source": [
    "We have written functions in [load_datasets.py](cluster/load_datasets.py) to load the different csv files for gkg, events and mentions and properly parse them with regards to the columns names. Then we drop out unwanted columns. \n",
    "\n",
    "For the gkg files, we first keep only records related to environment by regex filtering on the V1THEMES column. Then we tried to transpose the environment themes present in the V1THEMES to onehot columns (by first exploding this semi-column separated string of themes), but we found that the size of the parquet were to large with this solution. So because knowing which particular theme was present in a record was not important for our first research questions, we decided to simply not put this column in the parquets."
   ]
  },
  {
   "cell_type": "markdown",
   "metadata": {},
   "source": [
    "Then using these loading functions, we load ([process_data.py](cluster/process_data.py)) all the csv files and agregate them to three parquets: gkg, mentions and events (mentions are joined with gkg to filter out non-environment-related records and events are joined with the result of the last join).\n",
    "\n",
    "Size of the parquets:\n",
    "- GKG: 10.3 GB\n",
    "- MENTIONS: 3.0 GB\n",
    "- EVENT: 1.8 GB"
   ]
  },
  {
   "cell_type": "markdown",
   "metadata": {},
   "source": [
    "### Important remark related to themes filter (after Milestone 2)"
   ]
  },
  {
   "cell_type": "markdown",
   "metadata": {},
   "source": [
    "We have come up with an important issue while analziny our different visualizations. As described in the previous paragraph, our only filter on \"Environment\" events was to filter by the V1THEMES and take every line of the gkg files that have a specific theme in this column. However, by doing this, we had taken all the events that could have for instance only a small relation with environment and that have been given an environment label by GDELT. In other words, events that are not really linked to environment but had only one theme related to environment have been considered in our analysis. \n",
    "\n",
    "The following histogram shows the distribution of the ratio between themes related to environment over the total number of different themes per gkg line."
   ]
  },
  {
   "cell_type": "markdown",
   "metadata": {},
   "source": [
    "![](data/env_themes_histogram.png)"
   ]
  },
  {
   "cell_type": "markdown",
   "metadata": {},
   "source": [
    "We can see that the ratio is concentrated around 0.03. That means we need to fine another way to filter our data and to keep events that are really related to environment.\n",
    "\n",
    "For this purpose, we saw that the V1Themes column is sorted over the order of appearance of themes in the article. In our case, if an article talk about a environment related issue, then for sure there will be an environment theme among the first themes of V1Themes. We have taken the first five themens of this column to filter the lines in gkg. The scrypt [gkg_env_tag_ratio.py](cluster/gkg_env_tag_ratio.py) does this second filtering. The size of the new GKG parquet is of 2.5 GB.\n",
    "\n",
    "Finally, all the methods and scripts that were used in Milestone 2 were not modified, we have simply used this new GKG parquet. Concerning the join on mentions and events parquets, we did not have to compute them again, as we could simply join on the GKGRecordId of the new gkg parquet."
   ]
  },
  {
   "cell_type": "markdown",
   "metadata": {},
   "source": [
    "### Use of the cluser to get relevant data files"
   ]
  },
  {
   "cell_type": "markdown",
   "metadata": {},
   "source": [
    "With the three parquets (gkg, mentions and events), we can now perform some computations before coming up with small enough parquets to deal with on local machines. \n",
    "Below, you can find the code that has generated the files needed for each of the part that we will discuss next. These files are present in the [data](data/from_cluster) folder.\n",
    "\n",
    "- *mentions_counts_by_state_and_day_filtered_5themes.csv:* [mentions_counts.py](cluster/mentions_counts.py)\n",
    "- *tone_mean_count_5themes_median.parquet:* [tone.py](cluster/tone.py)\n",
    "- *tone_mentions_5themes_europe.parquet* [tone_mentions_europe.py](cluster/tone_mentions_europe.py)"
   ]
  },
  {
   "cell_type": "markdown",
   "metadata": {},
   "source": [
    "### Use of external datasets and assets"
   ]
  },
  {
   "cell_type": "markdown",
   "metadata": {},
   "source": [
    "Europe:\n",
    "\n",
    "- *European countries:* [countries_cleaned_europe.csv](assets/countries_cleaned_europe.csv)\n",
    "- *FIPS to ISO conversion:* [fips-10-4-to-iso-country-codes](assets/fips-10-4-to-iso-country-codes.csv)\n",
    "- *European countries geolocalisation:* [europe.geojson](assets/europe.geojson)\n",
    "\n",
    "\n",
    "Metrics:\n",
    "\n",
    "- *EPI:* [epi2018countrysnapshotv01.csv](external_datasets/epi2018countrysnapshotv01.csv)\n",
    "- *HDI:* [human_development_index_2017.csv](external_datasets/human_development_index_2017.csv)"
   ]
  },
  {
   "cell_type": "markdown",
   "metadata": {},
   "source": [
    "# Analysis of the data"
   ]
  },
  {
   "cell_type": "code",
   "execution_count": 1,
   "metadata": {
    "collapsed": true
   },
   "outputs": [],
   "source": [
    "import findspark\n",
    "findspark.init()\n",
    "import pyspark"
   ]
  },
  {
   "cell_type": "code",
   "execution_count": 2,
   "metadata": {
    "collapsed": true
   },
   "outputs": [],
   "source": [
    "import datetime\n",
    "import pandas as pd\n",
    "import numpy as np\n",
    "import scipy as sp\n",
    "import matplotlib.pyplot as plt\n",
    "import seaborn as sns\n",
    "from pyspark.sql import *\n",
    "import pyspark.sql.functions as F\n",
    "from pyspark.sql.types import *"
   ]
  },
  {
   "cell_type": "code",
   "execution_count": 3,
   "metadata": {
    "collapsed": true
   },
   "outputs": [],
   "source": [
    "spark = SparkSession.builder.getOrCreate()\n",
    "%matplotlib inline"
   ]
  },
  {
   "cell_type": "markdown",
   "metadata": {},
   "source": [
    "## Part 1: What are the major actors (person, organisation, country) implied in environment-related events?"
   ]
  },
  {
   "cell_type": "markdown",
   "metadata": {},
   "source": [
    "In order to answer this question, we thought it would make sense to count the number of times a person, organisation, and location is mentioned as the first or second actor in an environment-related event. We use the field Actor1TypeCode to discriminate a person (ELI) from an organisation (BUS) from a location (null). ActorType2Code and ActorType3Code are used to identify inside a category, a more precise subtype. For exemple, among the elites we can distinguish a politician from a businessman. \n",
    "\n",
    "The end representation we would like to use is a word cloud."
   ]
  },
  {
   "cell_type": "code",
   "execution_count": 4,
   "metadata": {
    "collapsed": true
   },
   "outputs": [],
   "source": [
    "DATA_FOLDER = 'actors'"
   ]
  },
  {
   "cell_type": "code",
   "execution_count": 5,
   "metadata": {
    "collapsed": true
   },
   "outputs": [],
   "source": [
    "# Load the data\n",
    "actors_occurences = spark.read.load(DATA_FOLDER + \"/actors_occurences.parquet\")"
   ]
  },
  {
   "cell_type": "markdown",
   "metadata": {},
   "source": [
    "We print the top 20 most cited actors, regardless of their category."
   ]
  },
  {
   "cell_type": "code",
   "execution_count": 6,
   "metadata": {},
   "outputs": [
    {
     "name": "stdout",
     "output_type": "stream",
     "text": [
      "+--------+--------------+---------------+---------------+---------------+\n",
      "|   Count|    Actor1Name|Actor1Type1Code|Actor1Type2Code|Actor1Type3Code|\n",
      "+--------+--------------+---------------+---------------+---------------+\n",
      "|36277291|          null|           null|           null|           null|\n",
      "|14073597| UNITED STATES|           null|           null|           null|\n",
      "| 3039767|        POLICE|            COP|           null|           null|\n",
      "| 2439236|    GOVERNMENT|            GOV|           null|           null|\n",
      "| 2073960|     PRESIDENT|            GOV|           null|           null|\n",
      "| 2003752|        SCHOOL|            EDU|           null|           null|\n",
      "| 1998917|UNITED KINGDOM|           null|           null|           null|\n",
      "| 1742537|         CHINA|           null|           null|           null|\n",
      "| 1680969|        RUSSIA|           null|           null|           null|\n",
      "| 1327082|         SYRIA|           null|           null|           null|\n",
      "| 1255290|     AUSTRALIA|           null|           null|           null|\n",
      "| 1239093|       COMPANY|            BUS|           null|           null|\n",
      "| 1233787|        CANADA|           null|           null|           null|\n",
      "| 1164353|       STUDENT|            EDU|           null|           null|\n",
      "| 1162937|        ISRAEL|           null|           null|           null|\n",
      "| 1162476|          IRAN|           null|           null|           null|\n",
      "| 1136965|        AFRICA|           null|           null|           null|\n",
      "| 1038709|        TURKEY|           null|           null|           null|\n",
      "|  999062|      PAKISTAN|           null|           null|           null|\n",
      "|  998875|       NIGERIA|           null|           null|           null|\n",
      "+--------+--------------+---------------+---------------+---------------+\n",
      "only showing top 20 rows\n",
      "\n"
     ]
    }
   ],
   "source": [
    "actors_occurences = actors_occurences.sort('Count', ascending=False)\n",
    "actors_occurences.show(20)"
   ]
  },
  {
   "cell_type": "markdown",
   "metadata": {},
   "source": [
    "We now discriminate a person (ELI) from an organisation (BUS) from a location (null) since we would like to compare elements that belong to the same category (e.g. e person with another person)."
   ]
  },
  {
   "cell_type": "markdown",
   "metadata": {},
   "source": [
    "**Elite:** former government officials, celebrities, spokespersons for organizations without further role categorization."
   ]
  },
  {
   "cell_type": "code",
   "execution_count": 7,
   "metadata": {},
   "outputs": [
    {
     "name": "stdout",
     "output_type": "stream",
     "text": [
      "+------+----------------+---------------+---------------+---------------+\n",
      "| Count|      Actor1Name|Actor1Type1Code|Actor1Type2Code|Actor1Type3Code|\n",
      "+------+----------------+---------------+---------------+---------------+\n",
      "|144071|           ACTOR|            ELI|           null|           null|\n",
      "|102014|         RETIRED|            ELI|           null|           null|\n",
      "| 86304|          HASSAN|            ELI|           null|           null|\n",
      "| 54295|          ALBERT|            ELI|           null|           null|\n",
      "| 43425|      FIRST LADY|            ELI|           null|           null|\n",
      "| 38557|   UNITED STATES|            ELI|           null|           null|\n",
      "| 35087|    BILL CLINTON|            ELI|           null|           null|\n",
      "| 19162|          HASSAN|            ELI|            GOV|           null|\n",
      "| 18892|    NAWAZ SHARIF|            ELI|            GOV|           null|\n",
      "| 18614|      SHINZO ABE|            ELI|            GOV|           null|\n",
      "| 17443|  GEORGE W. BUSH|            ELI|           null|           null|\n",
      "| 15674|  GEORGE W. BUSH|            ELI|            GOV|           null|\n",
      "| 15287|         RETIRED|            ELI|            MIL|           null|\n",
      "| 13108|    NAWAZ SHARIF|            ELI|           null|           null|\n",
      "| 11315|    FIDEL CASTRO|            ELI|           null|           null|\n",
      "| 10809|    BILL CLINTON|            ELI|            GOV|           null|\n",
      "|  9750|  NELSON MANDELA|            ELI|           null|           null|\n",
      "|  8963|ANTONIO GUTERRES|            ELI|           null|           null|\n",
      "|  8300|      TONY BLAIR|            ELI|           null|           null|\n",
      "|  7001|  UNITED KINGDOM|            ELI|           null|           null|\n",
      "+------+----------------+---------------+---------------+---------------+\n",
      "only showing top 20 rows\n",
      "\n"
     ]
    }
   ],
   "source": [
    "actors_eli_df = actors_occurences.filter(actors_occurences.Actor1Type1Code==\"ELI\")\n",
    "actors_eli_df.show(20)"
   ]
  },
  {
   "cell_type": "markdown",
   "metadata": {},
   "source": [
    "**Business:** businessmen, companies, and enterprises."
   ]
  },
  {
   "cell_type": "code",
   "execution_count": 8,
   "metadata": {},
   "outputs": [
    {
     "name": "stdout",
     "output_type": "stream",
     "text": [
      "+-------+-------------------+---------------+---------------+---------------+\n",
      "|  Count|         Actor1Name|Actor1Type1Code|Actor1Type2Code|Actor1Type3Code|\n",
      "+-------+-------------------+---------------+---------------+---------------+\n",
      "|1239093|            COMPANY|            BUS|           null|           null|\n",
      "| 947602|           BUSINESS|            BUS|           null|           null|\n",
      "| 450499|           INDUSTRY|            BUS|           null|           null|\n",
      "| 429339|          COMPANIES|            BUS|           null|           null|\n",
      "| 356868|               BANK|            BUS|           null|           null|\n",
      "| 214815|           INVESTOR|            BUS|           null|           null|\n",
      "| 137114|           PRODUCER|            BUS|           null|           null|\n",
      "| 135265|        CORPORATION|            BUS|           null|           null|\n",
      "| 133193|            AIRLINE|            BUS|           null|           null|\n",
      "|  87948|           EMPLOYER|            BUS|           null|           null|\n",
      "|  87837|      UNITED STATES|            BUS|           null|           null|\n",
      "|  73850|               BOSS|            BUS|           null|           null|\n",
      "|  59786|       MANUFACTURER|            BUS|           null|           null|\n",
      "|  54003|             TRADER|            BUS|           null|           null|\n",
      "|  52343|       ENTREPRENEUR|            BUS|           null|           null|\n",
      "|  38874|             TANKER|            BUS|           null|           null|\n",
      "|  29652|           LANDLORD|            BUS|           null|           null|\n",
      "|  28364|    BUSINESS LEADER|            BUS|           null|           null|\n",
      "|  27325|             SERVER|            BUS|           null|           null|\n",
      "|  27246|CHAMBER OF COMMERCE|            BUS|           null|           null|\n",
      "+-------+-------------------+---------------+---------------+---------------+\n",
      "only showing top 20 rows\n",
      "\n"
     ]
    }
   ],
   "source": [
    "actors_bus_df = actors_occurences.filter(actors_occurences.Actor1Type1Code==\"BUS\")\n",
    "actors_bus_df.show(20)"
   ]
  },
  {
   "cell_type": "markdown",
   "metadata": {},
   "source": [
    "**Country**"
   ]
  },
  {
   "cell_type": "code",
   "execution_count": 9,
   "metadata": {},
   "outputs": [
    {
     "name": "stdout",
     "output_type": "stream",
     "text": [
      "+--------+--------------+---------------+---------------+---------------+\n",
      "|   Count|    Actor1Name|Actor1Type1Code|Actor1Type2Code|Actor1Type3Code|\n",
      "+--------+--------------+---------------+---------------+---------------+\n",
      "|36277291|          null|           null|           null|           null|\n",
      "|14073597| UNITED STATES|           null|           null|           null|\n",
      "| 1998917|UNITED KINGDOM|           null|           null|           null|\n",
      "| 1742537|         CHINA|           null|           null|           null|\n",
      "| 1680969|        RUSSIA|           null|           null|           null|\n",
      "| 1327082|         SYRIA|           null|           null|           null|\n",
      "| 1255290|     AUSTRALIA|           null|           null|           null|\n",
      "| 1233787|        CANADA|           null|           null|           null|\n",
      "| 1162937|        ISRAEL|           null|           null|           null|\n",
      "| 1162476|          IRAN|           null|           null|           null|\n",
      "| 1136965|        AFRICA|           null|           null|           null|\n",
      "| 1038709|        TURKEY|           null|           null|           null|\n",
      "|  999062|      PAKISTAN|           null|           null|           null|\n",
      "|  998875|       NIGERIA|           null|           null|           null|\n",
      "|  959034|        FRANCE|           null|           null|           null|\n",
      "|  886460|      AMERICAN|           null|           null|           null|\n",
      "|  786835|          IRAQ|           null|           null|           null|\n",
      "|  744571|       GERMANY|           null|           null|           null|\n",
      "|  680185|    PHILIPPINE|           null|           null|           null|\n",
      "|  675104|       RUSSIAN|           null|           null|           null|\n",
      "+--------+--------------+---------------+---------------+---------------+\n",
      "only showing top 20 rows\n",
      "\n"
     ]
    }
   ],
   "source": [
    "actors_country_df = actors_occurences.filter(\"Actor1Type1Code is null\")\n",
    "actors_country_df.show(20)"
   ]
  },
  {
   "cell_type": "markdown",
   "metadata": {},
   "source": [
    "After having looked at the data, we think that getting the top cited actors with the actor field of the event database is probably not the best way to do. For the business category, we have a lot of results that are irrelevant (for e.g. \"company\", \"bank\", \"investor\"...). We would rather like to have names of actual companies. For the elite category, it's the same thing: \"actor\", \"retired\", \"United Kingdom\" are rather irrelevant. We would prefer to have names of actual persons. \n",
    "For this we think it could be better to use the V1LOCATIONS, V1PERSONS and V1ORGANIZATIONS of the GKG database. This is the option we are going to explore next. Otherwise, we will have to manually filter out the names of actors."
   ]
  },
  {
   "cell_type": "markdown",
   "metadata": {},
   "source": [
    "## Part 2: What is the evolution in time of the tone of environment-related events in the world?"
   ]
  },
  {
   "cell_type": "markdown",
   "metadata": {},
   "source": [
    "Here we analyse the tone of the news of environment-related events in the world. Gdelt has a metric which measures the average “tone” of the document as a whole. This number ranges from -100 (extremely negative) to +100 (extremely positive). Common values range between -10 and +10, 0 indicates neutral.\n",
    "\n",
    "We want to grasp the mean tone of these news in the world in a chronological manner to see how these events are perceived during time."
   ]
  },
  {
   "cell_type": "code",
   "execution_count": 10,
   "metadata": {
    "collapsed": true
   },
   "outputs": [],
   "source": [
    "DATA_FOLDER = 'tone'"
   ]
  },
  {
   "cell_type": "code",
   "execution_count": 11,
   "metadata": {
    "collapsed": true
   },
   "outputs": [],
   "source": [
    "#Load data \n",
    "tones_df = spark.read.parquet(DATA_FOLDER + \"/tone_mean_count.parquet\")"
   ]
  },
  {
   "cell_type": "code",
   "execution_count": 12,
   "metadata": {},
   "outputs": [
    {
     "data": {
      "text/html": [
       "<div>\n",
       "<style scoped>\n",
       "    .dataframe tbody tr th:only-of-type {\n",
       "        vertical-align: middle;\n",
       "    }\n",
       "\n",
       "    .dataframe tbody tr th {\n",
       "        vertical-align: top;\n",
       "    }\n",
       "\n",
       "    .dataframe thead th {\n",
       "        text-align: right;\n",
       "    }\n",
       "</style>\n",
       "<table border=\"1\" class=\"dataframe\">\n",
       "  <thead>\n",
       "    <tr style=\"text-align: right;\">\n",
       "      <th></th>\n",
       "      <th>day</th>\n",
       "      <th>month</th>\n",
       "      <th>year</th>\n",
       "      <th>tone_mean</th>\n",
       "    </tr>\n",
       "  </thead>\n",
       "  <tbody>\n",
       "    <tr>\n",
       "      <th>0</th>\n",
       "      <td>18.0</td>\n",
       "      <td>5.0</td>\n",
       "      <td>2015.0</td>\n",
       "      <td>-1.985123</td>\n",
       "    </tr>\n",
       "    <tr>\n",
       "      <th>1</th>\n",
       "      <td>3.0</td>\n",
       "      <td>4.0</td>\n",
       "      <td>2015.0</td>\n",
       "      <td>-2.252133</td>\n",
       "    </tr>\n",
       "    <tr>\n",
       "      <th>2</th>\n",
       "      <td>8.0</td>\n",
       "      <td>6.0</td>\n",
       "      <td>2015.0</td>\n",
       "      <td>-2.145932</td>\n",
       "    </tr>\n",
       "    <tr>\n",
       "      <th>3</th>\n",
       "      <td>24.0</td>\n",
       "      <td>8.0</td>\n",
       "      <td>2016.0</td>\n",
       "      <td>-2.270317</td>\n",
       "    </tr>\n",
       "    <tr>\n",
       "      <th>4</th>\n",
       "      <td>25.0</td>\n",
       "      <td>10.0</td>\n",
       "      <td>2017.0</td>\n",
       "      <td>-2.197027</td>\n",
       "    </tr>\n",
       "  </tbody>\n",
       "</table>\n",
       "</div>"
      ],
      "text/plain": [
       "    day  month    year  tone_mean\n",
       "0  18.0    5.0  2015.0  -1.985123\n",
       "1   3.0    4.0  2015.0  -2.252133\n",
       "2   8.0    6.0  2015.0  -2.145932\n",
       "3  24.0    8.0  2016.0  -2.270317\n",
       "4  25.0   10.0  2017.0  -2.197027"
      ]
     },
     "execution_count": 12,
     "metadata": {},
     "output_type": "execute_result"
    }
   ],
   "source": [
    "#Convert to Pandas dataframe\n",
    "tones = tones_df.toPandas()\n",
    "tones.head()"
   ]
  },
  {
   "cell_type": "code",
   "execution_count": 13,
   "metadata": {},
   "outputs": [
    {
     "data": {
      "text/plain": [
       "count    1011.000000\n",
       "mean       -2.223917\n",
       "std         0.188329\n",
       "min        -3.168995\n",
       "25%        -2.331496\n",
       "50%        -2.223420\n",
       "75%        -2.106588\n",
       "max        -1.058834\n",
       "Name: tone_mean, dtype: float64"
      ]
     },
     "execution_count": 13,
     "metadata": {},
     "output_type": "execute_result"
    }
   ],
   "source": [
    "tones['tone_mean'].describe()"
   ]
  },
  {
   "cell_type": "code",
   "execution_count": 14,
   "metadata": {},
   "outputs": [
    {
     "data": {
      "text/html": [
       "<div>\n",
       "<style scoped>\n",
       "    .dataframe tbody tr th:only-of-type {\n",
       "        vertical-align: middle;\n",
       "    }\n",
       "\n",
       "    .dataframe tbody tr th {\n",
       "        vertical-align: top;\n",
       "    }\n",
       "\n",
       "    .dataframe thead th {\n",
       "        text-align: right;\n",
       "    }\n",
       "</style>\n",
       "<table border=\"1\" class=\"dataframe\">\n",
       "  <thead>\n",
       "    <tr style=\"text-align: right;\">\n",
       "      <th></th>\n",
       "      <th>day</th>\n",
       "      <th>month</th>\n",
       "      <th>year</th>\n",
       "      <th>tone_mean</th>\n",
       "      <th>datetime</th>\n",
       "    </tr>\n",
       "  </thead>\n",
       "  <tbody>\n",
       "    <tr>\n",
       "      <th>910</th>\n",
       "      <td>18.0</td>\n",
       "      <td>2.0</td>\n",
       "      <td>2015.0</td>\n",
       "      <td>-2.893717</td>\n",
       "      <td>2015-02-18</td>\n",
       "    </tr>\n",
       "    <tr>\n",
       "      <th>566</th>\n",
       "      <td>19.0</td>\n",
       "      <td>2.0</td>\n",
       "      <td>2015.0</td>\n",
       "      <td>-2.197792</td>\n",
       "      <td>2015-02-19</td>\n",
       "    </tr>\n",
       "    <tr>\n",
       "      <th>657</th>\n",
       "      <td>20.0</td>\n",
       "      <td>2.0</td>\n",
       "      <td>2015.0</td>\n",
       "      <td>-2.299991</td>\n",
       "      <td>2015-02-20</td>\n",
       "    </tr>\n",
       "    <tr>\n",
       "      <th>606</th>\n",
       "      <td>21.0</td>\n",
       "      <td>2.0</td>\n",
       "      <td>2015.0</td>\n",
       "      <td>-2.094941</td>\n",
       "      <td>2015-02-21</td>\n",
       "    </tr>\n",
       "    <tr>\n",
       "      <th>57</th>\n",
       "      <td>22.0</td>\n",
       "      <td>2.0</td>\n",
       "      <td>2015.0</td>\n",
       "      <td>-2.017214</td>\n",
       "      <td>2015-02-22</td>\n",
       "    </tr>\n",
       "  </tbody>\n",
       "</table>\n",
       "</div>"
      ],
      "text/plain": [
       "      day  month    year  tone_mean   datetime\n",
       "910  18.0    2.0  2015.0  -2.893717 2015-02-18\n",
       "566  19.0    2.0  2015.0  -2.197792 2015-02-19\n",
       "657  20.0    2.0  2015.0  -2.299991 2015-02-20\n",
       "606  21.0    2.0  2015.0  -2.094941 2015-02-21\n",
       "57   22.0    2.0  2015.0  -2.017214 2015-02-22"
      ]
     },
     "execution_count": 14,
     "metadata": {},
     "output_type": "execute_result"
    }
   ],
   "source": [
    "#Create a datetime column from the year, month, day columns\n",
    "tones['datetime'] = pd.to_datetime(tones[['year','month','day']])\n",
    "#Sort the values in chronological order\n",
    "tones = tones.sort_values(by='datetime') \n",
    "tones.head()"
   ]
  },
  {
   "cell_type": "code",
   "execution_count": 15,
   "metadata": {},
   "outputs": [
    {
     "data": {
      "image/png": "[encoded data removed]",
      "text/plain": [
       "<Figure size 864x432 with 1 Axes>"
      ]
     },
     "metadata": {
      "needs_background": "light"
     },
     "output_type": "display_data"
    }
   ],
   "source": [
    "#Plot the mean of the tone against the date\n",
    "tones.plot('datetime','tone_mean',figsize=(12,6))\n",
    "# Display a label every month\n",
    "ticks = tones.datetime.values[0::30]\n",
    "labels = [str(t).split('-')[0] + \"-\" + str(t).split('-')[1] for t in ticks]\n",
    "plt.xticks(ticks, labels)\n",
    "plt.xlabel(\"Date (year-month)\")\n",
    "plt.ylabel(\"Mean Tone\")\n",
    "plt.title(\"Mean Tone over time\")\n",
    "plt.show()"
   ]
  },
  {
   "cell_type": "markdown",
   "metadata": {},
   "source": [
    "From this curve and previous analysis, we can see that the mean tone is around -2.2. The negative value is predictable as environment related events are most often related to bad events inducing negative reaction from the public, thus from the news.\n",
    "What is more important here is the few peaks (such as on 02.2015, 10.2015 or 01.2016) that we can clearly distinguish on the curve. These surely corresponds to particular events which have attracted the attention of the world scene. From the dates, we can further analyse which event correspond to these peaks. To this extent, we have planned to make a word cloud of the person, organisation and country related to these time peak. We can then confirm by looking at wikipedia for instance. This will be an analysis done for the milestone 3."
   ]
  },
  {
   "cell_type": "markdown",
   "metadata": {},
   "source": [
    "## Part 3: What is the worldwide evolution in time of the proportion of environment-related mentions ?"
   ]
  },
  {
   "cell_type": "code",
   "execution_count": 16,
   "metadata": {
    "collapsed": true
   },
   "outputs": [],
   "source": [
    "DATA_FOLDER = \"mentions_counts/\""
   ]
  },
  {
   "cell_type": "markdown",
   "metadata": {},
   "source": [
    "#### Load countries file\n",
    "\n",
    "Because GDELT use the FIPS10-4 standard to represent the countries codes, we needed a way to translate them. To this end we use two datasets, one containing all the countries in the world and an another the mapping between ISO and FIPS standards."
   ]
  },
  {
   "cell_type": "code",
   "execution_count": 17,
   "metadata": {},
   "outputs": [
    {
     "name": "stdout",
     "output_type": "stream",
     "text": [
      "Regions list: ['Asia' 'Europe' 'Africa' 'Oceania' 'Americas']\n"
     ]
    },
    {
     "data": {
      "text/html": [
       "<div>\n",
       "<style scoped>\n",
       "    .dataframe tbody tr th:only-of-type {\n",
       "        vertical-align: middle;\n",
       "    }\n",
       "\n",
       "    .dataframe tbody tr th {\n",
       "        vertical-align: top;\n",
       "    }\n",
       "\n",
       "    .dataframe thead th {\n",
       "        text-align: right;\n",
       "    }\n",
       "</style>\n",
       "<table border=\"1\" class=\"dataframe\">\n",
       "  <thead>\n",
       "    <tr style=\"text-align: right;\">\n",
       "      <th></th>\n",
       "      <th>Country</th>\n",
       "      <th>Region</th>\n",
       "      <th>FIPS</th>\n",
       "      <th>ISO</th>\n",
       "    </tr>\n",
       "  </thead>\n",
       "  <tbody>\n",
       "    <tr>\n",
       "      <th>0</th>\n",
       "      <td>Afghanistan</td>\n",
       "      <td>Asia</td>\n",
       "      <td>AF</td>\n",
       "      <td>AF</td>\n",
       "    </tr>\n",
       "    <tr>\n",
       "      <th>278</th>\n",
       "      <td>Åland Islands</td>\n",
       "      <td>Europe</td>\n",
       "      <td>NaN</td>\n",
       "      <td>AX</td>\n",
       "    </tr>\n",
       "    <tr>\n",
       "      <th>2</th>\n",
       "      <td>Albania</td>\n",
       "      <td>Europe</td>\n",
       "      <td>AL</td>\n",
       "      <td>AL</td>\n",
       "    </tr>\n",
       "    <tr>\n",
       "      <th>3</th>\n",
       "      <td>Algeria</td>\n",
       "      <td>Africa</td>\n",
       "      <td>AG</td>\n",
       "      <td>DZ</td>\n",
       "    </tr>\n",
       "    <tr>\n",
       "      <th>4</th>\n",
       "      <td>American Samoa</td>\n",
       "      <td>Oceania</td>\n",
       "      <td>AQ</td>\n",
       "      <td>AS</td>\n",
       "    </tr>\n",
       "    <tr>\n",
       "      <th>5</th>\n",
       "      <td>Andorra</td>\n",
       "      <td>Europe</td>\n",
       "      <td>AN</td>\n",
       "      <td>AD</td>\n",
       "    </tr>\n",
       "    <tr>\n",
       "      <th>6</th>\n",
       "      <td>Angola</td>\n",
       "      <td>Africa</td>\n",
       "      <td>AO</td>\n",
       "      <td>AO</td>\n",
       "    </tr>\n",
       "    <tr>\n",
       "      <th>7</th>\n",
       "      <td>Anguilla</td>\n",
       "      <td>Americas</td>\n",
       "      <td>AV</td>\n",
       "      <td>AI</td>\n",
       "    </tr>\n",
       "    <tr>\n",
       "      <th>8</th>\n",
       "      <td>Antarctica</td>\n",
       "      <td>NaN</td>\n",
       "      <td>AY</td>\n",
       "      <td>AQ</td>\n",
       "    </tr>\n",
       "    <tr>\n",
       "      <th>9</th>\n",
       "      <td>Antigua and Barbuda</td>\n",
       "      <td>Americas</td>\n",
       "      <td>AC</td>\n",
       "      <td>AG</td>\n",
       "    </tr>\n",
       "  </tbody>\n",
       "</table>\n",
       "</div>"
      ],
      "text/plain": [
       "                 Country    Region FIPS ISO\n",
       "0            Afghanistan      Asia   AF  AF\n",
       "278        Åland Islands    Europe  NaN  AX\n",
       "2                Albania    Europe   AL  AL\n",
       "3                Algeria    Africa   AG  DZ\n",
       "4         American Samoa   Oceania   AQ  AS\n",
       "5                Andorra    Europe   AN  AD\n",
       "6                 Angola    Africa   AO  AO\n",
       "7               Anguilla  Americas   AV  AI\n",
       "8             Antarctica       NaN   AY  AQ\n",
       "9    Antigua and Barbuda  Americas   AC  AG"
      ]
     },
     "execution_count": 17,
     "metadata": {},
     "output_type": "execute_result"
    }
   ],
   "source": [
    "countries = pd.read_csv(DATA_FOLDER+\"countries.csv\")[[\"ISO\", \"Country\", \"Region\"]]\n",
    "countries.ISO = countries.ISO.str.upper()\n",
    "countries.set_index(\"ISO\", inplace=True)\n",
    "\n",
    "regions = countries.Region.unique()[:-1]\n",
    "print(\"Regions list:\", regions)\n",
    "\n",
    "fips_to_iso = pd.read_csv(DATA_FOLDER+\"fips-10-4-to-iso-country-codes.csv\")\n",
    "countries = countries.merge(fips_to_iso, how=\"left\", left_index=True, right_on=\"ISO\")\n",
    "countries.drop(columns=[\"Name\"], inplace=True)\n",
    "countries.dropna()\n",
    "\n",
    "countries.head(10)"
   ]
  },
  {
   "cell_type": "markdown",
   "metadata": {},
   "source": [
    "### Compute ratio of counts of mentions (environment/global)\n",
    "\n",
    "The file ``mentions_counts_by_state_and_day.csv`` was computed on the cluster by aggregating by state and day all the mentions related to environmental events.\n",
    "This allowed us to compute the proportion of environment related mentions over all mentions."
   ]
  },
  {
   "cell_type": "code",
   "execution_count": 18,
   "metadata": {
    "collapsed": true
   },
   "outputs": [],
   "source": [
    "counts_file = DATA_FOLDER+\"mentions_counts_by_state_and_day.csv\""
   ]
  },
  {
   "cell_type": "code",
   "execution_count": 19,
   "metadata": {
    "collapsed": true
   },
   "outputs": [],
   "source": [
    "def read_csv(path, states=None):\n",
    "    counts = pd.read_csv(path)\n",
    "    counts = counts.merge(countries[[\"Country\", \"ISO\", \"FIPS\", \"Region\"]], how=\"inner\", left_on=\"STATE\", right_on=\"FIPS\")\n",
    "    counts.dropna(inplace=True)\n",
    "    counts = counts.assign(DATE=pd.to_datetime(counts[[\"YEAR\", \"MONTH\", \"DAY\"]]))\n",
    "    if states is not None:\n",
    "        counts = counts[counts.STATE.isin(states)]\n",
    "\n",
    "    counts.drop(columns=[\"FIPS\", \"YEAR\", \"MONTH\", \"DAY\"], inplace=True)\n",
    "    counts = counts.assign(Ratio=counts.ENV_COUNT/counts.GLOBAL_COUNT)\n",
    "    counts = counts[[\"DATE\", \"STATE\", \"ISO\", \"Country\", \"Region\", \"GLOBAL_COUNT\", \"ENV_COUNT\", \"Ratio\"]]\n",
    "    return counts"
   ]
  },
  {
   "cell_type": "markdown",
   "metadata": {},
   "source": [
    "### Evolution in time of the ratio of environment related mentions in the world\n",
    "\n",
    "Here we computed this worldwide ratio for each days over the time period covered of the data that are on the cluster"
   ]
  },
  {
   "cell_type": "code",
   "execution_count": 21,
   "metadata": {},
   "outputs": [
    {
     "data": {
      "text/html": [
       "<div>\n",
       "<style scoped>\n",
       "    .dataframe tbody tr th:only-of-type {\n",
       "        vertical-align: middle;\n",
       "    }\n",
       "\n",
       "    .dataframe tbody tr th {\n",
       "        vertical-align: top;\n",
       "    }\n",
       "\n",
       "    .dataframe thead th {\n",
       "        text-align: right;\n",
       "    }\n",
       "</style>\n",
       "<table border=\"1\" class=\"dataframe\">\n",
       "  <thead>\n",
       "    <tr style=\"text-align: right;\">\n",
       "      <th></th>\n",
       "      <th>GLOBAL_COUNT</th>\n",
       "      <th>ENV_COUNT</th>\n",
       "      <th>Ratio</th>\n",
       "    </tr>\n",
       "  </thead>\n",
       "  <tbody>\n",
       "    <tr>\n",
       "      <th>count</th>\n",
       "      <td>1.010000e+03</td>\n",
       "      <td>1010.000000</td>\n",
       "      <td>1010.000000</td>\n",
       "    </tr>\n",
       "    <tr>\n",
       "      <th>mean</th>\n",
       "      <td>6.957287e+05</td>\n",
       "      <td>173730.531683</td>\n",
       "      <td>0.250822</td>\n",
       "    </tr>\n",
       "    <tr>\n",
       "      <th>std</th>\n",
       "      <td>1.743513e+05</td>\n",
       "      <td>54211.969035</td>\n",
       "      <td>0.049963</td>\n",
       "    </tr>\n",
       "    <tr>\n",
       "      <th>min</th>\n",
       "      <td>1.753300e+04</td>\n",
       "      <td>6465.000000</td>\n",
       "      <td>0.144273</td>\n",
       "    </tr>\n",
       "    <tr>\n",
       "      <th>25%</th>\n",
       "      <td>5.594612e+05</td>\n",
       "      <td>136661.500000</td>\n",
       "      <td>0.218244</td>\n",
       "    </tr>\n",
       "    <tr>\n",
       "      <th>50%</th>\n",
       "      <td>7.257745e+05</td>\n",
       "      <td>172871.000000</td>\n",
       "      <td>0.241869</td>\n",
       "    </tr>\n",
       "    <tr>\n",
       "      <th>75%</th>\n",
       "      <td>8.137932e+05</td>\n",
       "      <td>203483.000000</td>\n",
       "      <td>0.275431</td>\n",
       "    </tr>\n",
       "    <tr>\n",
       "      <th>max</th>\n",
       "      <td>1.547286e+06</td>\n",
       "      <td>460906.000000</td>\n",
       "      <td>0.566061</td>\n",
       "    </tr>\n",
       "  </tbody>\n",
       "</table>\n",
       "</div>"
      ],
      "text/plain": [
       "       GLOBAL_COUNT      ENV_COUNT        Ratio\n",
       "count  1.010000e+03    1010.000000  1010.000000\n",
       "mean   6.957287e+05  173730.531683     0.250822\n",
       "std    1.743513e+05   54211.969035     0.049963\n",
       "min    1.753300e+04    6465.000000     0.144273\n",
       "25%    5.594612e+05  136661.500000     0.218244\n",
       "50%    7.257745e+05  172871.000000     0.241869\n",
       "75%    8.137932e+05  203483.000000     0.275431\n",
       "max    1.547286e+06  460906.000000     0.566061"
      ]
     },
     "execution_count": 21,
     "metadata": {},
     "output_type": "execute_result"
    }
   ],
   "source": [
    "counts = read_csv(counts_file)\n",
    "counts = counts.groupby([\"DATE\"]).sum()\n",
    "counts = counts.reset_index()\n",
    "counts = counts.assign(Ratio=counts.ENV_COUNT/counts.GLOBAL_COUNT)\n",
    "counts.describe()"
   ]
  },
  {
   "cell_type": "code",
   "execution_count": 22,
   "metadata": {},
   "outputs": [
    {
     "data": {
      "text/plain": [
       "Text(0, 0.5, 'Ratio')"
      ]
     },
     "execution_count": 22,
     "metadata": {},
     "output_type": "execute_result"
    },
    {
     "data": {
      "image/png": "[encoded data removed]",
      "text/plain": [
       "<Figure size 864x432 with 1 Axes>"
      ]
     },
     "metadata": {
      "needs_background": "light"
     },
     "output_type": "display_data"
    }
   ],
   "source": [
    "ax = counts.plot.line(x=\"DATE\", y=[\"Ratio\"], figsize=(12, 6), legend=None, grid=True,\n",
    "                 title=\"Evolution of the ratio of environment related mentions\")\n",
    "ax.set_ylabel(\"Ratio\")"
   ]
  },
  {
   "cell_type": "code",
   "execution_count": 23,
   "metadata": {},
   "outputs": [
    {
     "data": {
      "text/html": [
       "<div>\n",
       "<style scoped>\n",
       "    .dataframe tbody tr th:only-of-type {\n",
       "        vertical-align: middle;\n",
       "    }\n",
       "\n",
       "    .dataframe tbody tr th {\n",
       "        vertical-align: top;\n",
       "    }\n",
       "\n",
       "    .dataframe thead th {\n",
       "        text-align: right;\n",
       "    }\n",
       "</style>\n",
       "<table border=\"1\" class=\"dataframe\">\n",
       "  <thead>\n",
       "    <tr style=\"text-align: right;\">\n",
       "      <th></th>\n",
       "      <th>DATE</th>\n",
       "      <th>GLOBAL_COUNT</th>\n",
       "      <th>ENV_COUNT</th>\n",
       "      <th>Ratio</th>\n",
       "    </tr>\n",
       "  </thead>\n",
       "  <tbody>\n",
       "    <tr>\n",
       "      <th>928</th>\n",
       "      <td>2017-09-03</td>\n",
       "      <td>511475</td>\n",
       "      <td>289526.0</td>\n",
       "      <td>0.566061</td>\n",
       "    </tr>\n",
       "    <tr>\n",
       "      <th>934</th>\n",
       "      <td>2017-09-09</td>\n",
       "      <td>426308</td>\n",
       "      <td>220937.0</td>\n",
       "      <td>0.518257</td>\n",
       "    </tr>\n",
       "    <tr>\n",
       "      <th>246</th>\n",
       "      <td>2015-10-22</td>\n",
       "      <td>73392</td>\n",
       "      <td>37111.0</td>\n",
       "      <td>0.505655</td>\n",
       "    </tr>\n",
       "    <tr>\n",
       "      <th>319</th>\n",
       "      <td>2016-01-03</td>\n",
       "      <td>550698</td>\n",
       "      <td>270036.0</td>\n",
       "      <td>0.490352</td>\n",
       "    </tr>\n",
       "    <tr>\n",
       "      <th>935</th>\n",
       "      <td>2017-09-10</td>\n",
       "      <td>403520</td>\n",
       "      <td>197131.0</td>\n",
       "      <td>0.488528</td>\n",
       "    </tr>\n",
       "  </tbody>\n",
       "</table>\n",
       "</div>"
      ],
      "text/plain": [
       "          DATE  GLOBAL_COUNT  ENV_COUNT     Ratio\n",
       "928 2017-09-03        511475   289526.0  0.566061\n",
       "934 2017-09-09        426308   220937.0  0.518257\n",
       "246 2015-10-22         73392    37111.0  0.505655\n",
       "319 2016-01-03        550698   270036.0  0.490352\n",
       "935 2017-09-10        403520   197131.0  0.488528"
      ]
     },
     "execution_count": 23,
     "metadata": {},
     "output_type": "execute_result"
    }
   ],
   "source": [
    "counts[counts.Ratio>0.47].sort_values(\"Ratio\", ascending=False)"
   ]
  },
  {
   "cell_type": "markdown",
   "metadata": {},
   "source": [
    "From the descriptive statistics, we can see that the environmental mentions accounts for approximately a quarter of all mentions.\n",
    "\n",
    "The graph has some surges at specific dates. A rapid check on Wikipedia show that our aggreagation seems to be correct:\n",
    "- The increase of the ratio in September 2017 correspond to the period during which a hurricane occurred on the east coast of the United States.\n",
    "- On January 6, 2016, North Korea made a nuclear explosion test, which correspond to the surge occuring on the 3rd.\n",
    "\n",
    "As for the tone, we plan to make a word cloud to identify more precisely the events."
   ]
  },
  {
   "cell_type": "markdown",
   "metadata": {},
   "source": [
    "### Place of environment-related event in the worldwide news for European countries\n",
    "\n",
    "This part is useful to answer the questions on \"the spatial approach\". In particular, we have the information for all countries and we present here the use-case for European countries.\n",
    "\n",
    "Here we computed the same ratio for each day but for each contry in the European region, this would allow us to make the choropleth map with the ratio of the coverage of environmental events for each country."
   ]
  },
  {
   "cell_type": "code",
   "execution_count": 24,
   "metadata": {
    "scrolled": false
   },
   "outputs": [
    {
     "data": {
      "text/html": [
       "<div>\n",
       "<style scoped>\n",
       "    .dataframe tbody tr th:only-of-type {\n",
       "        vertical-align: middle;\n",
       "    }\n",
       "\n",
       "    .dataframe tbody tr th {\n",
       "        vertical-align: top;\n",
       "    }\n",
       "\n",
       "    .dataframe thead th {\n",
       "        text-align: right;\n",
       "    }\n",
       "</style>\n",
       "<table border=\"1\" class=\"dataframe\">\n",
       "  <thead>\n",
       "    <tr style=\"text-align: right;\">\n",
       "      <th></th>\n",
       "      <th>GLOBAL_COUNT</th>\n",
       "      <th>ENV_COUNT</th>\n",
       "      <th>Ratio</th>\n",
       "    </tr>\n",
       "  </thead>\n",
       "  <tbody>\n",
       "    <tr>\n",
       "      <th>count</th>\n",
       "      <td>45268.000000</td>\n",
       "      <td>45268.000000</td>\n",
       "      <td>45268.000000</td>\n",
       "    </tr>\n",
       "    <tr>\n",
       "      <th>mean</th>\n",
       "      <td>2846.426571</td>\n",
       "      <td>656.797539</td>\n",
       "      <td>0.260821</td>\n",
       "    </tr>\n",
       "    <tr>\n",
       "      <th>std</th>\n",
       "      <td>7383.020720</td>\n",
       "      <td>1937.022248</td>\n",
       "      <td>0.204617</td>\n",
       "    </tr>\n",
       "    <tr>\n",
       "      <th>min</th>\n",
       "      <td>1.000000</td>\n",
       "      <td>1.000000</td>\n",
       "      <td>0.000966</td>\n",
       "    </tr>\n",
       "    <tr>\n",
       "      <th>25%</th>\n",
       "      <td>144.000000</td>\n",
       "      <td>25.000000</td>\n",
       "      <td>0.124343</td>\n",
       "    </tr>\n",
       "    <tr>\n",
       "      <th>50%</th>\n",
       "      <td>517.000000</td>\n",
       "      <td>96.000000</td>\n",
       "      <td>0.204826</td>\n",
       "    </tr>\n",
       "    <tr>\n",
       "      <th>75%</th>\n",
       "      <td>1983.000000</td>\n",
       "      <td>391.000000</td>\n",
       "      <td>0.329670</td>\n",
       "    </tr>\n",
       "    <tr>\n",
       "      <th>max</th>\n",
       "      <td>182576.000000</td>\n",
       "      <td>74383.000000</td>\n",
       "      <td>1.000000</td>\n",
       "    </tr>\n",
       "  </tbody>\n",
       "</table>\n",
       "</div>"
      ],
      "text/plain": [
       "        GLOBAL_COUNT     ENV_COUNT         Ratio\n",
       "count   45268.000000  45268.000000  45268.000000\n",
       "mean     2846.426571    656.797539      0.260821\n",
       "std      7383.020720   1937.022248      0.204617\n",
       "min         1.000000      1.000000      0.000966\n",
       "25%       144.000000     25.000000      0.124343\n",
       "50%       517.000000     96.000000      0.204826\n",
       "75%      1983.000000    391.000000      0.329670\n",
       "max    182576.000000  74383.000000      1.000000"
      ]
     },
     "execution_count": 24,
     "metadata": {},
     "output_type": "execute_result"
    }
   ],
   "source": [
    "counts = read_csv(counts_file, countries[countries.Region==\"Europe\"].FIPS.values)\n",
    "counts.describe()"
   ]
  },
  {
   "cell_type": "code",
   "execution_count": 25,
   "metadata": {},
   "outputs": [
    {
     "data": {
      "text/html": [
       "<div>\n",
       "<style scoped>\n",
       "    .dataframe tbody tr th:only-of-type {\n",
       "        vertical-align: middle;\n",
       "    }\n",
       "\n",
       "    .dataframe tbody tr th {\n",
       "        vertical-align: top;\n",
       "    }\n",
       "\n",
       "    .dataframe thead th {\n",
       "        text-align: right;\n",
       "    }\n",
       "</style>\n",
       "<table border=\"1\" class=\"dataframe\">\n",
       "  <thead>\n",
       "    <tr style=\"text-align: right;\">\n",
       "      <th></th>\n",
       "      <th></th>\n",
       "      <th>GLOBAL_COUNT</th>\n",
       "      <th>ENV_COUNT</th>\n",
       "      <th>Ratio</th>\n",
       "    </tr>\n",
       "    <tr>\n",
       "      <th>ISO</th>\n",
       "      <th>Country</th>\n",
       "      <th></th>\n",
       "      <th></th>\n",
       "      <th></th>\n",
       "    </tr>\n",
       "  </thead>\n",
       "  <tbody>\n",
       "    <tr>\n",
       "      <th>GB</th>\n",
       "      <th>United Kingdom of Great Britain and Northern Ireland</th>\n",
       "      <td>31422032</td>\n",
       "      <td>5805596.0</td>\n",
       "      <td>0.184762</td>\n",
       "    </tr>\n",
       "    <tr>\n",
       "      <th>RU</th>\n",
       "      <th>Russian Federation</th>\n",
       "      <td>22765809</td>\n",
       "      <td>5900408.0</td>\n",
       "      <td>0.259178</td>\n",
       "    </tr>\n",
       "    <tr>\n",
       "      <th>FR</th>\n",
       "      <th>France</th>\n",
       "      <td>14499816</td>\n",
       "      <td>3739146.0</td>\n",
       "      <td>0.257875</td>\n",
       "    </tr>\n",
       "    <tr>\n",
       "      <th>DE</th>\n",
       "      <th>Germany</th>\n",
       "      <td>10236706</td>\n",
       "      <td>2457812.0</td>\n",
       "      <td>0.240098</td>\n",
       "    </tr>\n",
       "    <tr>\n",
       "      <th>IT</th>\n",
       "      <th>Italy</th>\n",
       "      <td>5615193</td>\n",
       "      <td>1498437.0</td>\n",
       "      <td>0.266854</td>\n",
       "    </tr>\n",
       "    <tr>\n",
       "      <th>GR</th>\n",
       "      <th>Greece</th>\n",
       "      <td>4975716</td>\n",
       "      <td>1133725.0</td>\n",
       "      <td>0.227852</td>\n",
       "    </tr>\n",
       "    <tr>\n",
       "      <th>ES</th>\n",
       "      <th>Spain</th>\n",
       "      <td>3834985</td>\n",
       "      <td>704525.0</td>\n",
       "      <td>0.183710</td>\n",
       "    </tr>\n",
       "    <tr>\n",
       "      <th>BE</th>\n",
       "      <th>Belgium</th>\n",
       "      <td>3771457</td>\n",
       "      <td>729045.0</td>\n",
       "      <td>0.193306</td>\n",
       "    </tr>\n",
       "    <tr>\n",
       "      <th>IE</th>\n",
       "      <th>Ireland</th>\n",
       "      <td>3769253</td>\n",
       "      <td>595116.0</td>\n",
       "      <td>0.157887</td>\n",
       "    </tr>\n",
       "    <tr>\n",
       "      <th>UA</th>\n",
       "      <th>Ukraine</th>\n",
       "      <td>3154419</td>\n",
       "      <td>758205.0</td>\n",
       "      <td>0.240363</td>\n",
       "    </tr>\n",
       "    <tr>\n",
       "      <th>CH</th>\n",
       "      <th>Switzerland</th>\n",
       "      <td>2605762</td>\n",
       "      <td>879043.0</td>\n",
       "      <td>0.337346</td>\n",
       "    </tr>\n",
       "    <tr>\n",
       "      <th>PL</th>\n",
       "      <th>Poland</th>\n",
       "      <td>2318501</td>\n",
       "      <td>457558.0</td>\n",
       "      <td>0.197351</td>\n",
       "    </tr>\n",
       "    <tr>\n",
       "      <th>NL</th>\n",
       "      <th>Netherlands</th>\n",
       "      <td>2247085</td>\n",
       "      <td>579686.0</td>\n",
       "      <td>0.257972</td>\n",
       "    </tr>\n",
       "    <tr>\n",
       "      <th>SE</th>\n",
       "      <th>Sweden</th>\n",
       "      <td>2024969</td>\n",
       "      <td>381422.0</td>\n",
       "      <td>0.188359</td>\n",
       "    </tr>\n",
       "    <tr>\n",
       "      <th>AT</th>\n",
       "      <th>Austria</th>\n",
       "      <td>1667859</td>\n",
       "      <td>523198.0</td>\n",
       "      <td>0.313694</td>\n",
       "    </tr>\n",
       "    <tr>\n",
       "      <th>HU</th>\n",
       "      <th>Hungary</th>\n",
       "      <td>1547073</td>\n",
       "      <td>447679.0</td>\n",
       "      <td>0.289372</td>\n",
       "    </tr>\n",
       "    <tr>\n",
       "      <th>NO</th>\n",
       "      <th>Norway</th>\n",
       "      <td>1193584</td>\n",
       "      <td>410642.0</td>\n",
       "      <td>0.344041</td>\n",
       "    </tr>\n",
       "    <tr>\n",
       "      <th>DK</th>\n",
       "      <th>Denmark</th>\n",
       "      <td>986930</td>\n",
       "      <td>249587.0</td>\n",
       "      <td>0.252892</td>\n",
       "    </tr>\n",
       "    <tr>\n",
       "      <th>RO</th>\n",
       "      <th>Romania</th>\n",
       "      <td>978962</td>\n",
       "      <td>202466.0</td>\n",
       "      <td>0.206817</td>\n",
       "    </tr>\n",
       "    <tr>\n",
       "      <th>CZ</th>\n",
       "      <th>Czechia</th>\n",
       "      <td>810008</td>\n",
       "      <td>214915.0</td>\n",
       "      <td>0.265325</td>\n",
       "    </tr>\n",
       "  </tbody>\n",
       "</table>\n",
       "</div>"
      ],
      "text/plain": [
       "                                                        GLOBAL_COUNT  \\\n",
       "ISO Country                                                            \n",
       "GB  United Kingdom of Great Britain and Northern Ir...      31422032   \n",
       "RU  Russian Federation                                      22765809   \n",
       "FR  France                                                  14499816   \n",
       "DE  Germany                                                 10236706   \n",
       "IT  Italy                                                    5615193   \n",
       "GR  Greece                                                   4975716   \n",
       "ES  Spain                                                    3834985   \n",
       "BE  Belgium                                                  3771457   \n",
       "IE  Ireland                                                  3769253   \n",
       "UA  Ukraine                                                  3154419   \n",
       "CH  Switzerland                                              2605762   \n",
       "PL  Poland                                                   2318501   \n",
       "NL  Netherlands                                              2247085   \n",
       "SE  Sweden                                                   2024969   \n",
       "AT  Austria                                                  1667859   \n",
       "HU  Hungary                                                  1547073   \n",
       "NO  Norway                                                   1193584   \n",
       "DK  Denmark                                                   986930   \n",
       "RO  Romania                                                   978962   \n",
       "CZ  Czechia                                                   810008   \n",
       "\n",
       "                                                        ENV_COUNT     Ratio  \n",
       "ISO Country                                                                  \n",
       "GB  United Kingdom of Great Britain and Northern Ir...  5805596.0  0.184762  \n",
       "RU  Russian Federation                                  5900408.0  0.259178  \n",
       "FR  France                                              3739146.0  0.257875  \n",
       "DE  Germany                                             2457812.0  0.240098  \n",
       "IT  Italy                                               1498437.0  0.266854  \n",
       "GR  Greece                                              1133725.0  0.227852  \n",
       "ES  Spain                                                704525.0  0.183710  \n",
       "BE  Belgium                                              729045.0  0.193306  \n",
       "IE  Ireland                                              595116.0  0.157887  \n",
       "UA  Ukraine                                              758205.0  0.240363  \n",
       "CH  Switzerland                                          879043.0  0.337346  \n",
       "PL  Poland                                               457558.0  0.197351  \n",
       "NL  Netherlands                                          579686.0  0.257972  \n",
       "SE  Sweden                                               381422.0  0.188359  \n",
       "AT  Austria                                              523198.0  0.313694  \n",
       "HU  Hungary                                              447679.0  0.289372  \n",
       "NO  Norway                                               410642.0  0.344041  \n",
       "DK  Denmark                                              249587.0  0.252892  \n",
       "RO  Romania                                              202466.0  0.206817  \n",
       "CZ  Czechia                                              214915.0  0.265325  "
      ]
     },
     "execution_count": 25,
     "metadata": {},
     "output_type": "execute_result"
    }
   ],
   "source": [
    "europe_counts = counts.groupby([\"ISO\", \"Country\"]).sum()\n",
    "europe_counts = europe_counts.assign(Ratio=europe_counts.ENV_COUNT/europe_counts.GLOBAL_COUNT)\n",
    "europe_counts.sort_values(\"GLOBAL_COUNT\", ascending=False).head(20)"
   ]
  },
  {
   "cell_type": "markdown",
   "metadata": {},
   "source": [
    "## Plan for milestone 3\n",
    "\n"
   ]
  },
  {
   "cell_type": "markdown",
   "metadata": {},
   "source": [
    "**Week 1**\n",
    "- For the \"major actor\" question, we will make a world cloud with the proper columns as discussed in Part 1 to identify more efficiently the major actors related to environment in the world.\n",
    "- For the \"temporal approach\", we will find the events related to the peaks in the tone graph and the mention proportion graph with the use of world clouds (filtered on the datetime of the peak). With these world clouds, we will name the events associated with these peak and confirm these with the use of Wikipedia.\n",
    "- For the \"spatial approach\", we will start the use case of Europe by drawing a chloropeth map of European countries with the mention proportion metric. From this, we will see which country is more associated to environment issues.\n",
    "\n",
    "\n",
    "**Week 2**\n",
    "- For the \"major actor\" question, we will try to show the links between the actors in the world with a weighted graph. This will enable to show which kind of actor are more concerned by the environment issues.\n",
    "- For the \"spatial approach\", we will compute the evolution in time of the tone by country in order to see which country have a constant tone over time. This will be another metric to see which country is more associated to environment issues. With the use case of Europe, we will visualize the evolution in time of the tone only for European countries.\n",
    "- Again for the \"spatial approch\", we will compare the economic status of a country and the news coverage of environment in this country. We can extent this to a comparison with the political unstability.\n",
    "\n",
    "**Week 3**\n",
    "\n",
    "In the precedent points, all of our spatial analyses were based on how the world cover events that happen in a specific country. However, if we have enough time, we think that it would be very interesting to flip the point-of-view and look at how a specific country cover events in the world. To this end, we plan to use an existing dataset that indicates the origin country for each web domain, it is built from the GKG dataset and contain 190K domains ([link](https://blog.gdeltproject.org/mapping-the-media-a-geographic-lookup-of-gdelts-sources/)), that is we can find from which country the \"author\" of a mention comes from. We could have a chloropeth map indicating how a country covers (from the media point of view) events in the world. We can study the link between this and the economy of the country like what we will do in Week 2. "
   ]
  }
 ],
 "metadata": {
  "kernelspec": {
   "display_name": "Python 3",
   "language": "python",
   "name": "python3"
  },
  "language_info": {
   "codemirror_mode": {
    "name": "ipython",
    "version": 3
   },
   "file_extension": ".py",
   "mimetype": "text/x-python",
   "name": "python",
   "nbconvert_exporter": "python",
   "pygments_lexer": "ipython3",
   "version": "3.6.5"
  }
 },
 "nbformat": 4,
 "nbformat_minor": 2
}
