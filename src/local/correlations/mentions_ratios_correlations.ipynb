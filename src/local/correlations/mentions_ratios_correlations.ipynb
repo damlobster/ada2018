{
 "cells": [
  {
   "cell_type": "code",
   "execution_count": 27,
   "metadata": {},
   "outputs": [],
   "source": [
    "import numpy as np\n",
    "import pandas as pd\n",
    "import seaborn as sns\n",
    "import matplotlib.pyplot as plt\n",
    "\n",
    "import sys\n",
    "sys.path.append(\"..\")\n",
    "\n",
    "from helper import load_countries, join_countries"
   ]
  },
  {
   "cell_type": "code",
   "execution_count": 28,
   "metadata": {},
   "outputs": [],
   "source": [
    "DATA_PATH = \"../../data/\""
   ]
  },
  {
   "cell_type": "markdown",
   "metadata": {},
   "source": [
    "# External datasets\n",
    "\n",
    "We first need to load the datasets we will use to compute the correlations.\n",
    "\n",
    "The preprocessed countries contains the mapping between the different code standards used by each datasets"
   ]
  },
  {
   "cell_type": "code",
   "execution_count": 29,
   "metadata": {},
   "outputs": [
    {
     "data": {
      "text/html": [
       "<div>\n",
       "<style scoped>\n",
       "    .dataframe tbody tr th:only-of-type {\n",
       "        vertical-align: middle;\n",
       "    }\n",
       "\n",
       "    .dataframe tbody tr th {\n",
       "        vertical-align: top;\n",
       "    }\n",
       "\n",
       "    .dataframe thead th {\n",
       "        text-align: right;\n",
       "    }\n",
       "</style>\n",
       "<table border=\"1\" class=\"dataframe\">\n",
       "  <thead>\n",
       "    <tr style=\"text-align: right;\">\n",
       "      <th></th>\n",
       "      <th>Country</th>\n",
       "      <th>Region</th>\n",
       "      <th>FIPS</th>\n",
       "      <th>ISO2</th>\n",
       "      <th>ISO3</th>\n",
       "    </tr>\n",
       "  </thead>\n",
       "  <tbody>\n",
       "    <tr>\n",
       "      <th>0</th>\n",
       "      <td>Afghanistan</td>\n",
       "      <td>Asia</td>\n",
       "      <td>AF</td>\n",
       "      <td>AF</td>\n",
       "      <td>AFG</td>\n",
       "    </tr>\n",
       "    <tr>\n",
       "      <th>1</th>\n",
       "      <td>Albania</td>\n",
       "      <td>Europe</td>\n",
       "      <td>AL</td>\n",
       "      <td>AL</td>\n",
       "      <td>ALB</td>\n",
       "    </tr>\n",
       "    <tr>\n",
       "      <th>2</th>\n",
       "      <td>Algeria</td>\n",
       "      <td>Africa</td>\n",
       "      <td>AG</td>\n",
       "      <td>DZ</td>\n",
       "      <td>DZA</td>\n",
       "    </tr>\n",
       "    <tr>\n",
       "      <th>3</th>\n",
       "      <td>American Samoa</td>\n",
       "      <td>Oceania</td>\n",
       "      <td>AQ</td>\n",
       "      <td>AS</td>\n",
       "      <td>ASM</td>\n",
       "    </tr>\n",
       "    <tr>\n",
       "      <th>4</th>\n",
       "      <td>Andorra</td>\n",
       "      <td>Europe</td>\n",
       "      <td>AN</td>\n",
       "      <td>AD</td>\n",
       "      <td>AND</td>\n",
       "    </tr>\n",
       "  </tbody>\n",
       "</table>\n",
       "</div>"
      ],
      "text/plain": [
       "          Country   Region FIPS ISO2 ISO3\n",
       "0     Afghanistan     Asia   AF   AF  AFG\n",
       "1         Albania   Europe   AL   AL  ALB\n",
       "2         Algeria   Africa   AG   DZ  DZA\n",
       "3  American Samoa  Oceania   AQ   AS  ASM\n",
       "4         Andorra   Europe   AN   AD  AND"
      ]
     },
     "execution_count": 29,
     "metadata": {},
     "output_type": "execute_result"
    }
   ],
   "source": [
    "countries = pd.read_csv(DATA_PATH + \"preprocessed_countries.csv\")\n",
    "countries.Country = countries.Country.astype(str).str.strip()\n",
    "countries.head(5)"
   ]
  },
  {
   "cell_type": "markdown",
   "metadata": {},
   "source": [
    "### Human development index ([source](http://hdr.undp.org/en/content/human-development-index-hdi))\n",
    "\n",
    "The Human Development Index (HDI) is a statistic composite index of life expectancy, education, and per capita income indicators, which are used to rank countries into four tiers of human development."
   ]
  },
  {
   "cell_type": "code",
   "execution_count": 30,
   "metadata": {},
   "outputs": [
    {
     "data": {
      "text/html": [
       "<div>\n",
       "<style scoped>\n",
       "    .dataframe tbody tr th:only-of-type {\n",
       "        vertical-align: middle;\n",
       "    }\n",
       "\n",
       "    .dataframe tbody tr th {\n",
       "        vertical-align: top;\n",
       "    }\n",
       "\n",
       "    .dataframe thead th {\n",
       "        text-align: right;\n",
       "    }\n",
       "</style>\n",
       "<table border=\"1\" class=\"dataframe\">\n",
       "  <thead>\n",
       "    <tr style=\"text-align: right;\">\n",
       "      <th></th>\n",
       "      <th>HDI Rank</th>\n",
       "      <th>Country</th>\n",
       "      <th>ISO3</th>\n",
       "      <th>2015</th>\n",
       "      <th>2016</th>\n",
       "      <th>2017</th>\n",
       "    </tr>\n",
       "  </thead>\n",
       "  <tbody>\n",
       "    <tr>\n",
       "      <th>0</th>\n",
       "      <td>168</td>\n",
       "      <td>Afghanistan</td>\n",
       "      <td>AFG</td>\n",
       "      <td>0.493</td>\n",
       "      <td>0.494</td>\n",
       "      <td>0.498</td>\n",
       "    </tr>\n",
       "    <tr>\n",
       "      <th>1</th>\n",
       "      <td>68</td>\n",
       "      <td>Albania</td>\n",
       "      <td>ALB</td>\n",
       "      <td>0.776</td>\n",
       "      <td>0.782</td>\n",
       "      <td>0.785</td>\n",
       "    </tr>\n",
       "    <tr>\n",
       "      <th>2</th>\n",
       "      <td>85</td>\n",
       "      <td>Algeria</td>\n",
       "      <td>DZA</td>\n",
       "      <td>0.749</td>\n",
       "      <td>0.753</td>\n",
       "      <td>0.754</td>\n",
       "    </tr>\n",
       "    <tr>\n",
       "      <th>3</th>\n",
       "      <td>35</td>\n",
       "      <td>Andorra</td>\n",
       "      <td>AND</td>\n",
       "      <td>0.854</td>\n",
       "      <td>0.856</td>\n",
       "      <td>0.858</td>\n",
       "    </tr>\n",
       "    <tr>\n",
       "      <th>4</th>\n",
       "      <td>147</td>\n",
       "      <td>Angola</td>\n",
       "      <td>AGO</td>\n",
       "      <td>0.572</td>\n",
       "      <td>0.577</td>\n",
       "      <td>0.581</td>\n",
       "    </tr>\n",
       "  </tbody>\n",
       "</table>\n",
       "</div>"
      ],
      "text/plain": [
       "   HDI Rank      Country ISO3   2015   2016   2017\n",
       "0       168  Afghanistan  AFG  0.493  0.494  0.498\n",
       "1        68      Albania  ALB  0.776  0.782  0.785\n",
       "2        85      Algeria  DZA  0.749  0.753  0.754\n",
       "3        35      Andorra  AND  0.854  0.856  0.858\n",
       "4       147       Angola  AGO  0.572  0.577  0.581"
      ]
     },
     "execution_count": 30,
     "metadata": {},
     "output_type": "execute_result"
    }
   ],
   "source": [
    "hdi = pd.read_csv(DATA_PATH + \"external_datasets/human_development_index_2017.csv\")\n",
    "hdi.head(5)"
   ]
  },
  {
   "cell_type": "code",
   "execution_count": 31,
   "metadata": {},
   "outputs": [
    {
     "data": {
      "text/html": [
       "<div>\n",
       "<style scoped>\n",
       "    .dataframe tbody tr th:only-of-type {\n",
       "        vertical-align: middle;\n",
       "    }\n",
       "\n",
       "    .dataframe tbody tr th {\n",
       "        vertical-align: top;\n",
       "    }\n",
       "\n",
       "    .dataframe thead th {\n",
       "        text-align: right;\n",
       "    }\n",
       "</style>\n",
       "<table border=\"1\" class=\"dataframe\">\n",
       "  <thead>\n",
       "    <tr style=\"text-align: right;\">\n",
       "      <th></th>\n",
       "      <th>hdi_2017</th>\n",
       "    </tr>\n",
       "    <tr>\n",
       "      <th>ISO3</th>\n",
       "      <th></th>\n",
       "    </tr>\n",
       "  </thead>\n",
       "  <tbody>\n",
       "    <tr>\n",
       "      <th>AFG</th>\n",
       "      <td>0.498</td>\n",
       "    </tr>\n",
       "    <tr>\n",
       "      <th>ALB</th>\n",
       "      <td>0.785</td>\n",
       "    </tr>\n",
       "    <tr>\n",
       "      <th>DZA</th>\n",
       "      <td>0.754</td>\n",
       "    </tr>\n",
       "    <tr>\n",
       "      <th>AND</th>\n",
       "      <td>0.858</td>\n",
       "    </tr>\n",
       "    <tr>\n",
       "      <th>AGO</th>\n",
       "      <td>0.581</td>\n",
       "    </tr>\n",
       "  </tbody>\n",
       "</table>\n",
       "</div>"
      ],
      "text/plain": [
       "      hdi_2017\n",
       "ISO3          \n",
       "AFG      0.498\n",
       "ALB      0.785\n",
       "DZA      0.754\n",
       "AND      0.858\n",
       "AGO      0.581"
      ]
     },
     "execution_count": 31,
     "metadata": {},
     "output_type": "execute_result"
    }
   ],
   "source": [
    "hdi = hdi.set_index(\"ISO3\")[[\"2017\"]]\n",
    "hdi.rename(columns={\"2017\":\"hdi_2017\"}, inplace=True)\n",
    "hdi.head(5)"
   ]
  },
  {
   "cell_type": "markdown",
   "metadata": {},
   "source": [
    "### Environmental performance index ([source](https://epi.envirocenter.yale.edu/epi-downloads))\n",
    "\n",
    "The Environmental Performance Index (EPI) is a method of quantifying and numerically marking the environmental performance of a state's policies. "
   ]
  },
  {
   "cell_type": "code",
   "execution_count": 32,
   "metadata": {},
   "outputs": [
    {
     "data": {
      "text/html": [
       "<div>\n",
       "<style scoped>\n",
       "    .dataframe tbody tr th:only-of-type {\n",
       "        vertical-align: middle;\n",
       "    }\n",
       "\n",
       "    .dataframe tbody tr th {\n",
       "        vertical-align: top;\n",
       "    }\n",
       "\n",
       "    .dataframe thead th {\n",
       "        text-align: right;\n",
       "    }\n",
       "</style>\n",
       "<table border=\"1\" class=\"dataframe\">\n",
       "  <thead>\n",
       "    <tr style=\"text-align: right;\">\n",
       "      <th></th>\n",
       "      <th>code</th>\n",
       "      <th>iso</th>\n",
       "      <th>country</th>\n",
       "      <th>Pop</th>\n",
       "      <th>PopGrowthRate</th>\n",
       "      <th>PopDensity</th>\n",
       "      <th>GDP</th>\n",
       "      <th>LandArea</th>\n",
       "      <th>GDPpc</th>\n",
       "      <th>SDGI</th>\n",
       "      <th>EPI2018Score</th>\n",
       "      <th>EPI2018Rank</th>\n",
       "    </tr>\n",
       "  </thead>\n",
       "  <tbody>\n",
       "    <tr>\n",
       "      <th>0</th>\n",
       "      <td>4</td>\n",
       "      <td>AFG</td>\n",
       "      <td>Afghanistan</td>\n",
       "      <td>34.656032</td>\n",
       "      <td>2.689163</td>\n",
       "      <td>53.083405</td>\n",
       "      <td>60.287050</td>\n",
       "      <td>652860.0</td>\n",
       "      <td>1739.583177</td>\n",
       "      <td>46.8</td>\n",
       "      <td>37.74</td>\n",
       "      <td>168</td>\n",
       "    </tr>\n",
       "    <tr>\n",
       "      <th>1</th>\n",
       "      <td>8</td>\n",
       "      <td>ALB</td>\n",
       "      <td>Albania</td>\n",
       "      <td>2.876101</td>\n",
       "      <td>-0.159880</td>\n",
       "      <td>104.967190</td>\n",
       "      <td>32.669916</td>\n",
       "      <td>27400.0</td>\n",
       "      <td>11359.099160</td>\n",
       "      <td>68.9</td>\n",
       "      <td>65.46</td>\n",
       "      <td>40</td>\n",
       "    </tr>\n",
       "    <tr>\n",
       "      <th>2</th>\n",
       "      <td>12</td>\n",
       "      <td>DZA</td>\n",
       "      <td>Algeria</td>\n",
       "      <td>40.606052</td>\n",
       "      <td>1.825463</td>\n",
       "      <td>17.048895</td>\n",
       "      <td>565.284000</td>\n",
       "      <td>2381741.0</td>\n",
       "      <td>13921.176080</td>\n",
       "      <td>68.8</td>\n",
       "      <td>57.18</td>\n",
       "      <td>88</td>\n",
       "    </tr>\n",
       "    <tr>\n",
       "      <th>3</th>\n",
       "      <td>24</td>\n",
       "      <td>AGO</td>\n",
       "      <td>Angola</td>\n",
       "      <td>28.813463</td>\n",
       "      <td>3.367572</td>\n",
       "      <td>23.111786</td>\n",
       "      <td>172.438000</td>\n",
       "      <td>1246700.0</td>\n",
       "      <td>5984.632947</td>\n",
       "      <td>50.2</td>\n",
       "      <td>37.44</td>\n",
       "      <td>170</td>\n",
       "    </tr>\n",
       "    <tr>\n",
       "      <th>4</th>\n",
       "      <td>28</td>\n",
       "      <td>ATG</td>\n",
       "      <td>Antigua and Barbuda</td>\n",
       "      <td>0.100963</td>\n",
       "      <td>1.035422</td>\n",
       "      <td>229.461364</td>\n",
       "      <td>2.121537</td>\n",
       "      <td>440.0</td>\n",
       "      <td>21013.017630</td>\n",
       "      <td>NaN</td>\n",
       "      <td>59.18</td>\n",
       "      <td>76</td>\n",
       "    </tr>\n",
       "  </tbody>\n",
       "</table>\n",
       "</div>"
      ],
      "text/plain": [
       "   code  iso              country        Pop  PopGrowthRate  PopDensity  \\\n",
       "0     4  AFG          Afghanistan  34.656032       2.689163   53.083405   \n",
       "1     8  ALB              Albania   2.876101      -0.159880  104.967190   \n",
       "2    12  DZA              Algeria  40.606052       1.825463   17.048895   \n",
       "3    24  AGO               Angola  28.813463       3.367572   23.111786   \n",
       "4    28  ATG  Antigua and Barbuda   0.100963       1.035422  229.461364   \n",
       "\n",
       "          GDP   LandArea         GDPpc  SDGI  EPI2018Score  EPI2018Rank  \n",
       "0   60.287050   652860.0   1739.583177  46.8         37.74          168  \n",
       "1   32.669916    27400.0  11359.099160  68.9         65.46           40  \n",
       "2  565.284000  2381741.0  13921.176080  68.8         57.18           88  \n",
       "3  172.438000  1246700.0   5984.632947  50.2         37.44          170  \n",
       "4    2.121537      440.0  21013.017630   NaN         59.18           76  "
      ]
     },
     "execution_count": 32,
     "metadata": {},
     "output_type": "execute_result"
    }
   ],
   "source": [
    "epi = pd.read_csv(DATA_PATH + \"external_datasets/epi2018countrysnapshotv01.csv\")\n",
    "epi.head(5)"
   ]
  },
  {
   "cell_type": "code",
   "execution_count": 33,
   "metadata": {},
   "outputs": [
    {
     "data": {
      "text/html": [
       "<div>\n",
       "<style scoped>\n",
       "    .dataframe tbody tr th:only-of-type {\n",
       "        vertical-align: middle;\n",
       "    }\n",
       "\n",
       "    .dataframe tbody tr th {\n",
       "        vertical-align: top;\n",
       "    }\n",
       "\n",
       "    .dataframe thead th {\n",
       "        text-align: right;\n",
       "    }\n",
       "</style>\n",
       "<table border=\"1\" class=\"dataframe\">\n",
       "  <thead>\n",
       "    <tr style=\"text-align: right;\">\n",
       "      <th></th>\n",
       "      <th>country</th>\n",
       "      <th>GDPpc</th>\n",
       "      <th>EPI2018Score</th>\n",
       "    </tr>\n",
       "    <tr>\n",
       "      <th>iso</th>\n",
       "      <th></th>\n",
       "      <th></th>\n",
       "      <th></th>\n",
       "    </tr>\n",
       "  </thead>\n",
       "  <tbody>\n",
       "    <tr>\n",
       "      <th>AFG</th>\n",
       "      <td>Afghanistan</td>\n",
       "      <td>1739.583177</td>\n",
       "      <td>37.74</td>\n",
       "    </tr>\n",
       "    <tr>\n",
       "      <th>ALB</th>\n",
       "      <td>Albania</td>\n",
       "      <td>11359.099160</td>\n",
       "      <td>65.46</td>\n",
       "    </tr>\n",
       "    <tr>\n",
       "      <th>DZA</th>\n",
       "      <td>Algeria</td>\n",
       "      <td>13921.176080</td>\n",
       "      <td>57.18</td>\n",
       "    </tr>\n",
       "    <tr>\n",
       "      <th>AGO</th>\n",
       "      <td>Angola</td>\n",
       "      <td>5984.632947</td>\n",
       "      <td>37.44</td>\n",
       "    </tr>\n",
       "    <tr>\n",
       "      <th>ATG</th>\n",
       "      <td>Antigua and Barbuda</td>\n",
       "      <td>21013.017630</td>\n",
       "      <td>59.18</td>\n",
       "    </tr>\n",
       "  </tbody>\n",
       "</table>\n",
       "</div>"
      ],
      "text/plain": [
       "                 country         GDPpc  EPI2018Score\n",
       "iso                                                 \n",
       "AFG          Afghanistan   1739.583177         37.74\n",
       "ALB              Albania  11359.099160         65.46\n",
       "DZA              Algeria  13921.176080         57.18\n",
       "AGO               Angola   5984.632947         37.44\n",
       "ATG  Antigua and Barbuda  21013.017630         59.18"
      ]
     },
     "execution_count": 33,
     "metadata": {},
     "output_type": "execute_result"
    }
   ],
   "source": [
    "epi = epi[[\"iso\", \"country\", \"GDPpc\", \"EPI2018Score\"]]\n",
    "epi = epi.set_index(\"iso\")\n",
    "epi.head(5)"
   ]
  },
  {
   "cell_type": "code",
   "execution_count": 34,
   "metadata": {},
   "outputs": [
    {
     "data": {
      "text/html": [
       "<div>\n",
       "<style scoped>\n",
       "    .dataframe tbody tr th:only-of-type {\n",
       "        vertical-align: middle;\n",
       "    }\n",
       "\n",
       "    .dataframe tbody tr th {\n",
       "        vertical-align: top;\n",
       "    }\n",
       "\n",
       "    .dataframe thead th {\n",
       "        text-align: right;\n",
       "    }\n",
       "</style>\n",
       "<table border=\"1\" class=\"dataframe\">\n",
       "  <thead>\n",
       "    <tr style=\"text-align: right;\">\n",
       "      <th></th>\n",
       "      <th>hdi_2017</th>\n",
       "      <th>country</th>\n",
       "      <th>GDPpc</th>\n",
       "      <th>EPI2018Score</th>\n",
       "      <th>ISO2</th>\n",
       "      <th>Region</th>\n",
       "    </tr>\n",
       "    <tr>\n",
       "      <th>ISO3</th>\n",
       "      <th></th>\n",
       "      <th></th>\n",
       "      <th></th>\n",
       "      <th></th>\n",
       "      <th></th>\n",
       "      <th></th>\n",
       "    </tr>\n",
       "  </thead>\n",
       "  <tbody>\n",
       "    <tr>\n",
       "      <th>AFG</th>\n",
       "      <td>0.498</td>\n",
       "      <td>Afghanistan</td>\n",
       "      <td>1739.583177</td>\n",
       "      <td>37.74</td>\n",
       "      <td>AF</td>\n",
       "      <td>Asia</td>\n",
       "    </tr>\n",
       "    <tr>\n",
       "      <th>AGO</th>\n",
       "      <td>0.581</td>\n",
       "      <td>Angola</td>\n",
       "      <td>5984.632947</td>\n",
       "      <td>37.44</td>\n",
       "      <td>AO</td>\n",
       "      <td>Africa</td>\n",
       "    </tr>\n",
       "    <tr>\n",
       "      <th>ALB</th>\n",
       "      <td>0.785</td>\n",
       "      <td>Albania</td>\n",
       "      <td>11359.099160</td>\n",
       "      <td>65.46</td>\n",
       "      <td>AL</td>\n",
       "      <td>Europe</td>\n",
       "    </tr>\n",
       "    <tr>\n",
       "      <th>AND</th>\n",
       "      <td>0.858</td>\n",
       "      <td>NaN</td>\n",
       "      <td>NaN</td>\n",
       "      <td>NaN</td>\n",
       "      <td>AD</td>\n",
       "      <td>Europe</td>\n",
       "    </tr>\n",
       "    <tr>\n",
       "      <th>ARE</th>\n",
       "      <td>0.863</td>\n",
       "      <td>United Arab Emirates</td>\n",
       "      <td>67133.014840</td>\n",
       "      <td>58.90</td>\n",
       "      <td>AE</td>\n",
       "      <td>Asia</td>\n",
       "    </tr>\n",
       "  </tbody>\n",
       "</table>\n",
       "</div>"
      ],
      "text/plain": [
       "      hdi_2017               country         GDPpc  EPI2018Score ISO2  Region\n",
       "ISO3                                                                         \n",
       "AFG      0.498           Afghanistan   1739.583177         37.74   AF    Asia\n",
       "AGO      0.581                Angola   5984.632947         37.44   AO  Africa\n",
       "ALB      0.785               Albania  11359.099160         65.46   AL  Europe\n",
       "AND      0.858                   NaN           NaN           NaN   AD  Europe\n",
       "ARE      0.863  United Arab Emirates  67133.014840         58.90   AE    Asia"
      ]
     },
     "execution_count": 34,
     "metadata": {},
     "output_type": "execute_result"
    }
   ],
   "source": [
    "external_data = hdi.join(epi).join(countries.set_index(\"ISO3\")[[\"ISO2\", \"Region\"]])\n",
    "external_data.head(5)"
   ]
  },
  {
   "cell_type": "markdown",
   "metadata": {},
   "source": [
    "# Mentions ratios\n",
    "\n",
    "Here we load the mentions ratios with the outliers removed (for details, see [mentions_counts_by_domain_locations.ipynb](../mentions_count/mentions_counts_by_domain_locations.ipynb)) and then we compute the mean ratio for each countries."
   ]
  },
  {
   "cell_type": "code",
   "execution_count": 45,
   "metadata": {},
   "outputs": [],
   "source": [
    "MENTIONS_COUNTS_FILE = DATA_PATH + \"mentions_counts_by_state_and_day_filtered_5themes.csv.NO_OULIERS.csv\""
   ]
  },
  {
   "cell_type": "code",
   "execution_count": 46,
   "metadata": {},
   "outputs": [
    {
     "data": {
      "text/html": [
       "<div>\n",
       "<style scoped>\n",
       "    .dataframe tbody tr th:only-of-type {\n",
       "        vertical-align: middle;\n",
       "    }\n",
       "\n",
       "    .dataframe tbody tr th {\n",
       "        vertical-align: top;\n",
       "    }\n",
       "\n",
       "    .dataframe thead th {\n",
       "        text-align: right;\n",
       "    }\n",
       "</style>\n",
       "<table border=\"1\" class=\"dataframe\">\n",
       "  <thead>\n",
       "    <tr style=\"text-align: right;\">\n",
       "      <th></th>\n",
       "      <th>ISO</th>\n",
       "      <th>GLOBAL_COUNT</th>\n",
       "      <th>ENV_COUNT</th>\n",
       "      <th>Country</th>\n",
       "      <th>Region</th>\n",
       "      <th>DATE</th>\n",
       "      <th>Ratio</th>\n",
       "    </tr>\n",
       "  </thead>\n",
       "  <tbody>\n",
       "    <tr>\n",
       "      <th>33596</th>\n",
       "      <td>CZ</td>\n",
       "      <td>420</td>\n",
       "      <td>1.0</td>\n",
       "      <td>Czechia</td>\n",
       "      <td>Europe</td>\n",
       "      <td>2017-07-05</td>\n",
       "      <td>0.002381</td>\n",
       "    </tr>\n",
       "    <tr>\n",
       "      <th>135785</th>\n",
       "      <td>TZ</td>\n",
       "      <td>533</td>\n",
       "      <td>39.0</td>\n",
       "      <td>Tanzania, United Republic of</td>\n",
       "      <td>Africa</td>\n",
       "      <td>2015-12-22</td>\n",
       "      <td>0.073171</td>\n",
       "    </tr>\n",
       "    <tr>\n",
       "      <th>132110</th>\n",
       "      <td>TN</td>\n",
       "      <td>162</td>\n",
       "      <td>4.0</td>\n",
       "      <td>Tunisia</td>\n",
       "      <td>Africa</td>\n",
       "      <td>2016-11-12</td>\n",
       "      <td>0.024691</td>\n",
       "    </tr>\n",
       "    <tr>\n",
       "      <th>67510</th>\n",
       "      <td>IT</td>\n",
       "      <td>5948</td>\n",
       "      <td>26.0</td>\n",
       "      <td>Italy</td>\n",
       "      <td>Europe</td>\n",
       "      <td>2016-07-03</td>\n",
       "      <td>0.004371</td>\n",
       "    </tr>\n",
       "    <tr>\n",
       "      <th>136336</th>\n",
       "      <td>TZ</td>\n",
       "      <td>370</td>\n",
       "      <td>7.0</td>\n",
       "      <td>Tanzania, United Republic of</td>\n",
       "      <td>Africa</td>\n",
       "      <td>2016-11-10</td>\n",
       "      <td>0.018919</td>\n",
       "    </tr>\n",
       "    <tr>\n",
       "      <th>43434</th>\n",
       "      <td>FI</td>\n",
       "      <td>300</td>\n",
       "      <td>1.0</td>\n",
       "      <td>Finland</td>\n",
       "      <td>Europe</td>\n",
       "      <td>2017-06-19</td>\n",
       "      <td>0.003333</td>\n",
       "    </tr>\n",
       "    <tr>\n",
       "      <th>112218</th>\n",
       "      <td>PT</td>\n",
       "      <td>245</td>\n",
       "      <td>2.0</td>\n",
       "      <td>Portugal</td>\n",
       "      <td>Europe</td>\n",
       "      <td>2017-09-09</td>\n",
       "      <td>0.008163</td>\n",
       "    </tr>\n",
       "    <tr>\n",
       "      <th>2460</th>\n",
       "      <td>AL</td>\n",
       "      <td>220</td>\n",
       "      <td>18.0</td>\n",
       "      <td>Albania</td>\n",
       "      <td>Europe</td>\n",
       "      <td>2017-06-28</td>\n",
       "      <td>0.081818</td>\n",
       "    </tr>\n",
       "    <tr>\n",
       "      <th>7361</th>\n",
       "      <td>AU</td>\n",
       "      <td>16718</td>\n",
       "      <td>652.0</td>\n",
       "      <td>Australia</td>\n",
       "      <td>Oceania</td>\n",
       "      <td>2017-10-16</td>\n",
       "      <td>0.039000</td>\n",
       "    </tr>\n",
       "    <tr>\n",
       "      <th>84306</th>\n",
       "      <td>MA</td>\n",
       "      <td>178</td>\n",
       "      <td>3.0</td>\n",
       "      <td>Morocco</td>\n",
       "      <td>Africa</td>\n",
       "      <td>2015-02-28</td>\n",
       "      <td>0.016854</td>\n",
       "    </tr>\n",
       "  </tbody>\n",
       "</table>\n",
       "</div>"
      ],
      "text/plain": [
       "       ISO  GLOBAL_COUNT  ENV_COUNT                       Country   Region  \\\n",
       "33596   CZ           420        1.0                       Czechia   Europe   \n",
       "135785  TZ           533       39.0  Tanzania, United Republic of   Africa   \n",
       "132110  TN           162        4.0                       Tunisia   Africa   \n",
       "67510   IT          5948       26.0                         Italy   Europe   \n",
       "136336  TZ           370        7.0  Tanzania, United Republic of   Africa   \n",
       "43434   FI           300        1.0                       Finland   Europe   \n",
       "112218  PT           245        2.0                      Portugal   Europe   \n",
       "2460    AL           220       18.0                       Albania   Europe   \n",
       "7361    AU         16718      652.0                     Australia  Oceania   \n",
       "84306   MA           178        3.0                       Morocco   Africa   \n",
       "\n",
       "              DATE     Ratio  \n",
       "33596   2017-07-05  0.002381  \n",
       "135785  2015-12-22  0.073171  \n",
       "132110  2016-11-12  0.024691  \n",
       "67510   2016-07-03  0.004371  \n",
       "136336  2016-11-10  0.018919  \n",
       "43434   2017-06-19  0.003333  \n",
       "112218  2017-09-09  0.008163  \n",
       "2460    2017-06-28  0.081818  \n",
       "7361    2017-10-16  0.039000  \n",
       "84306   2015-02-28  0.016854  "
      ]
     },
     "execution_count": 46,
     "metadata": {},
     "output_type": "execute_result"
    }
   ],
   "source": [
    "mentions_ratios = pd.read_csv(MENTIONS_COUNTS_FILE, index_col=0)\n",
    "mentions_ratios.sample(10)"
   ]
  },
  {
   "cell_type": "code",
   "execution_count": 47,
   "metadata": {},
   "outputs": [],
   "source": [
    "means = mentions_ratios.groupby(\"ISO\").mean()\n",
    "means = means.assign(MEAN=means.ENV_COUNT/means.GLOBAL_COUNT)[[\"MEAN\"]]\n",
    "ratios = means\n",
    "#medians = mentions_ratios.groupby(\"ISO\").median()\n",
    "#medians = medians.assign(MEDIAN=medians.ENV_COUNT/medians.GLOBAL_COUNT)[[\"MEDIAN\"]]\n",
    "#ratios = means.join(medians)"
   ]
  },
  {
   "cell_type": "code",
   "execution_count": 48,
   "metadata": {},
   "outputs": [
    {
     "data": {
      "text/html": [
       "<div>\n",
       "<style scoped>\n",
       "    .dataframe tbody tr th:only-of-type {\n",
       "        vertical-align: middle;\n",
       "    }\n",
       "\n",
       "    .dataframe tbody tr th {\n",
       "        vertical-align: top;\n",
       "    }\n",
       "\n",
       "    .dataframe thead th {\n",
       "        text-align: right;\n",
       "    }\n",
       "</style>\n",
       "<table border=\"1\" class=\"dataframe\">\n",
       "  <thead>\n",
       "    <tr style=\"text-align: right;\">\n",
       "      <th></th>\n",
       "      <th>MEAN</th>\n",
       "    </tr>\n",
       "    <tr>\n",
       "      <th>ISO</th>\n",
       "      <th></th>\n",
       "    </tr>\n",
       "  </thead>\n",
       "  <tbody>\n",
       "    <tr>\n",
       "      <th>MQ</th>\n",
       "      <td>0.542203</td>\n",
       "    </tr>\n",
       "    <tr>\n",
       "      <th>US</th>\n",
       "      <td>0.035341</td>\n",
       "    </tr>\n",
       "    <tr>\n",
       "      <th>GR</th>\n",
       "      <td>0.021962</td>\n",
       "    </tr>\n",
       "    <tr>\n",
       "      <th>AU</th>\n",
       "      <td>0.038321</td>\n",
       "    </tr>\n",
       "    <tr>\n",
       "      <th>AE</th>\n",
       "      <td>0.037336</td>\n",
       "    </tr>\n",
       "    <tr>\n",
       "      <th>LT</th>\n",
       "      <td>0.027309</td>\n",
       "    </tr>\n",
       "    <tr>\n",
       "      <th>IL</th>\n",
       "      <td>0.010201</td>\n",
       "    </tr>\n",
       "    <tr>\n",
       "      <th>SA</th>\n",
       "      <td>0.050039</td>\n",
       "    </tr>\n",
       "    <tr>\n",
       "      <th>KE</th>\n",
       "      <td>0.028531</td>\n",
       "    </tr>\n",
       "    <tr>\n",
       "      <th>MV</th>\n",
       "      <td>0.036500</td>\n",
       "    </tr>\n",
       "  </tbody>\n",
       "</table>\n",
       "</div>"
      ],
      "text/plain": [
       "         MEAN\n",
       "ISO          \n",
       "MQ   0.542203\n",
       "US   0.035341\n",
       "GR   0.021962\n",
       "AU   0.038321\n",
       "AE   0.037336\n",
       "LT   0.027309\n",
       "IL   0.010201\n",
       "SA   0.050039\n",
       "KE   0.028531\n",
       "MV   0.036500"
      ]
     },
     "execution_count": 48,
     "metadata": {},
     "output_type": "execute_result"
    }
   ],
   "source": [
    "ratios.sample(10)"
   ]
  },
  {
   "cell_type": "markdown",
   "metadata": {},
   "source": [
    "# Join to external datasets"
   ]
  },
  {
   "cell_type": "code",
   "execution_count": 49,
   "metadata": {},
   "outputs": [
    {
     "data": {
      "text/html": [
       "<div>\n",
       "<style scoped>\n",
       "    .dataframe tbody tr th:only-of-type {\n",
       "        vertical-align: middle;\n",
       "    }\n",
       "\n",
       "    .dataframe tbody tr th {\n",
       "        vertical-align: top;\n",
       "    }\n",
       "\n",
       "    .dataframe thead th {\n",
       "        text-align: right;\n",
       "    }\n",
       "</style>\n",
       "<table border=\"1\" class=\"dataframe\">\n",
       "  <thead>\n",
       "    <tr style=\"text-align: right;\">\n",
       "      <th></th>\n",
       "      <th>MEAN</th>\n",
       "      <th>hdi_2017</th>\n",
       "      <th>country</th>\n",
       "      <th>GDPpc</th>\n",
       "      <th>EPI2018Score</th>\n",
       "      <th>Region</th>\n",
       "    </tr>\n",
       "  </thead>\n",
       "  <tbody>\n",
       "    <tr>\n",
       "      <th>AD</th>\n",
       "      <td>0.038889</td>\n",
       "      <td>0.858</td>\n",
       "      <td>NaN</td>\n",
       "      <td>NaN</td>\n",
       "      <td>NaN</td>\n",
       "      <td>Europe</td>\n",
       "    </tr>\n",
       "    <tr>\n",
       "      <th>AE</th>\n",
       "      <td>0.037336</td>\n",
       "      <td>0.863</td>\n",
       "      <td>United Arab Emirates</td>\n",
       "      <td>67133.014840</td>\n",
       "      <td>58.90</td>\n",
       "      <td>Asia</td>\n",
       "    </tr>\n",
       "    <tr>\n",
       "      <th>AF</th>\n",
       "      <td>0.049024</td>\n",
       "      <td>0.498</td>\n",
       "      <td>Afghanistan</td>\n",
       "      <td>1739.583177</td>\n",
       "      <td>37.74</td>\n",
       "      <td>Asia</td>\n",
       "    </tr>\n",
       "    <tr>\n",
       "      <th>AG</th>\n",
       "      <td>0.285182</td>\n",
       "      <td>0.780</td>\n",
       "      <td>Antigua and Barbuda</td>\n",
       "      <td>21013.017630</td>\n",
       "      <td>59.18</td>\n",
       "      <td>Americas</td>\n",
       "    </tr>\n",
       "    <tr>\n",
       "      <th>AI</th>\n",
       "      <td>0.659288</td>\n",
       "      <td>NaN</td>\n",
       "      <td>NaN</td>\n",
       "      <td>NaN</td>\n",
       "      <td>NaN</td>\n",
       "      <td>NaN</td>\n",
       "    </tr>\n",
       "  </tbody>\n",
       "</table>\n",
       "</div>"
      ],
      "text/plain": [
       "        MEAN  hdi_2017               country         GDPpc  EPI2018Score  \\\n",
       "AD  0.038889     0.858                   NaN           NaN           NaN   \n",
       "AE  0.037336     0.863  United Arab Emirates  67133.014840         58.90   \n",
       "AF  0.049024     0.498           Afghanistan   1739.583177         37.74   \n",
       "AG  0.285182     0.780   Antigua and Barbuda  21013.017630         59.18   \n",
       "AI  0.659288       NaN                   NaN           NaN           NaN   \n",
       "\n",
       "      Region  \n",
       "AD    Europe  \n",
       "AE      Asia  \n",
       "AF      Asia  \n",
       "AG  Americas  \n",
       "AI       NaN  "
      ]
     },
     "execution_count": 49,
     "metadata": {},
     "output_type": "execute_result"
    }
   ],
   "source": [
    "joined = ratios.join(external_data.set_index(\"ISO2\", drop=True), how=\"left\")\n",
    "joined = joined[joined.Region != \"Oceania\"]\n",
    "joined.head(5)"
   ]
  },
  {
   "cell_type": "code",
   "execution_count": 50,
   "metadata": {},
   "outputs": [
    {
     "data": {
      "text/html": [
       "<div>\n",
       "<style scoped>\n",
       "    .dataframe tbody tr th:only-of-type {\n",
       "        vertical-align: middle;\n",
       "    }\n",
       "\n",
       "    .dataframe tbody tr th {\n",
       "        vertical-align: top;\n",
       "    }\n",
       "\n",
       "    .dataframe thead th {\n",
       "        text-align: right;\n",
       "    }\n",
       "</style>\n",
       "<table border=\"1\" class=\"dataframe\">\n",
       "  <thead>\n",
       "    <tr style=\"text-align: right;\">\n",
       "      <th></th>\n",
       "      <th>MEAN</th>\n",
       "      <th>hdi_2017</th>\n",
       "      <th>GDPpc</th>\n",
       "      <th>EPI2018Score</th>\n",
       "    </tr>\n",
       "  </thead>\n",
       "  <tbody>\n",
       "    <tr>\n",
       "      <th>count</th>\n",
       "      <td>216.000000</td>\n",
       "      <td>181.000000</td>\n",
       "      <td>172.000000</td>\n",
       "      <td>172.000000</td>\n",
       "    </tr>\n",
       "    <tr>\n",
       "      <th>mean</th>\n",
       "      <td>0.085147</td>\n",
       "      <td>0.712541</td>\n",
       "      <td>18297.231215</td>\n",
       "      <td>56.714826</td>\n",
       "    </tr>\n",
       "    <tr>\n",
       "      <th>std</th>\n",
       "      <td>0.147496</td>\n",
       "      <td>0.155464</td>\n",
       "      <td>19356.563508</td>\n",
       "      <td>13.174585</td>\n",
       "    </tr>\n",
       "    <tr>\n",
       "      <th>min</th>\n",
       "      <td>0.007947</td>\n",
       "      <td>0.354000</td>\n",
       "      <td>647.880445</td>\n",
       "      <td>27.430000</td>\n",
       "    </tr>\n",
       "    <tr>\n",
       "      <th>25%</th>\n",
       "      <td>0.026083</td>\n",
       "      <td>0.589000</td>\n",
       "      <td>4284.816516</td>\n",
       "      <td>46.247500</td>\n",
       "    </tr>\n",
       "    <tr>\n",
       "      <th>50%</th>\n",
       "      <td>0.037144</td>\n",
       "      <td>0.747000</td>\n",
       "      <td>12657.471790</td>\n",
       "      <td>57.060000</td>\n",
       "    </tr>\n",
       "    <tr>\n",
       "      <th>75%</th>\n",
       "      <td>0.063293</td>\n",
       "      <td>0.838000</td>\n",
       "      <td>25021.809900</td>\n",
       "      <td>64.987500</td>\n",
       "    </tr>\n",
       "    <tr>\n",
       "      <th>max</th>\n",
       "      <td>0.938528</td>\n",
       "      <td>0.953000</td>\n",
       "      <td>118207.069500</td>\n",
       "      <td>87.420000</td>\n",
       "    </tr>\n",
       "  </tbody>\n",
       "</table>\n",
       "</div>"
      ],
      "text/plain": [
       "             MEAN    hdi_2017          GDPpc  EPI2018Score\n",
       "count  216.000000  181.000000     172.000000    172.000000\n",
       "mean     0.085147    0.712541   18297.231215     56.714826\n",
       "std      0.147496    0.155464   19356.563508     13.174585\n",
       "min      0.007947    0.354000     647.880445     27.430000\n",
       "25%      0.026083    0.589000    4284.816516     46.247500\n",
       "50%      0.037144    0.747000   12657.471790     57.060000\n",
       "75%      0.063293    0.838000   25021.809900     64.987500\n",
       "max      0.938528    0.953000  118207.069500     87.420000"
      ]
     },
     "execution_count": 50,
     "metadata": {},
     "output_type": "execute_result"
    }
   ],
   "source": [
    "joined.describe()"
   ]
  },
  {
   "cell_type": "code",
   "execution_count": 51,
   "metadata": {},
   "outputs": [],
   "source": [
    "def lmplot(data, x, y=\"MEAN\", title=\"\", world=False, figsize=(12,6)):\n",
    "    plt.figure(figsize=figsize)\n",
    "    plt.suptitle(title)\n",
    "    sns.lmplot(x, y, data=data, col=\"Region\" if not world else None, robust=True)"
   ]
  },
  {
   "cell_type": "code",
   "execution_count": 52,
   "metadata": {},
   "outputs": [
    {
     "data": {
      "text/plain": [
       "<Figure size 864x432 with 0 Axes>"
      ]
     },
     "metadata": {},
     "output_type": "display_data"
    },
    {
     "data": {
      "image/png": "[encoded data removed]",
      "text/plain": [
       "<Figure size 360x360 with 1 Axes>"
      ]
     },
     "metadata": {
      "needs_background": "light"
     },
     "output_type": "display_data"
    },
    {
     "data": {
      "text/plain": [
       "<Figure size 864x432 with 0 Axes>"
      ]
     },
     "metadata": {},
     "output_type": "display_data"
    },
    {
     "data": {
      "image/png": "[encoded data removed]",
      "text/plain": [
       "<Figure size 1440x360 with 4 Axes>"
      ]
     },
     "metadata": {
      "needs_background": "light"
     },
     "output_type": "display_data"
    }
   ],
   "source": [
    "lmplot(joined, \"hdi_2017\", \"MEAN\", \"Human development index vs ratio mean\", world=True)\n",
    "lmplot(joined, \"hdi_2017\", \"MEAN\", \"Human development index vs ratio mean\", world=False)"
   ]
  },
  {
   "cell_type": "code",
   "execution_count": 53,
   "metadata": {},
   "outputs": [
    {
     "data": {
      "text/plain": [
       "<Figure size 864x432 with 0 Axes>"
      ]
     },
     "metadata": {},
     "output_type": "display_data"
    },
    {
     "data": {
      "image/png": "[encoded data removed]",
      "text/plain": [
       "<Figure size 360x360 with 1 Axes>"
      ]
     },
     "metadata": {
      "needs_background": "light"
     },
     "output_type": "display_data"
    },
    {
     "data": {
      "text/plain": [
       "<Figure size 864x432 with 0 Axes>"
      ]
     },
     "metadata": {},
     "output_type": "display_data"
    },
    {
     "data": {
      "image/png": "[encoded data removed]",
      "text/plain": [
       "<Figure size 1440x360 with 4 Axes>"
      ]
     },
     "metadata": {
      "needs_background": "light"
     },
     "output_type": "display_data"
    }
   ],
   "source": [
    "lmplot(joined, \"EPI2018Score\", \"MEAN\", \"Environmental performance index vs ratio mean\", world=True)\n",
    "lmplot(joined, \"EPI2018Score\", \"MEAN\", \"Environmental performance index vs ratio mean\", world=False)"
   ]
  },
  {
   "cell_type": "code",
   "execution_count": 54,
   "metadata": {},
   "outputs": [
    {
     "data": {
      "text/plain": [
       "<Figure size 864x432 with 0 Axes>"
      ]
     },
     "metadata": {},
     "output_type": "display_data"
    },
    {
     "data": {
      "image/png": "[encoded data removed]",
      "text/plain": [
       "<Figure size 360x360 with 1 Axes>"
      ]
     },
     "metadata": {
      "needs_background": "light"
     },
     "output_type": "display_data"
    },
    {
     "data": {
      "text/plain": [
       "<Figure size 864x432 with 0 Axes>"
      ]
     },
     "metadata": {},
     "output_type": "display_data"
    },
    {
     "data": {
      "image/png": "[encoded data removed]",
      "text/plain": [
       "<Figure size 1440x360 with 4 Axes>"
      ]
     },
     "metadata": {
      "needs_background": "light"
     },
     "output_type": "display_data"
    }
   ],
   "source": [
    "lmplot(joined, \"GDPpc\", \"MEAN\", \"GDP per capita vs ratio mean\", world=True)\n",
    "lmplot(joined, \"GDPpc\", \"MEAN\", \"GDP per capita vs ratio mean\", world=False)"
   ]
  }
 ],
 "metadata": {
  "kernelspec": {
   "display_name": "Python [default]",
   "language": "python",
   "name": "python3"
  },
  "language_info": {
   "codemirror_mode": {
    "name": "ipython",
    "version": 3
   },
   "file_extension": ".py",
   "mimetype": "text/x-python",
   "name": "python",
   "nbconvert_exporter": "python",
   "pygments_lexer": "ipython3",
   "version": "3.6.6"
  }
 },
 "nbformat": 4,
 "nbformat_minor": 2
}
