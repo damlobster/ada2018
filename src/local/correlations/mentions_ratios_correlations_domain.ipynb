{
 "cells": [
  {
   "cell_type": "code",
   "execution_count": 18,
   "metadata": {},
   "outputs": [],
   "source": [
    "import numpy as np\n",
    "import pandas as pd\n",
    "import seaborn as sns\n",
    "import matplotlib.pyplot as plt\n",
    "\n",
    "import sys\n",
    "sys.path.append(\"..\")\n",
    "\n",
    "from helper import load_countries, join_countries"
   ]
  },
  {
   "cell_type": "code",
   "execution_count": 19,
   "metadata": {},
   "outputs": [],
   "source": [
    "DATA_PATH = \"../../data/\""
   ]
  },
  {
   "cell_type": "markdown",
   "metadata": {},
   "source": [
    "# External datasets\n",
    "\n",
    "We first need to load the datasets we will use to compute the correlations.\n",
    "\n",
    "The preprocessed countries contains the mapping between the different code standards used by each datasets"
   ]
  },
  {
   "cell_type": "code",
   "execution_count": 20,
   "metadata": {},
   "outputs": [
    {
     "data": {
      "text/html": [
       "<div>\n",
       "<style scoped>\n",
       "    .dataframe tbody tr th:only-of-type {\n",
       "        vertical-align: middle;\n",
       "    }\n",
       "\n",
       "    .dataframe tbody tr th {\n",
       "        vertical-align: top;\n",
       "    }\n",
       "\n",
       "    .dataframe thead th {\n",
       "        text-align: right;\n",
       "    }\n",
       "</style>\n",
       "<table border=\"1\" class=\"dataframe\">\n",
       "  <thead>\n",
       "    <tr style=\"text-align: right;\">\n",
       "      <th></th>\n",
       "      <th>Country</th>\n",
       "      <th>Region</th>\n",
       "      <th>FIPS</th>\n",
       "      <th>ISO2</th>\n",
       "      <th>ISO3</th>\n",
       "    </tr>\n",
       "  </thead>\n",
       "  <tbody>\n",
       "    <tr>\n",
       "      <th>0</th>\n",
       "      <td>Afghanistan</td>\n",
       "      <td>Asia</td>\n",
       "      <td>AF</td>\n",
       "      <td>AF</td>\n",
       "      <td>AFG</td>\n",
       "    </tr>\n",
       "    <tr>\n",
       "      <th>1</th>\n",
       "      <td>Albania</td>\n",
       "      <td>Europe</td>\n",
       "      <td>AL</td>\n",
       "      <td>AL</td>\n",
       "      <td>ALB</td>\n",
       "    </tr>\n",
       "    <tr>\n",
       "      <th>2</th>\n",
       "      <td>Algeria</td>\n",
       "      <td>Africa</td>\n",
       "      <td>AG</td>\n",
       "      <td>DZ</td>\n",
       "      <td>DZA</td>\n",
       "    </tr>\n",
       "    <tr>\n",
       "      <th>3</th>\n",
       "      <td>American Samoa</td>\n",
       "      <td>Oceania</td>\n",
       "      <td>AQ</td>\n",
       "      <td>AS</td>\n",
       "      <td>ASM</td>\n",
       "    </tr>\n",
       "    <tr>\n",
       "      <th>4</th>\n",
       "      <td>Andorra</td>\n",
       "      <td>Europe</td>\n",
       "      <td>AN</td>\n",
       "      <td>AD</td>\n",
       "      <td>AND</td>\n",
       "    </tr>\n",
       "  </tbody>\n",
       "</table>\n",
       "</div>"
      ],
      "text/plain": [
       "          Country   Region FIPS ISO2 ISO3\n",
       "0     Afghanistan     Asia   AF   AF  AFG\n",
       "1         Albania   Europe   AL   AL  ALB\n",
       "2         Algeria   Africa   AG   DZ  DZA\n",
       "3  American Samoa  Oceania   AQ   AS  ASM\n",
       "4         Andorra   Europe   AN   AD  AND"
      ]
     },
     "execution_count": 20,
     "metadata": {},
     "output_type": "execute_result"
    }
   ],
   "source": [
    "countries = pd.read_csv(DATA_PATH + \"local_generated/preprocessed_countries.csv\")\n",
    "countries.Country = countries.Country.astype(str).str.strip()\n",
    "countries.head(5)"
   ]
  },
  {
   "cell_type": "markdown",
   "metadata": {},
   "source": [
    "### Human development index ([source](http://hdr.undp.org/en/content/human-development-index-hdi))\n",
    "\n",
    "The Human Development Index (HDI) is a statistic composite index of life expectancy, education, and per capita income indicators, which are used to rank countries into four tiers of human development."
   ]
  },
  {
   "cell_type": "code",
   "execution_count": 21,
   "metadata": {},
   "outputs": [
    {
     "data": {
      "text/html": [
       "<div>\n",
       "<style scoped>\n",
       "    .dataframe tbody tr th:only-of-type {\n",
       "        vertical-align: middle;\n",
       "    }\n",
       "\n",
       "    .dataframe tbody tr th {\n",
       "        vertical-align: top;\n",
       "    }\n",
       "\n",
       "    .dataframe thead th {\n",
       "        text-align: right;\n",
       "    }\n",
       "</style>\n",
       "<table border=\"1\" class=\"dataframe\">\n",
       "  <thead>\n",
       "    <tr style=\"text-align: right;\">\n",
       "      <th></th>\n",
       "      <th>HDI Rank</th>\n",
       "      <th>Country</th>\n",
       "      <th>ISO3</th>\n",
       "      <th>2015</th>\n",
       "      <th>2016</th>\n",
       "      <th>2017</th>\n",
       "    </tr>\n",
       "  </thead>\n",
       "  <tbody>\n",
       "    <tr>\n",
       "      <th>0</th>\n",
       "      <td>168</td>\n",
       "      <td>Afghanistan</td>\n",
       "      <td>AFG</td>\n",
       "      <td>0.493</td>\n",
       "      <td>0.494</td>\n",
       "      <td>0.498</td>\n",
       "    </tr>\n",
       "    <tr>\n",
       "      <th>1</th>\n",
       "      <td>68</td>\n",
       "      <td>Albania</td>\n",
       "      <td>ALB</td>\n",
       "      <td>0.776</td>\n",
       "      <td>0.782</td>\n",
       "      <td>0.785</td>\n",
       "    </tr>\n",
       "    <tr>\n",
       "      <th>2</th>\n",
       "      <td>85</td>\n",
       "      <td>Algeria</td>\n",
       "      <td>DZA</td>\n",
       "      <td>0.749</td>\n",
       "      <td>0.753</td>\n",
       "      <td>0.754</td>\n",
       "    </tr>\n",
       "    <tr>\n",
       "      <th>3</th>\n",
       "      <td>35</td>\n",
       "      <td>Andorra</td>\n",
       "      <td>AND</td>\n",
       "      <td>0.854</td>\n",
       "      <td>0.856</td>\n",
       "      <td>0.858</td>\n",
       "    </tr>\n",
       "    <tr>\n",
       "      <th>4</th>\n",
       "      <td>147</td>\n",
       "      <td>Angola</td>\n",
       "      <td>AGO</td>\n",
       "      <td>0.572</td>\n",
       "      <td>0.577</td>\n",
       "      <td>0.581</td>\n",
       "    </tr>\n",
       "  </tbody>\n",
       "</table>\n",
       "</div>"
      ],
      "text/plain": [
       "   HDI Rank      Country ISO3   2015   2016   2017\n",
       "0       168  Afghanistan  AFG  0.493  0.494  0.498\n",
       "1        68      Albania  ALB  0.776  0.782  0.785\n",
       "2        85      Algeria  DZA  0.749  0.753  0.754\n",
       "3        35      Andorra  AND  0.854  0.856  0.858\n",
       "4       147       Angola  AGO  0.572  0.577  0.581"
      ]
     },
     "execution_count": 21,
     "metadata": {},
     "output_type": "execute_result"
    }
   ],
   "source": [
    "hdi = pd.read_csv(DATA_PATH + \"external_datasets/human_development_index_2017.csv\")\n",
    "hdi.head(5)"
   ]
  },
  {
   "cell_type": "code",
   "execution_count": 22,
   "metadata": {},
   "outputs": [
    {
     "data": {
      "text/html": [
       "<div>\n",
       "<style scoped>\n",
       "    .dataframe tbody tr th:only-of-type {\n",
       "        vertical-align: middle;\n",
       "    }\n",
       "\n",
       "    .dataframe tbody tr th {\n",
       "        vertical-align: top;\n",
       "    }\n",
       "\n",
       "    .dataframe thead th {\n",
       "        text-align: right;\n",
       "    }\n",
       "</style>\n",
       "<table border=\"1\" class=\"dataframe\">\n",
       "  <thead>\n",
       "    <tr style=\"text-align: right;\">\n",
       "      <th></th>\n",
       "      <th>hdi_2017</th>\n",
       "    </tr>\n",
       "    <tr>\n",
       "      <th>ISO3</th>\n",
       "      <th></th>\n",
       "    </tr>\n",
       "  </thead>\n",
       "  <tbody>\n",
       "    <tr>\n",
       "      <th>AFG</th>\n",
       "      <td>0.498</td>\n",
       "    </tr>\n",
       "    <tr>\n",
       "      <th>ALB</th>\n",
       "      <td>0.785</td>\n",
       "    </tr>\n",
       "    <tr>\n",
       "      <th>DZA</th>\n",
       "      <td>0.754</td>\n",
       "    </tr>\n",
       "    <tr>\n",
       "      <th>AND</th>\n",
       "      <td>0.858</td>\n",
       "    </tr>\n",
       "    <tr>\n",
       "      <th>AGO</th>\n",
       "      <td>0.581</td>\n",
       "    </tr>\n",
       "  </tbody>\n",
       "</table>\n",
       "</div>"
      ],
      "text/plain": [
       "      hdi_2017\n",
       "ISO3          \n",
       "AFG      0.498\n",
       "ALB      0.785\n",
       "DZA      0.754\n",
       "AND      0.858\n",
       "AGO      0.581"
      ]
     },
     "execution_count": 22,
     "metadata": {},
     "output_type": "execute_result"
    }
   ],
   "source": [
    "hdi = hdi.set_index(\"ISO3\")[[\"2017\"]]\n",
    "hdi.rename(columns={\"2017\":\"hdi_2017\"}, inplace=True)\n",
    "hdi.head(5)"
   ]
  },
  {
   "cell_type": "markdown",
   "metadata": {},
   "source": [
    "### Environmental performance index ([source](https://epi.envirocenter.yale.edu/epi-downloads))\n",
    "\n",
    "The Environmental Performance Index (EPI) is a method of quantifying and numerically marking the environmental performance of a state's policies. "
   ]
  },
  {
   "cell_type": "code",
   "execution_count": 23,
   "metadata": {},
   "outputs": [
    {
     "data": {
      "text/html": [
       "<div>\n",
       "<style scoped>\n",
       "    .dataframe tbody tr th:only-of-type {\n",
       "        vertical-align: middle;\n",
       "    }\n",
       "\n",
       "    .dataframe tbody tr th {\n",
       "        vertical-align: top;\n",
       "    }\n",
       "\n",
       "    .dataframe thead th {\n",
       "        text-align: right;\n",
       "    }\n",
       "</style>\n",
       "<table border=\"1\" class=\"dataframe\">\n",
       "  <thead>\n",
       "    <tr style=\"text-align: right;\">\n",
       "      <th></th>\n",
       "      <th>code</th>\n",
       "      <th>iso</th>\n",
       "      <th>country</th>\n",
       "      <th>Pop</th>\n",
       "      <th>PopGrowthRate</th>\n",
       "      <th>PopDensity</th>\n",
       "      <th>GDP</th>\n",
       "      <th>LandArea</th>\n",
       "      <th>GDPpc</th>\n",
       "      <th>SDGI</th>\n",
       "      <th>EPI2018Score</th>\n",
       "      <th>EPI2018Rank</th>\n",
       "    </tr>\n",
       "  </thead>\n",
       "  <tbody>\n",
       "    <tr>\n",
       "      <th>0</th>\n",
       "      <td>4</td>\n",
       "      <td>AFG</td>\n",
       "      <td>Afghanistan</td>\n",
       "      <td>34.656032</td>\n",
       "      <td>2.689163</td>\n",
       "      <td>53.083405</td>\n",
       "      <td>60.287050</td>\n",
       "      <td>652860.0</td>\n",
       "      <td>1739.583177</td>\n",
       "      <td>46.8</td>\n",
       "      <td>37.74</td>\n",
       "      <td>168</td>\n",
       "    </tr>\n",
       "    <tr>\n",
       "      <th>1</th>\n",
       "      <td>8</td>\n",
       "      <td>ALB</td>\n",
       "      <td>Albania</td>\n",
       "      <td>2.876101</td>\n",
       "      <td>-0.159880</td>\n",
       "      <td>104.967190</td>\n",
       "      <td>32.669916</td>\n",
       "      <td>27400.0</td>\n",
       "      <td>11359.099160</td>\n",
       "      <td>68.9</td>\n",
       "      <td>65.46</td>\n",
       "      <td>40</td>\n",
       "    </tr>\n",
       "    <tr>\n",
       "      <th>2</th>\n",
       "      <td>12</td>\n",
       "      <td>DZA</td>\n",
       "      <td>Algeria</td>\n",
       "      <td>40.606052</td>\n",
       "      <td>1.825463</td>\n",
       "      <td>17.048895</td>\n",
       "      <td>565.284000</td>\n",
       "      <td>2381741.0</td>\n",
       "      <td>13921.176080</td>\n",
       "      <td>68.8</td>\n",
       "      <td>57.18</td>\n",
       "      <td>88</td>\n",
       "    </tr>\n",
       "    <tr>\n",
       "      <th>3</th>\n",
       "      <td>24</td>\n",
       "      <td>AGO</td>\n",
       "      <td>Angola</td>\n",
       "      <td>28.813463</td>\n",
       "      <td>3.367572</td>\n",
       "      <td>23.111786</td>\n",
       "      <td>172.438000</td>\n",
       "      <td>1246700.0</td>\n",
       "      <td>5984.632947</td>\n",
       "      <td>50.2</td>\n",
       "      <td>37.44</td>\n",
       "      <td>170</td>\n",
       "    </tr>\n",
       "    <tr>\n",
       "      <th>4</th>\n",
       "      <td>28</td>\n",
       "      <td>ATG</td>\n",
       "      <td>Antigua and Barbuda</td>\n",
       "      <td>0.100963</td>\n",
       "      <td>1.035422</td>\n",
       "      <td>229.461364</td>\n",
       "      <td>2.121537</td>\n",
       "      <td>440.0</td>\n",
       "      <td>21013.017630</td>\n",
       "      <td>NaN</td>\n",
       "      <td>59.18</td>\n",
       "      <td>76</td>\n",
       "    </tr>\n",
       "  </tbody>\n",
       "</table>\n",
       "</div>"
      ],
      "text/plain": [
       "   code  iso              country        Pop  PopGrowthRate  PopDensity  \\\n",
       "0     4  AFG          Afghanistan  34.656032       2.689163   53.083405   \n",
       "1     8  ALB              Albania   2.876101      -0.159880  104.967190   \n",
       "2    12  DZA              Algeria  40.606052       1.825463   17.048895   \n",
       "3    24  AGO               Angola  28.813463       3.367572   23.111786   \n",
       "4    28  ATG  Antigua and Barbuda   0.100963       1.035422  229.461364   \n",
       "\n",
       "          GDP   LandArea         GDPpc  SDGI  EPI2018Score  EPI2018Rank  \n",
       "0   60.287050   652860.0   1739.583177  46.8         37.74          168  \n",
       "1   32.669916    27400.0  11359.099160  68.9         65.46           40  \n",
       "2  565.284000  2381741.0  13921.176080  68.8         57.18           88  \n",
       "3  172.438000  1246700.0   5984.632947  50.2         37.44          170  \n",
       "4    2.121537      440.0  21013.017630   NaN         59.18           76  "
      ]
     },
     "execution_count": 23,
     "metadata": {},
     "output_type": "execute_result"
    }
   ],
   "source": [
    "epi = pd.read_csv(DATA_PATH + \"external_datasets/epi2018countrysnapshotv01.csv\")\n",
    "epi.head(5)"
   ]
  },
  {
   "cell_type": "code",
   "execution_count": 24,
   "metadata": {},
   "outputs": [
    {
     "data": {
      "text/html": [
       "<div>\n",
       "<style scoped>\n",
       "    .dataframe tbody tr th:only-of-type {\n",
       "        vertical-align: middle;\n",
       "    }\n",
       "\n",
       "    .dataframe tbody tr th {\n",
       "        vertical-align: top;\n",
       "    }\n",
       "\n",
       "    .dataframe thead th {\n",
       "        text-align: right;\n",
       "    }\n",
       "</style>\n",
       "<table border=\"1\" class=\"dataframe\">\n",
       "  <thead>\n",
       "    <tr style=\"text-align: right;\">\n",
       "      <th></th>\n",
       "      <th>country</th>\n",
       "      <th>GDPpc</th>\n",
       "      <th>EPI2018Score</th>\n",
       "    </tr>\n",
       "    <tr>\n",
       "      <th>iso</th>\n",
       "      <th></th>\n",
       "      <th></th>\n",
       "      <th></th>\n",
       "    </tr>\n",
       "  </thead>\n",
       "  <tbody>\n",
       "    <tr>\n",
       "      <th>AFG</th>\n",
       "      <td>Afghanistan</td>\n",
       "      <td>1739.583177</td>\n",
       "      <td>37.74</td>\n",
       "    </tr>\n",
       "    <tr>\n",
       "      <th>ALB</th>\n",
       "      <td>Albania</td>\n",
       "      <td>11359.099160</td>\n",
       "      <td>65.46</td>\n",
       "    </tr>\n",
       "    <tr>\n",
       "      <th>DZA</th>\n",
       "      <td>Algeria</td>\n",
       "      <td>13921.176080</td>\n",
       "      <td>57.18</td>\n",
       "    </tr>\n",
       "    <tr>\n",
       "      <th>AGO</th>\n",
       "      <td>Angola</td>\n",
       "      <td>5984.632947</td>\n",
       "      <td>37.44</td>\n",
       "    </tr>\n",
       "    <tr>\n",
       "      <th>ATG</th>\n",
       "      <td>Antigua and Barbuda</td>\n",
       "      <td>21013.017630</td>\n",
       "      <td>59.18</td>\n",
       "    </tr>\n",
       "  </tbody>\n",
       "</table>\n",
       "</div>"
      ],
      "text/plain": [
       "                 country         GDPpc  EPI2018Score\n",
       "iso                                                 \n",
       "AFG          Afghanistan   1739.583177         37.74\n",
       "ALB              Albania  11359.099160         65.46\n",
       "DZA              Algeria  13921.176080         57.18\n",
       "AGO               Angola   5984.632947         37.44\n",
       "ATG  Antigua and Barbuda  21013.017630         59.18"
      ]
     },
     "execution_count": 24,
     "metadata": {},
     "output_type": "execute_result"
    }
   ],
   "source": [
    "epi = epi[[\"iso\", \"country\", \"GDPpc\", \"EPI2018Score\"]]\n",
    "epi = epi.set_index(\"iso\")\n",
    "epi.head(5)"
   ]
  },
  {
   "cell_type": "code",
   "execution_count": 25,
   "metadata": {},
   "outputs": [
    {
     "data": {
      "text/html": [
       "<div>\n",
       "<style scoped>\n",
       "    .dataframe tbody tr th:only-of-type {\n",
       "        vertical-align: middle;\n",
       "    }\n",
       "\n",
       "    .dataframe tbody tr th {\n",
       "        vertical-align: top;\n",
       "    }\n",
       "\n",
       "    .dataframe thead th {\n",
       "        text-align: right;\n",
       "    }\n",
       "</style>\n",
       "<table border=\"1\" class=\"dataframe\">\n",
       "  <thead>\n",
       "    <tr style=\"text-align: right;\">\n",
       "      <th></th>\n",
       "      <th>hdi_2017</th>\n",
       "      <th>country</th>\n",
       "      <th>GDPpc</th>\n",
       "      <th>EPI2018Score</th>\n",
       "      <th>ISO2</th>\n",
       "      <th>Region</th>\n",
       "    </tr>\n",
       "    <tr>\n",
       "      <th>ISO3</th>\n",
       "      <th></th>\n",
       "      <th></th>\n",
       "      <th></th>\n",
       "      <th></th>\n",
       "      <th></th>\n",
       "      <th></th>\n",
       "    </tr>\n",
       "  </thead>\n",
       "  <tbody>\n",
       "    <tr>\n",
       "      <th>AFG</th>\n",
       "      <td>0.498</td>\n",
       "      <td>Afghanistan</td>\n",
       "      <td>1739.583177</td>\n",
       "      <td>37.74</td>\n",
       "      <td>AF</td>\n",
       "      <td>Asia</td>\n",
       "    </tr>\n",
       "    <tr>\n",
       "      <th>AGO</th>\n",
       "      <td>0.581</td>\n",
       "      <td>Angola</td>\n",
       "      <td>5984.632947</td>\n",
       "      <td>37.44</td>\n",
       "      <td>AO</td>\n",
       "      <td>Africa</td>\n",
       "    </tr>\n",
       "    <tr>\n",
       "      <th>ALB</th>\n",
       "      <td>0.785</td>\n",
       "      <td>Albania</td>\n",
       "      <td>11359.099160</td>\n",
       "      <td>65.46</td>\n",
       "      <td>AL</td>\n",
       "      <td>Europe</td>\n",
       "    </tr>\n",
       "    <tr>\n",
       "      <th>AND</th>\n",
       "      <td>0.858</td>\n",
       "      <td>NaN</td>\n",
       "      <td>NaN</td>\n",
       "      <td>NaN</td>\n",
       "      <td>AD</td>\n",
       "      <td>Europe</td>\n",
       "    </tr>\n",
       "    <tr>\n",
       "      <th>ARE</th>\n",
       "      <td>0.863</td>\n",
       "      <td>United Arab Emirates</td>\n",
       "      <td>67133.014840</td>\n",
       "      <td>58.90</td>\n",
       "      <td>AE</td>\n",
       "      <td>Asia</td>\n",
       "    </tr>\n",
       "  </tbody>\n",
       "</table>\n",
       "</div>"
      ],
      "text/plain": [
       "      hdi_2017               country         GDPpc  EPI2018Score ISO2  Region\n",
       "ISO3                                                                         \n",
       "AFG      0.498           Afghanistan   1739.583177         37.74   AF    Asia\n",
       "AGO      0.581                Angola   5984.632947         37.44   AO  Africa\n",
       "ALB      0.785               Albania  11359.099160         65.46   AL  Europe\n",
       "AND      0.858                   NaN           NaN           NaN   AD  Europe\n",
       "ARE      0.863  United Arab Emirates  67133.014840         58.90   AE    Asia"
      ]
     },
     "execution_count": 25,
     "metadata": {},
     "output_type": "execute_result"
    }
   ],
   "source": [
    "external_data = hdi.join(epi).join(countries.set_index(\"ISO3\")[[\"ISO2\", \"Region\"]])\n",
    "external_data.head(5)"
   ]
  },
  {
   "cell_type": "markdown",
   "metadata": {},
   "source": [
    "# Mentions ratios\n",
    "\n",
    "Here we load the mentions ratios with the outliers removed (for details, see [mentions_counts_by_domain_locations.ipynb](../mentions_count/mentions_counts_by_domain_locations.ipynb)) and then we compute the mean ratio for each countries."
   ]
  },
  {
   "cell_type": "code",
   "execution_count": 29,
   "metadata": {},
   "outputs": [],
   "source": [
    "MENTIONS_COUNTS_FILE = DATA_PATH + \"from_cluster/mentions_counts_by_domain_state_and_days_filtered_5themes.csv.NO_OUTLIERS.csv\""
   ]
  },
  {
   "cell_type": "code",
   "execution_count": 30,
   "metadata": {},
   "outputs": [
    {
     "data": {
      "text/html": [
       "<div>\n",
       "<style scoped>\n",
       "    .dataframe tbody tr th:only-of-type {\n",
       "        vertical-align: middle;\n",
       "    }\n",
       "\n",
       "    .dataframe tbody tr th {\n",
       "        vertical-align: top;\n",
       "    }\n",
       "\n",
       "    .dataframe thead th {\n",
       "        text-align: right;\n",
       "    }\n",
       "</style>\n",
       "<table border=\"1\" class=\"dataframe\">\n",
       "  <thead>\n",
       "    <tr style=\"text-align: right;\">\n",
       "      <th></th>\n",
       "      <th>ISO</th>\n",
       "      <th>DOMAIN_COUNTRY</th>\n",
       "      <th>GLOBAL_COUNT</th>\n",
       "      <th>ENV_COUNT</th>\n",
       "      <th>Country</th>\n",
       "      <th>Region</th>\n",
       "      <th>DATE</th>\n",
       "      <th>Ratio</th>\n",
       "    </tr>\n",
       "  </thead>\n",
       "  <tbody>\n",
       "    <tr>\n",
       "      <th>42441</th>\n",
       "      <td>LC</td>\n",
       "      <td>Saint Lucia</td>\n",
       "      <td>133</td>\n",
       "      <td>3.0</td>\n",
       "      <td>Saint Lucia</td>\n",
       "      <td>Americas</td>\n",
       "      <td>2015-09-17</td>\n",
       "      <td>0.022556</td>\n",
       "    </tr>\n",
       "    <tr>\n",
       "      <th>5006</th>\n",
       "      <td>AZ</td>\n",
       "      <td>Azerbaijan</td>\n",
       "      <td>2012</td>\n",
       "      <td>26.0</td>\n",
       "      <td>Azerbaijan</td>\n",
       "      <td>Asia</td>\n",
       "      <td>2016-04-05</td>\n",
       "      <td>0.012922</td>\n",
       "    </tr>\n",
       "    <tr>\n",
       "      <th>77603</th>\n",
       "      <td>ZM</td>\n",
       "      <td>Zambia</td>\n",
       "      <td>295</td>\n",
       "      <td>7.0</td>\n",
       "      <td>Zambia</td>\n",
       "      <td>Africa</td>\n",
       "      <td>2016-08-29</td>\n",
       "      <td>0.023729</td>\n",
       "    </tr>\n",
       "    <tr>\n",
       "      <th>21432</th>\n",
       "      <td>FJ</td>\n",
       "      <td>Fiji</td>\n",
       "      <td>483</td>\n",
       "      <td>2.0</td>\n",
       "      <td>Fiji</td>\n",
       "      <td>Oceania</td>\n",
       "      <td>2015-02-26</td>\n",
       "      <td>0.004141</td>\n",
       "    </tr>\n",
       "    <tr>\n",
       "      <th>25764</th>\n",
       "      <td>GR</td>\n",
       "      <td>Greece</td>\n",
       "      <td>777</td>\n",
       "      <td>7.0</td>\n",
       "      <td>Greece</td>\n",
       "      <td>Europe</td>\n",
       "      <td>2016-06-10</td>\n",
       "      <td>0.009009</td>\n",
       "    </tr>\n",
       "    <tr>\n",
       "      <th>57648</th>\n",
       "      <td>PK</td>\n",
       "      <td>Pakistan</td>\n",
       "      <td>10174</td>\n",
       "      <td>390.0</td>\n",
       "      <td>Pakistan</td>\n",
       "      <td>Asia</td>\n",
       "      <td>2015-03-26</td>\n",
       "      <td>0.038333</td>\n",
       "    </tr>\n",
       "    <tr>\n",
       "      <th>52446</th>\n",
       "      <td>NO</td>\n",
       "      <td>Norway</td>\n",
       "      <td>204</td>\n",
       "      <td>13.0</td>\n",
       "      <td>Norway</td>\n",
       "      <td>Europe</td>\n",
       "      <td>2015-12-23</td>\n",
       "      <td>0.063725</td>\n",
       "    </tr>\n",
       "    <tr>\n",
       "      <th>10943</th>\n",
       "      <td>BY</td>\n",
       "      <td>Belarus</td>\n",
       "      <td>357</td>\n",
       "      <td>6.0</td>\n",
       "      <td>Belarus</td>\n",
       "      <td>Europe</td>\n",
       "      <td>2016-09-05</td>\n",
       "      <td>0.016807</td>\n",
       "    </tr>\n",
       "    <tr>\n",
       "      <th>61985</th>\n",
       "      <td>SA</td>\n",
       "      <td>Saudi Arabia</td>\n",
       "      <td>1155</td>\n",
       "      <td>28.0</td>\n",
       "      <td>Saudi Arabia</td>\n",
       "      <td>Asia</td>\n",
       "      <td>2016-05-23</td>\n",
       "      <td>0.024242</td>\n",
       "    </tr>\n",
       "    <tr>\n",
       "      <th>28924</th>\n",
       "      <td>IE</td>\n",
       "      <td>Ireland</td>\n",
       "      <td>4740</td>\n",
       "      <td>265.0</td>\n",
       "      <td>Ireland</td>\n",
       "      <td>Europe</td>\n",
       "      <td>2015-04-28</td>\n",
       "      <td>0.055907</td>\n",
       "    </tr>\n",
       "  </tbody>\n",
       "</table>\n",
       "</div>"
      ],
      "text/plain": [
       "      ISO DOMAIN_COUNTRY  GLOBAL_COUNT  ENV_COUNT       Country    Region  \\\n",
       "42441  LC    Saint Lucia           133        3.0   Saint Lucia  Americas   \n",
       "5006   AZ     Azerbaijan          2012       26.0    Azerbaijan      Asia   \n",
       "77603  ZM         Zambia           295        7.0        Zambia    Africa   \n",
       "21432  FJ           Fiji           483        2.0          Fiji   Oceania   \n",
       "25764  GR         Greece           777        7.0        Greece    Europe   \n",
       "57648  PK       Pakistan         10174      390.0      Pakistan      Asia   \n",
       "52446  NO         Norway           204       13.0        Norway    Europe   \n",
       "10943  BY        Belarus           357        6.0       Belarus    Europe   \n",
       "61985  SA   Saudi Arabia          1155       28.0  Saudi Arabia      Asia   \n",
       "28924  IE        Ireland          4740      265.0       Ireland    Europe   \n",
       "\n",
       "             DATE     Ratio  \n",
       "42441  2015-09-17  0.022556  \n",
       "5006   2016-04-05  0.012922  \n",
       "77603  2016-08-29  0.023729  \n",
       "21432  2015-02-26  0.004141  \n",
       "25764  2016-06-10  0.009009  \n",
       "57648  2015-03-26  0.038333  \n",
       "52446  2015-12-23  0.063725  \n",
       "10943  2016-09-05  0.016807  \n",
       "61985  2016-05-23  0.024242  \n",
       "28924  2015-04-28  0.055907  "
      ]
     },
     "execution_count": 30,
     "metadata": {},
     "output_type": "execute_result"
    }
   ],
   "source": [
    "mentions_ratios = pd.read_csv(MENTIONS_COUNTS_FILE, index_col=0)\n",
    "mentions_ratios.sample(10)"
   ]
  },
  {
   "cell_type": "code",
   "execution_count": 31,
   "metadata": {},
   "outputs": [],
   "source": [
    "means = mentions_ratios.groupby(\"ISO\").mean()\n",
    "means = means.assign(MEAN=means.ENV_COUNT/means.GLOBAL_COUNT)[[\"MEAN\"]]\n",
    "ratios = means\n",
    "#medians = mentions_ratios.groupby(\"ISO\").median()\n",
    "#medians = medians.assign(MEDIAN=medians.ENV_COUNT/medians.GLOBAL_COUNT)[[\"MEDIAN\"]]\n",
    "#ratios = means.join(medians)"
   ]
  },
  {
   "cell_type": "code",
   "execution_count": 32,
   "metadata": {},
   "outputs": [
    {
     "data": {
      "text/html": [
       "<div>\n",
       "<style scoped>\n",
       "    .dataframe tbody tr th:only-of-type {\n",
       "        vertical-align: middle;\n",
       "    }\n",
       "\n",
       "    .dataframe tbody tr th {\n",
       "        vertical-align: top;\n",
       "    }\n",
       "\n",
       "    .dataframe thead th {\n",
       "        text-align: right;\n",
       "    }\n",
       "</style>\n",
       "<table border=\"1\" class=\"dataframe\">\n",
       "  <thead>\n",
       "    <tr style=\"text-align: right;\">\n",
       "      <th></th>\n",
       "      <th>MEAN</th>\n",
       "    </tr>\n",
       "    <tr>\n",
       "      <th>ISO</th>\n",
       "      <th></th>\n",
       "    </tr>\n",
       "  </thead>\n",
       "  <tbody>\n",
       "    <tr>\n",
       "      <th>TN</th>\n",
       "      <td>0.106031</td>\n",
       "    </tr>\n",
       "    <tr>\n",
       "      <th>HU</th>\n",
       "      <td>0.045178</td>\n",
       "    </tr>\n",
       "    <tr>\n",
       "      <th>VI</th>\n",
       "      <td>0.117427</td>\n",
       "    </tr>\n",
       "    <tr>\n",
       "      <th>ET</th>\n",
       "      <td>0.046730</td>\n",
       "    </tr>\n",
       "    <tr>\n",
       "      <th>ZW</th>\n",
       "      <td>0.019106</td>\n",
       "    </tr>\n",
       "    <tr>\n",
       "      <th>VG</th>\n",
       "      <td>0.175258</td>\n",
       "    </tr>\n",
       "    <tr>\n",
       "      <th>AE</th>\n",
       "      <td>0.044959</td>\n",
       "    </tr>\n",
       "    <tr>\n",
       "      <th>PT</th>\n",
       "      <td>0.067934</td>\n",
       "    </tr>\n",
       "    <tr>\n",
       "      <th>IT</th>\n",
       "      <td>0.022117</td>\n",
       "    </tr>\n",
       "    <tr>\n",
       "      <th>PE</th>\n",
       "      <td>0.106796</td>\n",
       "    </tr>\n",
       "  </tbody>\n",
       "</table>\n",
       "</div>"
      ],
      "text/plain": [
       "         MEAN\n",
       "ISO          \n",
       "TN   0.106031\n",
       "HU   0.045178\n",
       "VI   0.117427\n",
       "ET   0.046730\n",
       "ZW   0.019106\n",
       "VG   0.175258\n",
       "AE   0.044959\n",
       "PT   0.067934\n",
       "IT   0.022117\n",
       "PE   0.106796"
      ]
     },
     "execution_count": 32,
     "metadata": {},
     "output_type": "execute_result"
    }
   ],
   "source": [
    "ratios.sample(10)"
   ]
  },
  {
   "cell_type": "markdown",
   "metadata": {},
   "source": [
    "# Join to external datasets"
   ]
  },
  {
   "cell_type": "code",
   "execution_count": 33,
   "metadata": {},
   "outputs": [
    {
     "data": {
      "text/html": [
       "<div>\n",
       "<style scoped>\n",
       "    .dataframe tbody tr th:only-of-type {\n",
       "        vertical-align: middle;\n",
       "    }\n",
       "\n",
       "    .dataframe tbody tr th {\n",
       "        vertical-align: top;\n",
       "    }\n",
       "\n",
       "    .dataframe thead th {\n",
       "        text-align: right;\n",
       "    }\n",
       "</style>\n",
       "<table border=\"1\" class=\"dataframe\">\n",
       "  <thead>\n",
       "    <tr style=\"text-align: right;\">\n",
       "      <th></th>\n",
       "      <th>MEAN</th>\n",
       "      <th>hdi_2017</th>\n",
       "      <th>country</th>\n",
       "      <th>GDPpc</th>\n",
       "      <th>EPI2018Score</th>\n",
       "      <th>Region</th>\n",
       "    </tr>\n",
       "  </thead>\n",
       "  <tbody>\n",
       "    <tr>\n",
       "      <th>AE</th>\n",
       "      <td>0.044959</td>\n",
       "      <td>0.863</td>\n",
       "      <td>United Arab Emirates</td>\n",
       "      <td>67133.014840</td>\n",
       "      <td>58.90</td>\n",
       "      <td>Asia</td>\n",
       "    </tr>\n",
       "    <tr>\n",
       "      <th>AF</th>\n",
       "      <td>0.024477</td>\n",
       "      <td>0.498</td>\n",
       "      <td>Afghanistan</td>\n",
       "      <td>1739.583177</td>\n",
       "      <td>37.74</td>\n",
       "      <td>Asia</td>\n",
       "    </tr>\n",
       "    <tr>\n",
       "      <th>AI</th>\n",
       "      <td>0.121071</td>\n",
       "      <td>NaN</td>\n",
       "      <td>NaN</td>\n",
       "      <td>NaN</td>\n",
       "      <td>NaN</td>\n",
       "      <td>NaN</td>\n",
       "    </tr>\n",
       "    <tr>\n",
       "      <th>AL</th>\n",
       "      <td>0.057525</td>\n",
       "      <td>0.785</td>\n",
       "      <td>Albania</td>\n",
       "      <td>11359.099160</td>\n",
       "      <td>65.46</td>\n",
       "      <td>Europe</td>\n",
       "    </tr>\n",
       "    <tr>\n",
       "      <th>AM</th>\n",
       "      <td>0.012836</td>\n",
       "      <td>0.755</td>\n",
       "      <td>Armenia</td>\n",
       "      <td>8190.239289</td>\n",
       "      <td>62.07</td>\n",
       "      <td>Asia</td>\n",
       "    </tr>\n",
       "  </tbody>\n",
       "</table>\n",
       "</div>"
      ],
      "text/plain": [
       "        MEAN  hdi_2017               country         GDPpc  EPI2018Score  \\\n",
       "AE  0.044959     0.863  United Arab Emirates  67133.014840         58.90   \n",
       "AF  0.024477     0.498           Afghanistan   1739.583177         37.74   \n",
       "AI  0.121071       NaN                   NaN           NaN           NaN   \n",
       "AL  0.057525     0.785               Albania  11359.099160         65.46   \n",
       "AM  0.012836     0.755               Armenia   8190.239289         62.07   \n",
       "\n",
       "    Region  \n",
       "AE    Asia  \n",
       "AF    Asia  \n",
       "AI     NaN  \n",
       "AL  Europe  \n",
       "AM    Asia  "
      ]
     },
     "execution_count": 33,
     "metadata": {},
     "output_type": "execute_result"
    }
   ],
   "source": [
    "joined = ratios.join(external_data.set_index(\"ISO2\", drop=True), how=\"left\")\n",
    "joined = joined[joined.Region != \"Oceania\"]\n",
    "joined.head(5)"
   ]
  },
  {
   "cell_type": "code",
   "execution_count": 34,
   "metadata": {},
   "outputs": [
    {
     "data": {
      "text/html": [
       "<div>\n",
       "<style scoped>\n",
       "    .dataframe tbody tr th:only-of-type {\n",
       "        vertical-align: middle;\n",
       "    }\n",
       "\n",
       "    .dataframe tbody tr th {\n",
       "        vertical-align: top;\n",
       "    }\n",
       "\n",
       "    .dataframe thead th {\n",
       "        text-align: right;\n",
       "    }\n",
       "</style>\n",
       "<table border=\"1\" class=\"dataframe\">\n",
       "  <thead>\n",
       "    <tr style=\"text-align: right;\">\n",
       "      <th></th>\n",
       "      <th>MEAN</th>\n",
       "      <th>hdi_2017</th>\n",
       "      <th>GDPpc</th>\n",
       "      <th>EPI2018Score</th>\n",
       "    </tr>\n",
       "  </thead>\n",
       "  <tbody>\n",
       "    <tr>\n",
       "      <th>count</th>\n",
       "      <td>166.000000</td>\n",
       "      <td>148.000000</td>\n",
       "      <td>144.000000</td>\n",
       "      <td>144.000000</td>\n",
       "    </tr>\n",
       "    <tr>\n",
       "      <th>mean</th>\n",
       "      <td>0.061894</td>\n",
       "      <td>0.734230</td>\n",
       "      <td>20548.247667</td>\n",
       "      <td>58.374792</td>\n",
       "    </tr>\n",
       "    <tr>\n",
       "      <th>std</th>\n",
       "      <td>0.055551</td>\n",
       "      <td>0.150208</td>\n",
       "      <td>20190.558663</td>\n",
       "      <td>13.182995</td>\n",
       "    </tr>\n",
       "    <tr>\n",
       "      <th>min</th>\n",
       "      <td>0.007897</td>\n",
       "      <td>0.354000</td>\n",
       "      <td>753.557379</td>\n",
       "      <td>29.560000</td>\n",
       "    </tr>\n",
       "    <tr>\n",
       "      <th>25%</th>\n",
       "      <td>0.030394</td>\n",
       "      <td>0.611000</td>\n",
       "      <td>5900.074333</td>\n",
       "      <td>47.910000</td>\n",
       "    </tr>\n",
       "    <tr>\n",
       "      <th>50%</th>\n",
       "      <td>0.042601</td>\n",
       "      <td>0.757000</td>\n",
       "      <td>14079.303900</td>\n",
       "      <td>58.740000</td>\n",
       "    </tr>\n",
       "    <tr>\n",
       "      <th>75%</th>\n",
       "      <td>0.073850</td>\n",
       "      <td>0.853500</td>\n",
       "      <td>28377.230410</td>\n",
       "      <td>66.210000</td>\n",
       "    </tr>\n",
       "    <tr>\n",
       "      <th>max</th>\n",
       "      <td>0.386071</td>\n",
       "      <td>0.953000</td>\n",
       "      <td>118207.069500</td>\n",
       "      <td>87.420000</td>\n",
       "    </tr>\n",
       "  </tbody>\n",
       "</table>\n",
       "</div>"
      ],
      "text/plain": [
       "             MEAN    hdi_2017          GDPpc  EPI2018Score\n",
       "count  166.000000  148.000000     144.000000    144.000000\n",
       "mean     0.061894    0.734230   20548.247667     58.374792\n",
       "std      0.055551    0.150208   20190.558663     13.182995\n",
       "min      0.007897    0.354000     753.557379     29.560000\n",
       "25%      0.030394    0.611000    5900.074333     47.910000\n",
       "50%      0.042601    0.757000   14079.303900     58.740000\n",
       "75%      0.073850    0.853500   28377.230410     66.210000\n",
       "max      0.386071    0.953000  118207.069500     87.420000"
      ]
     },
     "execution_count": 34,
     "metadata": {},
     "output_type": "execute_result"
    }
   ],
   "source": [
    "joined.describe()"
   ]
  },
  {
   "cell_type": "code",
   "execution_count": 35,
   "metadata": {},
   "outputs": [],
   "source": [
    "def lmplot(data, x, y=\"MEAN\", title=\"\", world=False, figsize=(12,6)):\n",
    "    plt.figure(figsize=figsize)\n",
    "    plt.suptitle(title)\n",
    "    sns.lmplot(x, y, data=data, col=\"Region\" if not world else None, robust=True)"
   ]
  },
  {
   "cell_type": "code",
   "execution_count": 36,
   "metadata": {},
   "outputs": [
    {
     "name": "stderr",
     "output_type": "stream",
     "text": [
      "/Users/damien/miniconda3/envs/ada/lib/python3.6/site-packages/scipy/stats/stats.py:1713: FutureWarning: Using a non-tuple sequence for multidimensional indexing is deprecated; use `arr[tuple(seq)]` instead of `arr[seq]`. In the future this will be interpreted as an array index, `arr[np.array(seq)]`, which will result either in an error or a different result.\n",
      "  return np.add.reduce(sorted[indexer] * weights, axis=axis) / sumval\n"
     ]
    },
    {
     "data": {
      "text/plain": [
       "<Figure size 864x432 with 0 Axes>"
      ]
     },
     "metadata": {},
     "output_type": "display_data"
    },
    {
     "data": {
      "image/png": "[encoded data removed]",
      "text/plain": [
       "<Figure size 360x360 with 1 Axes>"
      ]
     },
     "metadata": {
      "needs_background": "light"
     },
     "output_type": "display_data"
    },
    {
     "data": {
      "text/plain": [
       "<Figure size 864x432 with 0 Axes>"
      ]
     },
     "metadata": {},
     "output_type": "display_data"
    },
    {
     "data": {
      "image/png": "[encoded data removed]",
      "text/plain": [
       "<Figure size 1440x360 with 4 Axes>"
      ]
     },
     "metadata": {
      "needs_background": "light"
     },
     "output_type": "display_data"
    }
   ],
   "source": [
    "lmplot(joined, \"hdi_2017\", \"MEAN\", \"Human development index vs ratio mean\", world=True)\n",
    "lmplot(joined, \"hdi_2017\", \"MEAN\", \"Human development index vs ratio mean\", world=False)"
   ]
  },
  {
   "cell_type": "code",
   "execution_count": 37,
   "metadata": {},
   "outputs": [
    {
     "data": {
      "text/plain": [
       "<Figure size 864x432 with 0 Axes>"
      ]
     },
     "metadata": {},
     "output_type": "display_data"
    },
    {
     "data": {
      "image/png": "[encoded data removed]",
      "text/plain": [
       "<Figure size 360x360 with 1 Axes>"
      ]
     },
     "metadata": {
      "needs_background": "light"
     },
     "output_type": "display_data"
    },
    {
     "data": {
      "text/plain": [
       "<Figure size 864x432 with 0 Axes>"
      ]
     },
     "metadata": {},
     "output_type": "display_data"
    },
    {
     "data": {
      "image/png": "[encoded data removed]",
      "text/plain": [
       "<Figure size 1440x360 with 4 Axes>"
      ]
     },
     "metadata": {
      "needs_background": "light"
     },
     "output_type": "display_data"
    }
   ],
   "source": [
    "lmplot(joined, \"EPI2018Score\", \"MEAN\", \"Environmental performance index vs ratio mean\", world=True)\n",
    "lmplot(joined, \"EPI2018Score\", \"MEAN\", \"Environmental performance index vs ratio mean\", world=False)"
   ]
  },
  {
   "cell_type": "code",
   "execution_count": 38,
   "metadata": {},
   "outputs": [
    {
     "data": {
      "text/plain": [
       "<Figure size 864x432 with 0 Axes>"
      ]
     },
     "metadata": {},
     "output_type": "display_data"
    },
    {
     "data": {
      "image/png": "[encoded data removed]",
      "text/plain": [
       "<Figure size 360x360 with 1 Axes>"
      ]
     },
     "metadata": {
      "needs_background": "light"
     },
     "output_type": "display_data"
    },
    {
     "data": {
      "text/plain": [
       "<Figure size 864x432 with 0 Axes>"
      ]
     },
     "metadata": {},
     "output_type": "display_data"
    },
    {
     "data": {
      "image/png": "[encoded data removed]",
      "text/plain": [
       "<Figure size 1440x360 with 4 Axes>"
      ]
     },
     "metadata": {
      "needs_background": "light"
     },
     "output_type": "display_data"
    }
   ],
   "source": [
    "lmplot(joined, \"GDPpc\", \"MEAN\", \"GDP per capita vs ratio mean\", world=True)\n",
    "lmplot(joined, \"GDPpc\", \"MEAN\", \"GDP per capita vs ratio mean\", world=False)"
   ]
  }
 ],
 "metadata": {
  "kernelspec": {
   "display_name": "Python [conda env:ada]",
   "language": "python",
   "name": "conda-env-ada-py"
  },
  "language_info": {
   "codemirror_mode": {
    "name": "ipython",
    "version": 3
   },
   "file_extension": ".py",
   "mimetype": "text/x-python",
   "name": "python",
   "nbconvert_exporter": "python",
   "pygments_lexer": "ipython3",
   "version": "3.6.6"
  }
 },
 "nbformat": 4,
 "nbformat_minor": 2
}
