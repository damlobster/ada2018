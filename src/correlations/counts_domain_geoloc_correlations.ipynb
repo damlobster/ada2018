{
 "cells": [
  {
   "cell_type": "code",
   "execution_count": 1,
   "metadata": {},
   "outputs": [],
   "source": [
    "import numpy as np\n",
    "import pandas as pd\n",
    "import seaborn as sns\n",
    "import matplotlib.pyplot as plt"
   ]
  },
  {
   "cell_type": "code",
   "execution_count": 2,
   "metadata": {},
   "outputs": [],
   "source": [
    "MENTIONS_COUNTS_FILE = \"mentions_counts_by_state_and_months_filtered_5themes.csv\""
   ]
  },
  {
   "cell_type": "markdown",
   "metadata": {},
   "source": [
    "# External datasets"
   ]
  },
  {
   "cell_type": "code",
   "execution_count": 3,
   "metadata": {},
   "outputs": [
    {
     "data": {
      "text/html": [
       "<div>\n",
       "<style scoped>\n",
       "    .dataframe tbody tr th:only-of-type {\n",
       "        vertical-align: middle;\n",
       "    }\n",
       "\n",
       "    .dataframe tbody tr th {\n",
       "        vertical-align: top;\n",
       "    }\n",
       "\n",
       "    .dataframe thead th {\n",
       "        text-align: right;\n",
       "    }\n",
       "</style>\n",
       "<table border=\"1\" class=\"dataframe\">\n",
       "  <thead>\n",
       "    <tr style=\"text-align: right;\">\n",
       "      <th></th>\n",
       "      <th>Country</th>\n",
       "      <th>Region</th>\n",
       "      <th>FIPS</th>\n",
       "      <th>ISO2</th>\n",
       "      <th>ISO3</th>\n",
       "    </tr>\n",
       "  </thead>\n",
       "  <tbody>\n",
       "    <tr>\n",
       "      <th>0</th>\n",
       "      <td>Afghanistan</td>\n",
       "      <td>Asia</td>\n",
       "      <td>AF</td>\n",
       "      <td>AF</td>\n",
       "      <td>AFG</td>\n",
       "    </tr>\n",
       "    <tr>\n",
       "      <th>1</th>\n",
       "      <td>Albania</td>\n",
       "      <td>Europe</td>\n",
       "      <td>AL</td>\n",
       "      <td>AL</td>\n",
       "      <td>ALB</td>\n",
       "    </tr>\n",
       "    <tr>\n",
       "      <th>2</th>\n",
       "      <td>Algeria</td>\n",
       "      <td>Africa</td>\n",
       "      <td>AG</td>\n",
       "      <td>DZ</td>\n",
       "      <td>DZA</td>\n",
       "    </tr>\n",
       "    <tr>\n",
       "      <th>3</th>\n",
       "      <td>American Samoa</td>\n",
       "      <td>Oceania</td>\n",
       "      <td>AQ</td>\n",
       "      <td>AS</td>\n",
       "      <td>ASM</td>\n",
       "    </tr>\n",
       "    <tr>\n",
       "      <th>4</th>\n",
       "      <td>Andorra</td>\n",
       "      <td>Europe</td>\n",
       "      <td>AN</td>\n",
       "      <td>AD</td>\n",
       "      <td>AND</td>\n",
       "    </tr>\n",
       "  </tbody>\n",
       "</table>\n",
       "</div>"
      ],
      "text/plain": [
       "          Country   Region FIPS ISO2 ISO3\n",
       "0     Afghanistan     Asia   AF   AF  AFG\n",
       "1         Albania   Europe   AL   AL  ALB\n",
       "2         Algeria   Africa   AG   DZ  DZA\n",
       "3  American Samoa  Oceania   AQ   AS  ASM\n",
       "4         Andorra   Europe   AN   AD  AND"
      ]
     },
     "execution_count": 3,
     "metadata": {},
     "output_type": "execute_result"
    }
   ],
   "source": [
    "countries = pd.read_csv(\"preprocessed_countries.csv\")\n",
    "countries.Country = countries.Country.astype(str).str.strip()\n",
    "countries.head(5)"
   ]
  },
  {
   "cell_type": "markdown",
   "metadata": {},
   "source": [
    "### Human development index ([source](http://hdr.undp.org/en/content/human-development-index-hdi))"
   ]
  },
  {
   "cell_type": "code",
   "execution_count": 4,
   "metadata": {},
   "outputs": [
    {
     "data": {
      "text/html": [
       "<div>\n",
       "<style scoped>\n",
       "    .dataframe tbody tr th:only-of-type {\n",
       "        vertical-align: middle;\n",
       "    }\n",
       "\n",
       "    .dataframe tbody tr th {\n",
       "        vertical-align: top;\n",
       "    }\n",
       "\n",
       "    .dataframe thead th {\n",
       "        text-align: right;\n",
       "    }\n",
       "</style>\n",
       "<table border=\"1\" class=\"dataframe\">\n",
       "  <thead>\n",
       "    <tr style=\"text-align: right;\">\n",
       "      <th></th>\n",
       "      <th>HDI Rank</th>\n",
       "      <th>Country</th>\n",
       "      <th>ISO3</th>\n",
       "      <th>2015</th>\n",
       "      <th>2016</th>\n",
       "      <th>2017</th>\n",
       "    </tr>\n",
       "  </thead>\n",
       "  <tbody>\n",
       "    <tr>\n",
       "      <th>0</th>\n",
       "      <td>168</td>\n",
       "      <td>Afghanistan</td>\n",
       "      <td>AFG</td>\n",
       "      <td>0.493</td>\n",
       "      <td>0.494</td>\n",
       "      <td>0.498</td>\n",
       "    </tr>\n",
       "    <tr>\n",
       "      <th>1</th>\n",
       "      <td>68</td>\n",
       "      <td>Albania</td>\n",
       "      <td>ALB</td>\n",
       "      <td>0.776</td>\n",
       "      <td>0.782</td>\n",
       "      <td>0.785</td>\n",
       "    </tr>\n",
       "    <tr>\n",
       "      <th>2</th>\n",
       "      <td>85</td>\n",
       "      <td>Algeria</td>\n",
       "      <td>DZA</td>\n",
       "      <td>0.749</td>\n",
       "      <td>0.753</td>\n",
       "      <td>0.754</td>\n",
       "    </tr>\n",
       "    <tr>\n",
       "      <th>3</th>\n",
       "      <td>35</td>\n",
       "      <td>Andorra</td>\n",
       "      <td>AND</td>\n",
       "      <td>0.854</td>\n",
       "      <td>0.856</td>\n",
       "      <td>0.858</td>\n",
       "    </tr>\n",
       "    <tr>\n",
       "      <th>4</th>\n",
       "      <td>147</td>\n",
       "      <td>Angola</td>\n",
       "      <td>AGO</td>\n",
       "      <td>0.572</td>\n",
       "      <td>0.577</td>\n",
       "      <td>0.581</td>\n",
       "    </tr>\n",
       "  </tbody>\n",
       "</table>\n",
       "</div>"
      ],
      "text/plain": [
       "   HDI Rank      Country ISO3   2015   2016   2017\n",
       "0       168  Afghanistan  AFG  0.493  0.494  0.498\n",
       "1        68      Albania  ALB  0.776  0.782  0.785\n",
       "2        85      Algeria  DZA  0.749  0.753  0.754\n",
       "3        35      Andorra  AND  0.854  0.856  0.858\n",
       "4       147       Angola  AGO  0.572  0.577  0.581"
      ]
     },
     "execution_count": 4,
     "metadata": {},
     "output_type": "execute_result"
    }
   ],
   "source": [
    "hdi = pd.read_csv(\"human_development_index_2017.csv\")\n",
    "hdi.head(5)"
   ]
  },
  {
   "cell_type": "code",
   "execution_count": 5,
   "metadata": {},
   "outputs": [
    {
     "data": {
      "text/html": [
       "<div>\n",
       "<style scoped>\n",
       "    .dataframe tbody tr th:only-of-type {\n",
       "        vertical-align: middle;\n",
       "    }\n",
       "\n",
       "    .dataframe tbody tr th {\n",
       "        vertical-align: top;\n",
       "    }\n",
       "\n",
       "    .dataframe thead th {\n",
       "        text-align: right;\n",
       "    }\n",
       "</style>\n",
       "<table border=\"1\" class=\"dataframe\">\n",
       "  <thead>\n",
       "    <tr style=\"text-align: right;\">\n",
       "      <th></th>\n",
       "      <th>hdi_2017</th>\n",
       "    </tr>\n",
       "    <tr>\n",
       "      <th>ISO3</th>\n",
       "      <th></th>\n",
       "    </tr>\n",
       "  </thead>\n",
       "  <tbody>\n",
       "    <tr>\n",
       "      <th>AFG</th>\n",
       "      <td>0.498</td>\n",
       "    </tr>\n",
       "    <tr>\n",
       "      <th>ALB</th>\n",
       "      <td>0.785</td>\n",
       "    </tr>\n",
       "    <tr>\n",
       "      <th>DZA</th>\n",
       "      <td>0.754</td>\n",
       "    </tr>\n",
       "    <tr>\n",
       "      <th>AND</th>\n",
       "      <td>0.858</td>\n",
       "    </tr>\n",
       "    <tr>\n",
       "      <th>AGO</th>\n",
       "      <td>0.581</td>\n",
       "    </tr>\n",
       "  </tbody>\n",
       "</table>\n",
       "</div>"
      ],
      "text/plain": [
       "      hdi_2017\n",
       "ISO3          \n",
       "AFG      0.498\n",
       "ALB      0.785\n",
       "DZA      0.754\n",
       "AND      0.858\n",
       "AGO      0.581"
      ]
     },
     "execution_count": 5,
     "metadata": {},
     "output_type": "execute_result"
    }
   ],
   "source": [
    "hdi = hdi.set_index(\"ISO3\")[[\"2017\"]]\n",
    "hdi.rename(columns={\"2017\":\"hdi_2017\"}, inplace=True)\n",
    "hdi.head(5)"
   ]
  },
  {
   "cell_type": "markdown",
   "metadata": {},
   "source": [
    "### Environmental performance index ([source](https://epi.envirocenter.yale.edu/epi-downloads))"
   ]
  },
  {
   "cell_type": "code",
   "execution_count": 6,
   "metadata": {},
   "outputs": [
    {
     "data": {
      "text/html": [
       "<div>\n",
       "<style scoped>\n",
       "    .dataframe tbody tr th:only-of-type {\n",
       "        vertical-align: middle;\n",
       "    }\n",
       "\n",
       "    .dataframe tbody tr th {\n",
       "        vertical-align: top;\n",
       "    }\n",
       "\n",
       "    .dataframe thead th {\n",
       "        text-align: right;\n",
       "    }\n",
       "</style>\n",
       "<table border=\"1\" class=\"dataframe\">\n",
       "  <thead>\n",
       "    <tr style=\"text-align: right;\">\n",
       "      <th></th>\n",
       "      <th>code</th>\n",
       "      <th>iso</th>\n",
       "      <th>country</th>\n",
       "      <th>Pop</th>\n",
       "      <th>PopGrowthRate</th>\n",
       "      <th>PopDensity</th>\n",
       "      <th>GDP</th>\n",
       "      <th>LandArea</th>\n",
       "      <th>GDPpc</th>\n",
       "      <th>SDGI</th>\n",
       "      <th>EPI2018Score</th>\n",
       "      <th>EPI2018Rank</th>\n",
       "    </tr>\n",
       "  </thead>\n",
       "  <tbody>\n",
       "    <tr>\n",
       "      <th>0</th>\n",
       "      <td>4</td>\n",
       "      <td>AFG</td>\n",
       "      <td>Afghanistan</td>\n",
       "      <td>34.656032</td>\n",
       "      <td>2.689163</td>\n",
       "      <td>53.083405</td>\n",
       "      <td>60.287050</td>\n",
       "      <td>652860.0</td>\n",
       "      <td>1739.583177</td>\n",
       "      <td>46.8</td>\n",
       "      <td>37.74</td>\n",
       "      <td>168</td>\n",
       "    </tr>\n",
       "    <tr>\n",
       "      <th>1</th>\n",
       "      <td>8</td>\n",
       "      <td>ALB</td>\n",
       "      <td>Albania</td>\n",
       "      <td>2.876101</td>\n",
       "      <td>-0.159880</td>\n",
       "      <td>104.967190</td>\n",
       "      <td>32.669916</td>\n",
       "      <td>27400.0</td>\n",
       "      <td>11359.099160</td>\n",
       "      <td>68.9</td>\n",
       "      <td>65.46</td>\n",
       "      <td>40</td>\n",
       "    </tr>\n",
       "    <tr>\n",
       "      <th>2</th>\n",
       "      <td>12</td>\n",
       "      <td>DZA</td>\n",
       "      <td>Algeria</td>\n",
       "      <td>40.606052</td>\n",
       "      <td>1.825463</td>\n",
       "      <td>17.048895</td>\n",
       "      <td>565.284000</td>\n",
       "      <td>2381741.0</td>\n",
       "      <td>13921.176080</td>\n",
       "      <td>68.8</td>\n",
       "      <td>57.18</td>\n",
       "      <td>88</td>\n",
       "    </tr>\n",
       "    <tr>\n",
       "      <th>3</th>\n",
       "      <td>24</td>\n",
       "      <td>AGO</td>\n",
       "      <td>Angola</td>\n",
       "      <td>28.813463</td>\n",
       "      <td>3.367572</td>\n",
       "      <td>23.111786</td>\n",
       "      <td>172.438000</td>\n",
       "      <td>1246700.0</td>\n",
       "      <td>5984.632947</td>\n",
       "      <td>50.2</td>\n",
       "      <td>37.44</td>\n",
       "      <td>170</td>\n",
       "    </tr>\n",
       "    <tr>\n",
       "      <th>4</th>\n",
       "      <td>28</td>\n",
       "      <td>ATG</td>\n",
       "      <td>Antigua and Barbuda</td>\n",
       "      <td>0.100963</td>\n",
       "      <td>1.035422</td>\n",
       "      <td>229.461364</td>\n",
       "      <td>2.121537</td>\n",
       "      <td>440.0</td>\n",
       "      <td>21013.017630</td>\n",
       "      <td>NaN</td>\n",
       "      <td>59.18</td>\n",
       "      <td>76</td>\n",
       "    </tr>\n",
       "  </tbody>\n",
       "</table>\n",
       "</div>"
      ],
      "text/plain": [
       "   code  iso              country        Pop  PopGrowthRate  PopDensity  \\\n",
       "0     4  AFG          Afghanistan  34.656032       2.689163   53.083405   \n",
       "1     8  ALB              Albania   2.876101      -0.159880  104.967190   \n",
       "2    12  DZA              Algeria  40.606052       1.825463   17.048895   \n",
       "3    24  AGO               Angola  28.813463       3.367572   23.111786   \n",
       "4    28  ATG  Antigua and Barbuda   0.100963       1.035422  229.461364   \n",
       "\n",
       "          GDP   LandArea         GDPpc  SDGI  EPI2018Score  EPI2018Rank  \n",
       "0   60.287050   652860.0   1739.583177  46.8         37.74          168  \n",
       "1   32.669916    27400.0  11359.099160  68.9         65.46           40  \n",
       "2  565.284000  2381741.0  13921.176080  68.8         57.18           88  \n",
       "3  172.438000  1246700.0   5984.632947  50.2         37.44          170  \n",
       "4    2.121537      440.0  21013.017630   NaN         59.18           76  "
      ]
     },
     "execution_count": 6,
     "metadata": {},
     "output_type": "execute_result"
    }
   ],
   "source": [
    "epi = pd.read_csv(\"epi2018countrysnapshotv01.csv\")\n",
    "epi.head(5)"
   ]
  },
  {
   "cell_type": "code",
   "execution_count": 7,
   "metadata": {},
   "outputs": [
    {
     "data": {
      "text/html": [
       "<div>\n",
       "<style scoped>\n",
       "    .dataframe tbody tr th:only-of-type {\n",
       "        vertical-align: middle;\n",
       "    }\n",
       "\n",
       "    .dataframe tbody tr th {\n",
       "        vertical-align: top;\n",
       "    }\n",
       "\n",
       "    .dataframe thead th {\n",
       "        text-align: right;\n",
       "    }\n",
       "</style>\n",
       "<table border=\"1\" class=\"dataframe\">\n",
       "  <thead>\n",
       "    <tr style=\"text-align: right;\">\n",
       "      <th></th>\n",
       "      <th>country</th>\n",
       "      <th>GDPpc</th>\n",
       "      <th>PopDensity</th>\n",
       "      <th>EPI2018Score</th>\n",
       "    </tr>\n",
       "    <tr>\n",
       "      <th>iso</th>\n",
       "      <th></th>\n",
       "      <th></th>\n",
       "      <th></th>\n",
       "      <th></th>\n",
       "    </tr>\n",
       "  </thead>\n",
       "  <tbody>\n",
       "    <tr>\n",
       "      <th>AFG</th>\n",
       "      <td>Afghanistan</td>\n",
       "      <td>1739.583177</td>\n",
       "      <td>53.083405</td>\n",
       "      <td>37.74</td>\n",
       "    </tr>\n",
       "    <tr>\n",
       "      <th>ALB</th>\n",
       "      <td>Albania</td>\n",
       "      <td>11359.099160</td>\n",
       "      <td>104.967190</td>\n",
       "      <td>65.46</td>\n",
       "    </tr>\n",
       "    <tr>\n",
       "      <th>DZA</th>\n",
       "      <td>Algeria</td>\n",
       "      <td>13921.176080</td>\n",
       "      <td>17.048895</td>\n",
       "      <td>57.18</td>\n",
       "    </tr>\n",
       "    <tr>\n",
       "      <th>AGO</th>\n",
       "      <td>Angola</td>\n",
       "      <td>5984.632947</td>\n",
       "      <td>23.111786</td>\n",
       "      <td>37.44</td>\n",
       "    </tr>\n",
       "    <tr>\n",
       "      <th>ATG</th>\n",
       "      <td>Antigua and Barbuda</td>\n",
       "      <td>21013.017630</td>\n",
       "      <td>229.461364</td>\n",
       "      <td>59.18</td>\n",
       "    </tr>\n",
       "  </tbody>\n",
       "</table>\n",
       "</div>"
      ],
      "text/plain": [
       "                 country         GDPpc  PopDensity  EPI2018Score\n",
       "iso                                                             \n",
       "AFG          Afghanistan   1739.583177   53.083405         37.74\n",
       "ALB              Albania  11359.099160  104.967190         65.46\n",
       "DZA              Algeria  13921.176080   17.048895         57.18\n",
       "AGO               Angola   5984.632947   23.111786         37.44\n",
       "ATG  Antigua and Barbuda  21013.017630  229.461364         59.18"
      ]
     },
     "execution_count": 7,
     "metadata": {},
     "output_type": "execute_result"
    }
   ],
   "source": [
    "epi = epi[[\"iso\", \"country\", \"GDPpc\", \"PopDensity\", \"EPI2018Score\"]]\n",
    "epi = epi.set_index(\"iso\")\n",
    "epi.head(5)"
   ]
  },
  {
   "cell_type": "code",
   "execution_count": 10,
   "metadata": {},
   "outputs": [
    {
     "data": {
      "text/html": [
       "<div>\n",
       "<style scoped>\n",
       "    .dataframe tbody tr th:only-of-type {\n",
       "        vertical-align: middle;\n",
       "    }\n",
       "\n",
       "    .dataframe tbody tr th {\n",
       "        vertical-align: top;\n",
       "    }\n",
       "\n",
       "    .dataframe thead th {\n",
       "        text-align: right;\n",
       "    }\n",
       "</style>\n",
       "<table border=\"1\" class=\"dataframe\">\n",
       "  <thead>\n",
       "    <tr style=\"text-align: right;\">\n",
       "      <th></th>\n",
       "      <th>hdi_2017</th>\n",
       "      <th>country</th>\n",
       "      <th>GDPpc</th>\n",
       "      <th>PopDensity</th>\n",
       "      <th>EPI2018Score</th>\n",
       "      <th>FIPS</th>\n",
       "      <th>Region</th>\n",
       "    </tr>\n",
       "    <tr>\n",
       "      <th>ISO3</th>\n",
       "      <th></th>\n",
       "      <th></th>\n",
       "      <th></th>\n",
       "      <th></th>\n",
       "      <th></th>\n",
       "      <th></th>\n",
       "      <th></th>\n",
       "    </tr>\n",
       "  </thead>\n",
       "  <tbody>\n",
       "    <tr>\n",
       "      <th>AFG</th>\n",
       "      <td>0.498</td>\n",
       "      <td>Afghanistan</td>\n",
       "      <td>1739.583177</td>\n",
       "      <td>53.083405</td>\n",
       "      <td>37.74</td>\n",
       "      <td>AF</td>\n",
       "      <td>Asia</td>\n",
       "    </tr>\n",
       "    <tr>\n",
       "      <th>AGO</th>\n",
       "      <td>0.581</td>\n",
       "      <td>Angola</td>\n",
       "      <td>5984.632947</td>\n",
       "      <td>23.111786</td>\n",
       "      <td>37.44</td>\n",
       "      <td>AO</td>\n",
       "      <td>Africa</td>\n",
       "    </tr>\n",
       "    <tr>\n",
       "      <th>ALB</th>\n",
       "      <td>0.785</td>\n",
       "      <td>Albania</td>\n",
       "      <td>11359.099160</td>\n",
       "      <td>104.967190</td>\n",
       "      <td>65.46</td>\n",
       "      <td>AL</td>\n",
       "      <td>Europe</td>\n",
       "    </tr>\n",
       "    <tr>\n",
       "      <th>AND</th>\n",
       "      <td>0.858</td>\n",
       "      <td>NaN</td>\n",
       "      <td>NaN</td>\n",
       "      <td>NaN</td>\n",
       "      <td>NaN</td>\n",
       "      <td>AN</td>\n",
       "      <td>Europe</td>\n",
       "    </tr>\n",
       "    <tr>\n",
       "      <th>ARE</th>\n",
       "      <td>0.863</td>\n",
       "      <td>United Arab Emirates</td>\n",
       "      <td>67133.014840</td>\n",
       "      <td>110.880526</td>\n",
       "      <td>58.90</td>\n",
       "      <td>AE</td>\n",
       "      <td>Asia</td>\n",
       "    </tr>\n",
       "  </tbody>\n",
       "</table>\n",
       "</div>"
      ],
      "text/plain": [
       "      hdi_2017               country         GDPpc  PopDensity  EPI2018Score  \\\n",
       "ISO3                                                                           \n",
       "AFG      0.498           Afghanistan   1739.583177   53.083405         37.74   \n",
       "AGO      0.581                Angola   5984.632947   23.111786         37.44   \n",
       "ALB      0.785               Albania  11359.099160  104.967190         65.46   \n",
       "AND      0.858                   NaN           NaN         NaN           NaN   \n",
       "ARE      0.863  United Arab Emirates  67133.014840  110.880526         58.90   \n",
       "\n",
       "     FIPS  Region  \n",
       "ISO3               \n",
       "AFG    AF    Asia  \n",
       "AGO    AO  Africa  \n",
       "ALB    AL  Europe  \n",
       "AND    AN  Europe  \n",
       "ARE    AE    Asia  "
      ]
     },
     "execution_count": 10,
     "metadata": {},
     "output_type": "execute_result"
    }
   ],
   "source": [
    "external_data = hdi.join(epi).join(countries.set_index(\"ISO3\")[[\"FIPS\", \"Region\"]])\n",
    "external_data.head(5)"
   ]
  },
  {
   "cell_type": "markdown",
   "metadata": {},
   "source": [
    "# Mentions ratios"
   ]
  },
  {
   "cell_type": "code",
   "execution_count": 11,
   "metadata": {},
   "outputs": [
    {
     "data": {
      "text/html": [
       "<div>\n",
       "<style scoped>\n",
       "    .dataframe tbody tr th:only-of-type {\n",
       "        vertical-align: middle;\n",
       "    }\n",
       "\n",
       "    .dataframe tbody tr th {\n",
       "        vertical-align: top;\n",
       "    }\n",
       "\n",
       "    .dataframe thead th {\n",
       "        text-align: right;\n",
       "    }\n",
       "</style>\n",
       "<table border=\"1\" class=\"dataframe\">\n",
       "  <thead>\n",
       "    <tr style=\"text-align: right;\">\n",
       "      <th></th>\n",
       "      <th>STATE</th>\n",
       "      <th>GLOBAL_COUNT</th>\n",
       "      <th>ENV_COUNT</th>\n",
       "      <th>DATE</th>\n",
       "    </tr>\n",
       "  </thead>\n",
       "  <tbody>\n",
       "    <tr>\n",
       "      <th>178021</th>\n",
       "      <td>BE</td>\n",
       "      <td>3072</td>\n",
       "      <td>50.0</td>\n",
       "      <td>2016-08-29</td>\n",
       "    </tr>\n",
       "    <tr>\n",
       "      <th>86851</th>\n",
       "      <td>QA</td>\n",
       "      <td>2416</td>\n",
       "      <td>193.0</td>\n",
       "      <td>2016-09-05</td>\n",
       "    </tr>\n",
       "    <tr>\n",
       "      <th>193495</th>\n",
       "      <td>KU</td>\n",
       "      <td>121</td>\n",
       "      <td>0.0</td>\n",
       "      <td>2016-06-11</td>\n",
       "    </tr>\n",
       "    <tr>\n",
       "      <th>15793</th>\n",
       "      <td>MZ</td>\n",
       "      <td>312</td>\n",
       "      <td>0.0</td>\n",
       "      <td>2016-07-03</td>\n",
       "    </tr>\n",
       "    <tr>\n",
       "      <th>188251</th>\n",
       "      <td>UY</td>\n",
       "      <td>45</td>\n",
       "      <td>9.0</td>\n",
       "      <td>2015-06-20</td>\n",
       "    </tr>\n",
       "    <tr>\n",
       "      <th>179139</th>\n",
       "      <td>BB</td>\n",
       "      <td>100</td>\n",
       "      <td>0.0</td>\n",
       "      <td>2016-04-15</td>\n",
       "    </tr>\n",
       "    <tr>\n",
       "      <th>100932</th>\n",
       "      <td>RP</td>\n",
       "      <td>5218</td>\n",
       "      <td>54.0</td>\n",
       "      <td>2016-11-13</td>\n",
       "    </tr>\n",
       "    <tr>\n",
       "      <th>87229</th>\n",
       "      <td>BA</td>\n",
       "      <td>476</td>\n",
       "      <td>1.0</td>\n",
       "      <td>2016-09-12</td>\n",
       "    </tr>\n",
       "    <tr>\n",
       "      <th>17087</th>\n",
       "      <td>RI</td>\n",
       "      <td>968</td>\n",
       "      <td>19.0</td>\n",
       "      <td>2017-02-22</td>\n",
       "    </tr>\n",
       "    <tr>\n",
       "      <th>212043</th>\n",
       "      <td>GH</td>\n",
       "      <td>2326</td>\n",
       "      <td>38.0</td>\n",
       "      <td>2016-04-05</td>\n",
       "    </tr>\n",
       "  </tbody>\n",
       "</table>\n",
       "</div>"
      ],
      "text/plain": [
       "       STATE  GLOBAL_COUNT  ENV_COUNT       DATE\n",
       "178021    BE          3072       50.0 2016-08-29\n",
       "86851     QA          2416      193.0 2016-09-05\n",
       "193495    KU           121        0.0 2016-06-11\n",
       "15793     MZ           312        0.0 2016-07-03\n",
       "188251    UY            45        9.0 2015-06-20\n",
       "179139    BB           100        0.0 2016-04-15\n",
       "100932    RP          5218       54.0 2016-11-13\n",
       "87229     BA           476        1.0 2016-09-12\n",
       "17087     RI           968       19.0 2017-02-22\n",
       "212043    GH          2326       38.0 2016-04-05"
      ]
     },
     "execution_count": 11,
     "metadata": {},
     "output_type": "execute_result"
    }
   ],
   "source": [
    "mentions_ratios = pd.read_csv(MENTIONS_COUNTS_FILE)\n",
    "mentions_ratios = mentions_ratios.assign(DATE=pd.to_datetime(mentions_ratios[[\"YEAR\", \"MONTH\", \"DAY\"]]))\n",
    "mentions_ratios.drop(columns=[\"YEAR\", \"MONTH\", \"DAY\"], inplace=True)\n",
    "mentions_ratios.loc[mentions_ratios.ENV_COUNT.isna(), \"ENV_COUNT\"] = 0\n",
    "mentions_ratios.sample(10)"
   ]
  },
  {
   "cell_type": "code",
   "execution_count": 29,
   "metadata": {},
   "outputs": [],
   "source": [
    "means = mentions_ratios.groupby(\"STATE\").mean()\n",
    "#means = means[means.ENV_COUNT>5]\n",
    "means = means.assign(MEAN=means.ENV_COUNT/means.GLOBAL_COUNT)[[\"MEAN\"]]\n",
    "medians = mentions_ratios.groupby(\"STATE\").median()\n",
    "#medians = medians[medians.ENV_COUNT>5]\n",
    "medians = medians.assign(MEDIAN=medians.ENV_COUNT/medians.GLOBAL_COUNT)[[\"MEDIAN\"]]"
   ]
  },
  {
   "cell_type": "code",
   "execution_count": 30,
   "metadata": {},
   "outputs": [
    {
     "data": {
      "text/html": [
       "<div>\n",
       "<style scoped>\n",
       "    .dataframe tbody tr th:only-of-type {\n",
       "        vertical-align: middle;\n",
       "    }\n",
       "\n",
       "    .dataframe tbody tr th {\n",
       "        vertical-align: top;\n",
       "    }\n",
       "\n",
       "    .dataframe thead th {\n",
       "        text-align: right;\n",
       "    }\n",
       "</style>\n",
       "<table border=\"1\" class=\"dataframe\">\n",
       "  <thead>\n",
       "    <tr style=\"text-align: right;\">\n",
       "      <th></th>\n",
       "      <th>MEAN</th>\n",
       "      <th>MEDIAN</th>\n",
       "    </tr>\n",
       "    <tr>\n",
       "      <th>STATE</th>\n",
       "      <th></th>\n",
       "      <th></th>\n",
       "    </tr>\n",
       "  </thead>\n",
       "  <tbody>\n",
       "    <tr>\n",
       "      <th>KZ</th>\n",
       "      <td>0.065150</td>\n",
       "      <td>0.067183</td>\n",
       "    </tr>\n",
       "    <tr>\n",
       "      <th>TU</th>\n",
       "      <td>0.024857</td>\n",
       "      <td>0.023327</td>\n",
       "    </tr>\n",
       "    <tr>\n",
       "      <th>US</th>\n",
       "      <td>0.037324</td>\n",
       "      <td>0.028086</td>\n",
       "    </tr>\n",
       "    <tr>\n",
       "      <th>RE</th>\n",
       "      <td>0.017823</td>\n",
       "      <td>0.000000</td>\n",
       "    </tr>\n",
       "    <tr>\n",
       "      <th>UK</th>\n",
       "      <td>0.024805</td>\n",
       "      <td>0.021792</td>\n",
       "    </tr>\n",
       "    <tr>\n",
       "      <th>BU</th>\n",
       "      <td>0.032524</td>\n",
       "      <td>0.026415</td>\n",
       "    </tr>\n",
       "    <tr>\n",
       "      <th>TH</th>\n",
       "      <td>0.024567</td>\n",
       "      <td>0.021576</td>\n",
       "    </tr>\n",
       "    <tr>\n",
       "      <th>CA</th>\n",
       "      <td>0.049086</td>\n",
       "      <td>0.039837</td>\n",
       "    </tr>\n",
       "    <tr>\n",
       "      <th>LG</th>\n",
       "      <td>0.036197</td>\n",
       "      <td>0.015306</td>\n",
       "    </tr>\n",
       "    <tr>\n",
       "      <th>TK</th>\n",
       "      <td>0.649563</td>\n",
       "      <td>0.000000</td>\n",
       "    </tr>\n",
       "  </tbody>\n",
       "</table>\n",
       "</div>"
      ],
      "text/plain": [
       "           MEAN    MEDIAN\n",
       "STATE                    \n",
       "KZ     0.065150  0.067183\n",
       "TU     0.024857  0.023327\n",
       "US     0.037324  0.028086\n",
       "RE     0.017823  0.000000\n",
       "UK     0.024805  0.021792\n",
       "BU     0.032524  0.026415\n",
       "TH     0.024567  0.021576\n",
       "CA     0.049086  0.039837\n",
       "LG     0.036197  0.015306\n",
       "TK     0.649563  0.000000"
      ]
     },
     "execution_count": 30,
     "metadata": {},
     "output_type": "execute_result"
    }
   ],
   "source": [
    "ratios = means.join(medians)\n",
    "ratios.sample(10)"
   ]
  },
  {
   "cell_type": "markdown",
   "metadata": {},
   "source": [
    "# Join to external datasets"
   ]
  },
  {
   "cell_type": "code",
   "execution_count": 31,
   "metadata": {},
   "outputs": [
    {
     "data": {
      "text/html": [
       "<div>\n",
       "<style scoped>\n",
       "    .dataframe tbody tr th:only-of-type {\n",
       "        vertical-align: middle;\n",
       "    }\n",
       "\n",
       "    .dataframe tbody tr th {\n",
       "        vertical-align: top;\n",
       "    }\n",
       "\n",
       "    .dataframe thead th {\n",
       "        text-align: right;\n",
       "    }\n",
       "</style>\n",
       "<table border=\"1\" class=\"dataframe\">\n",
       "  <thead>\n",
       "    <tr style=\"text-align: right;\">\n",
       "      <th></th>\n",
       "      <th>MEAN</th>\n",
       "      <th>MEDIAN</th>\n",
       "      <th>hdi_2017</th>\n",
       "      <th>country</th>\n",
       "      <th>GDPpc</th>\n",
       "      <th>PopDensity</th>\n",
       "      <th>EPI2018Score</th>\n",
       "      <th>Region</th>\n",
       "    </tr>\n",
       "  </thead>\n",
       "  <tbody>\n",
       "    <tr>\n",
       "      <th>AA</th>\n",
       "      <td>0.059964</td>\n",
       "      <td>0.000000</td>\n",
       "      <td>NaN</td>\n",
       "      <td>NaN</td>\n",
       "      <td>NaN</td>\n",
       "      <td>NaN</td>\n",
       "      <td>NaN</td>\n",
       "      <td>NaN</td>\n",
       "    </tr>\n",
       "    <tr>\n",
       "      <th>AC</th>\n",
       "      <td>0.268259</td>\n",
       "      <td>0.000000</td>\n",
       "      <td>0.780</td>\n",
       "      <td>Antigua and Barbuda</td>\n",
       "      <td>21013.017630</td>\n",
       "      <td>229.461364</td>\n",
       "      <td>59.18</td>\n",
       "      <td>Americas</td>\n",
       "    </tr>\n",
       "    <tr>\n",
       "      <th>AE</th>\n",
       "      <td>0.042461</td>\n",
       "      <td>0.027043</td>\n",
       "      <td>0.863</td>\n",
       "      <td>United Arab Emirates</td>\n",
       "      <td>67133.014840</td>\n",
       "      <td>110.880526</td>\n",
       "      <td>58.90</td>\n",
       "      <td>Asia</td>\n",
       "    </tr>\n",
       "    <tr>\n",
       "      <th>AF</th>\n",
       "      <td>0.050577</td>\n",
       "      <td>0.056752</td>\n",
       "      <td>0.498</td>\n",
       "      <td>Afghanistan</td>\n",
       "      <td>1739.583177</td>\n",
       "      <td>53.083405</td>\n",
       "      <td>37.74</td>\n",
       "      <td>Asia</td>\n",
       "    </tr>\n",
       "    <tr>\n",
       "      <th>AG</th>\n",
       "      <td>0.116690</td>\n",
       "      <td>0.052478</td>\n",
       "      <td>0.754</td>\n",
       "      <td>Algeria</td>\n",
       "      <td>13921.176080</td>\n",
       "      <td>17.048895</td>\n",
       "      <td>57.18</td>\n",
       "      <td>Africa</td>\n",
       "    </tr>\n",
       "  </tbody>\n",
       "</table>\n",
       "</div>"
      ],
      "text/plain": [
       "        MEAN    MEDIAN  hdi_2017               country         GDPpc  \\\n",
       "AA  0.059964  0.000000       NaN                   NaN           NaN   \n",
       "AC  0.268259  0.000000     0.780   Antigua and Barbuda  21013.017630   \n",
       "AE  0.042461  0.027043     0.863  United Arab Emirates  67133.014840   \n",
       "AF  0.050577  0.056752     0.498           Afghanistan   1739.583177   \n",
       "AG  0.116690  0.052478     0.754               Algeria  13921.176080   \n",
       "\n",
       "    PopDensity  EPI2018Score    Region  \n",
       "AA         NaN           NaN       NaN  \n",
       "AC  229.461364         59.18  Americas  \n",
       "AE  110.880526         58.90      Asia  \n",
       "AF   53.083405         37.74      Asia  \n",
       "AG   17.048895         57.18    Africa  "
      ]
     },
     "execution_count": 31,
     "metadata": {},
     "output_type": "execute_result"
    }
   ],
   "source": [
    "joined = ratios.join(external_data.set_index(\"FIPS\", drop=True), how=\"left\")\n",
    "joined = joined[joined.Region != \"Oceania\"]\n",
    "joined.head(5)"
   ]
  },
  {
   "cell_type": "code",
   "execution_count": 32,
   "metadata": {},
   "outputs": [
    {
     "data": {
      "text/html": [
       "<div>\n",
       "<style scoped>\n",
       "    .dataframe tbody tr th:only-of-type {\n",
       "        vertical-align: middle;\n",
       "    }\n",
       "\n",
       "    .dataframe tbody tr th {\n",
       "        vertical-align: top;\n",
       "    }\n",
       "\n",
       "    .dataframe thead th {\n",
       "        text-align: right;\n",
       "    }\n",
       "</style>\n",
       "<table border=\"1\" class=\"dataframe\">\n",
       "  <thead>\n",
       "    <tr style=\"text-align: right;\">\n",
       "      <th></th>\n",
       "      <th>MEAN</th>\n",
       "      <th>MEDIAN</th>\n",
       "      <th>hdi_2017</th>\n",
       "      <th>GDPpc</th>\n",
       "      <th>PopDensity</th>\n",
       "      <th>EPI2018Score</th>\n",
       "    </tr>\n",
       "  </thead>\n",
       "  <tbody>\n",
       "    <tr>\n",
       "      <th>count</th>\n",
       "      <td>250.000000</td>\n",
       "      <td>250.000000</td>\n",
       "      <td>182.000000</td>\n",
       "      <td>173.000000</td>\n",
       "      <td>173.000000</td>\n",
       "      <td>173.000000</td>\n",
       "    </tr>\n",
       "    <tr>\n",
       "      <th>mean</th>\n",
       "      <td>0.064625</td>\n",
       "      <td>0.021938</td>\n",
       "      <td>0.712181</td>\n",
       "      <td>18248.415052</td>\n",
       "      <td>202.113492</td>\n",
       "      <td>56.724913</td>\n",
       "    </tr>\n",
       "    <tr>\n",
       "      <th>std</th>\n",
       "      <td>0.090489</td>\n",
       "      <td>0.040113</td>\n",
       "      <td>0.155110</td>\n",
       "      <td>19310.889696</td>\n",
       "      <td>637.400219</td>\n",
       "      <td>13.136901</td>\n",
       "    </tr>\n",
       "    <tr>\n",
       "      <th>min</th>\n",
       "      <td>0.000000</td>\n",
       "      <td>0.000000</td>\n",
       "      <td>0.354000</td>\n",
       "      <td>647.880445</td>\n",
       "      <td>1.948684</td>\n",
       "      <td>27.430000</td>\n",
       "    </tr>\n",
       "    <tr>\n",
       "      <th>25%</th>\n",
       "      <td>0.024720</td>\n",
       "      <td>0.000000</td>\n",
       "      <td>0.589250</td>\n",
       "      <td>4386.360304</td>\n",
       "      <td>36.660998</td>\n",
       "      <td>46.370000</td>\n",
       "    </tr>\n",
       "    <tr>\n",
       "      <th>50%</th>\n",
       "      <td>0.035702</td>\n",
       "      <td>0.016091</td>\n",
       "      <td>0.744000</td>\n",
       "      <td>12260.166610</td>\n",
       "      <td>82.522046</td>\n",
       "      <td>57.180000</td>\n",
       "    </tr>\n",
       "    <tr>\n",
       "      <th>75%</th>\n",
       "      <td>0.062400</td>\n",
       "      <td>0.029022</td>\n",
       "      <td>0.836250</td>\n",
       "      <td>24811.144190</td>\n",
       "      <td>204.211425</td>\n",
       "      <td>64.980000</td>\n",
       "    </tr>\n",
       "    <tr>\n",
       "      <th>max</th>\n",
       "      <td>0.649563</td>\n",
       "      <td>0.500000</td>\n",
       "      <td>0.953000</td>\n",
       "      <td>118207.069500</td>\n",
       "      <td>7908.720733</td>\n",
       "      <td>87.420000</td>\n",
       "    </tr>\n",
       "  </tbody>\n",
       "</table>\n",
       "</div>"
      ],
      "text/plain": [
       "             MEAN      MEDIAN    hdi_2017          GDPpc   PopDensity  \\\n",
       "count  250.000000  250.000000  182.000000     173.000000   173.000000   \n",
       "mean     0.064625    0.021938    0.712181   18248.415052   202.113492   \n",
       "std      0.090489    0.040113    0.155110   19310.889696   637.400219   \n",
       "min      0.000000    0.000000    0.354000     647.880445     1.948684   \n",
       "25%      0.024720    0.000000    0.589250    4386.360304    36.660998   \n",
       "50%      0.035702    0.016091    0.744000   12260.166610    82.522046   \n",
       "75%      0.062400    0.029022    0.836250   24811.144190   204.211425   \n",
       "max      0.649563    0.500000    0.953000  118207.069500  7908.720733   \n",
       "\n",
       "       EPI2018Score  \n",
       "count    173.000000  \n",
       "mean      56.724913  \n",
       "std       13.136901  \n",
       "min       27.430000  \n",
       "25%       46.370000  \n",
       "50%       57.180000  \n",
       "75%       64.980000  \n",
       "max       87.420000  "
      ]
     },
     "execution_count": 32,
     "metadata": {},
     "output_type": "execute_result"
    }
   ],
   "source": [
    "joined.describe()"
   ]
  },
  {
   "cell_type": "code",
   "execution_count": 36,
   "metadata": {},
   "outputs": [],
   "source": [
    "def lmplot(data, x, y=\"MEAN\", title=\"\", world=False, figsize=(12,6)):\n",
    "    plt.figure(figsize=figsize)\n",
    "    plt.suptitle(title)\n",
    "    sns.lmplot(x, y, data=data, col=\"Region\" if not world else None, robust=True)"
   ]
  },
  {
   "cell_type": "code",
   "execution_count": 41,
   "metadata": {},
   "outputs": [
    {
     "data": {
      "text/plain": [
       "<Figure size 864x432 with 0 Axes>"
      ]
     },
     "metadata": {},
     "output_type": "display_data"
    },
    {
     "data": {
      "image/png": "[encoded data removed]",
      "text/plain": [
       "<Figure size 360x360 with 1 Axes>"
      ]
     },
     "metadata": {
      "needs_background": "light"
     },
     "output_type": "display_data"
    },
    {
     "data": {
      "text/plain": [
       "<Figure size 864x432 with 0 Axes>"
      ]
     },
     "metadata": {},
     "output_type": "display_data"
    },
    {
     "data": {
      "image/png": "[encoded data removed]",
      "text/plain": [
       "<Figure size 1440x360 with 4 Axes>"
      ]
     },
     "metadata": {
      "needs_background": "light"
     },
     "output_type": "display_data"
    }
   ],
   "source": [
    "lmplot(joined, \"hdi_2017\", \"MEAN\", \"Human development index vs ratio mean\", world=True)\n",
    "lmplot(joined, \"hdi_2017\", \"MEAN\", \"Human development index vs ratio mean\", world=False)"
   ]
  },
  {
   "cell_type": "code",
   "execution_count": 42,
   "metadata": {},
   "outputs": [
    {
     "data": {
      "text/plain": [
       "<Figure size 864x432 with 0 Axes>"
      ]
     },
     "metadata": {},
     "output_type": "display_data"
    },
    {
     "data": {
      "image/png": "[encoded data removed]",
      "text/plain": [
       "<Figure size 360x360 with 1 Axes>"
      ]
     },
     "metadata": {
      "needs_background": "light"
     },
     "output_type": "display_data"
    },
    {
     "data": {
      "text/plain": [
       "<Figure size 864x432 with 0 Axes>"
      ]
     },
     "metadata": {},
     "output_type": "display_data"
    },
    {
     "data": {
      "image/png": "[encoded data removed]",
      "text/plain": [
       "<Figure size 1440x360 with 4 Axes>"
      ]
     },
     "metadata": {
      "needs_background": "light"
     },
     "output_type": "display_data"
    }
   ],
   "source": [
    "lmplot(joined, \"EPI2018Score\", \"MEAN\", \"Environmental performance index vs ratio mean\", world=True)\n",
    "lmplot(joined, \"EPI2018Score\", \"MEAN\", \"Environmental performance index vs ratio mean\", world=False)"
   ]
  },
  {
   "cell_type": "code",
   "execution_count": 43,
   "metadata": {},
   "outputs": [
    {
     "data": {
      "text/plain": [
       "<Figure size 864x432 with 0 Axes>"
      ]
     },
     "metadata": {},
     "output_type": "display_data"
    },
    {
     "data": {
      "image/png": "[encoded data removed]",
      "text/plain": [
       "<Figure size 360x360 with 1 Axes>"
      ]
     },
     "metadata": {
      "needs_background": "light"
     },
     "output_type": "display_data"
    },
    {
     "data": {
      "text/plain": [
       "<Figure size 864x432 with 0 Axes>"
      ]
     },
     "metadata": {},
     "output_type": "display_data"
    },
    {
     "data": {
      "image/png": "[encoded data removed]",
      "text/plain": [
       "<Figure size 1440x360 with 4 Axes>"
      ]
     },
     "metadata": {
      "needs_background": "light"
     },
     "output_type": "display_data"
    }
   ],
   "source": [
    "lmplot(joined, \"GDPpc\", \"MEAN\", \"GDP per capita vs ratio mean\", world=True)\n",
    "lmplot(joined, \"GDPpc\", \"MEAN\", \"GDP per capita vs ratio mean\", world=False)"
   ]
  },
  {
   "cell_type": "code",
   "execution_count": null,
   "metadata": {},
   "outputs": [],
   "source": []
  }
 ],
 "metadata": {
  "kernelspec": {
   "display_name": "Python [conda env:ada]",
   "language": "python",
   "name": "conda-env-ada-py"
  },
  "language_info": {
   "codemirror_mode": {
    "name": "ipython",
    "version": 3
   },
   "file_extension": ".py",
   "mimetype": "text/x-python",
   "name": "python",
   "nbconvert_exporter": "python",
   "pygments_lexer": "ipython3",
   "version": "3.6.6"
  }
 },
 "nbformat": 4,
 "nbformat_minor": 2
}
