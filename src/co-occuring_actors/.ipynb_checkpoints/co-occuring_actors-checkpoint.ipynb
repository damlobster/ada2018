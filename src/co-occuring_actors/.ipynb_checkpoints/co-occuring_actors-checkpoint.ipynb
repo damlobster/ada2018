{
 "cells": [
  {
   "cell_type": "code",
   "execution_count": 1,
   "metadata": {},
   "outputs": [],
   "source": [
    "# Add your imports here\n",
    "# import datetime\n",
    "# import pandas as pd\n",
    "# import numpy as np\n",
    "# import scipy as sp\n",
    "# import matplotlib.pyplot as plt\n",
    "# import seaborn as sns\n",
    "# from pyspark.sql import *\n",
    "# import pyspark.sql.functions as F\n",
    "# from pyspark.sql.types import FloatType\n",
    "# spark = SparkSession.builder.getOrCreate()\n",
    "from sklearn.feature_extraction.text import CountVectorizer\n",
    "import pandas as pd\n",
    "import csv\n",
    "import networkx as nx\n",
    "import numpy as np\n",
    "import matplotlib.pyplot as plt\n",
    "%matplotlib inline"
   ]
  },
  {
   "cell_type": "code",
   "execution_count": 2,
   "metadata": {},
   "outputs": [],
   "source": [
    "# with open('actors_co-occurences.csv', newline='') as csvfile:\n",
    "#     data = list(csv.reader(csvfile))\n",
    "    \n",
    "# docs = ['this;this;this;book',\n",
    "#         'this;cat;good',\n",
    "#         'cat;good;shit']\n",
    "# count_model = CountVectorizer(ngram_range=(1,1)) # default unigram model\n",
    "# X = count_model.fit_transform(docs.split())\n",
    "# # X[X > 0] = 1 # run this line if you don't want extra within-text cooccurence (see below)\n",
    "# Xc = (X.T * X) # this is co-occurrence matrix in sparse csr format\n",
    "# Xc.setdiag(0) # sometimes you want to fill same word cooccurence to 0\n",
    "# print(Xc.todense()) # print out matrix in dense format\n",
    "# print(count_model.get_feature_names())"
   ]
  },
  {
   "cell_type": "code",
   "execution_count": 3,
   "metadata": {},
   "outputs": [
    {
     "name": "stdout",
     "output_type": "stream",
     "text": [
      "  (4, 0)\t3\n",
      "  (0, 0)\t0\n",
      "  (3, 1)\t1\n",
      "  (4, 1)\t1\n",
      "  (1, 1)\t0\n",
      "  (2, 1)\t2\n",
      "  (3, 2)\t1\n",
      "  (4, 2)\t1\n",
      "  (1, 2)\t2\n",
      "  (2, 2)\t0\n",
      "  (1, 3)\t1\n",
      "  (2, 3)\t1\n",
      "  (3, 3)\t0\n",
      "  (1, 4)\t1\n",
      "  (2, 4)\t1\n",
      "  (4, 4)\t0\n",
      "  (0, 4)\t3\n",
      "[[0 0 0 0 3]\n",
      " [0 0 2 1 1]\n",
      " [0 2 0 1 1]\n",
      " [0 1 1 0 0]\n",
      " [3 1 1 0 0]]\n",
      "['book', 'cat', 'good', 'shit', 'this']\n"
     ]
    }
   ],
   "source": [
    "docs = ['this this this book',\n",
    "        'this cat good',\n",
    "        'cat good shit']\n",
    "count_model = CountVectorizer(ngram_range=(1,1)) # default unigram model\n",
    "X = count_model.fit_transform(docs)\n",
    "# X[X > 0] = 1 # run this line if you don't want extra within-text cooccurence (see below)\n",
    "Xc = (X.T * X) # this is co-occurrence matrix in sparse csr format\n",
    "Xc.setdiag(0) # sometimes you want to fill same word cooccurence to 0\n",
    "print(Xc)\n",
    "Xc_dense = Xc.todense()\n",
    "print(Xc_dense) # print out matrix in dense format\n",
    "print(count_model.get_feature_names())"
   ]
  },
  {
   "cell_type": "code",
   "execution_count": 4,
   "metadata": {},
   "outputs": [
    {
     "data": {
      "text/plain": [
       "['book', 'cat', 'good', 'shit', 'this']"
      ]
     },
     "execution_count": 4,
     "metadata": {},
     "output_type": "execute_result"
    }
   ],
   "source": [
    "nodes = count_model.get_feature_names()\n",
    "nodes"
   ]
  },
  {
   "cell_type": "code",
   "execution_count": 5,
   "metadata": {},
   "outputs": [],
   "source": [
    "Knz = Xc.nonzero()\n",
    "sparserows = Knz[0]\n",
    "sparsecols = Knz[1]"
   ]
  },
  {
   "cell_type": "code",
   "execution_count": 28,
   "metadata": {},
   "outputs": [
    {
     "data": {
      "text/plain": [
       "[('book', 'this'),\n",
       " ('cat', 'good'),\n",
       " ('cat', 'shit'),\n",
       " ('cat', 'this'),\n",
       " ('good', 'shit'),\n",
       " ('good', 'this')]"
      ]
     },
     "execution_count": 28,
     "metadata": {},
     "output_type": "execute_result"
    }
   ],
   "source": [
    "edge_list = [x for x in list(zip(list(sparserows), list(sparsecols))) if x[0] <= x[1]]\n",
    "edge_list = [(nodes[x[0]], nodes[x[1]]) for x in edge_list]\n",
    "edge_list"
   ]
  },
  {
   "cell_type": "code",
   "execution_count": 7,
   "metadata": {},
   "outputs": [
    {
     "data": {
      "text/plain": [
       "[3, 2, 1, 1, 1, 1]"
      ]
     },
     "execution_count": 7,
     "metadata": {},
     "output_type": "execute_result"
    }
   ],
   "source": [
    "weights = [Xc[x[0], x[1]] for x in edge_list]\n",
    "weights"
   ]
  },
  {
   "cell_type": "code",
   "execution_count": 8,
   "metadata": {},
   "outputs": [
    {
     "data": {
      "text/plain": [
       "[('book', 'this', 3),\n",
       " ('cat', 'good', 2),\n",
       " ('cat', 'shit', 1),\n",
       " ('cat', 'this', 1),\n",
       " ('good', 'shit', 1),\n",
       " ('good', 'this', 1)]"
      ]
     },
     "execution_count": 8,
     "metadata": {},
     "output_type": "execute_result"
    }
   ],
   "source": [
    "weighted_edge_list = [(x[0][0], x[0][1], x[1]) for x in list(zip(edge_list, weights))]\n",
    "weighted_edge_list = [(nodes[x[0]], nodes[x[1]], x[2]) for x in weighted_edge_list]\n",
    "weighted_edge_list"
   ]
  },
  {
   "cell_type": "code",
   "execution_count": 9,
   "metadata": {},
   "outputs": [],
   "source": [
    "node_weight = [100, 300, 500, 700, 900]"
   ]
  },
  {
   "cell_type": "code",
   "execution_count": 33,
   "metadata": {
    "scrolled": false
   },
   "outputs": [
    {
     "data": {
      "image/png": "[encoded data removed]",
      "text/plain": [
       "<Figure size 576x576 with 1 Axes>"
      ]
     },
     "metadata": {},
     "output_type": "display_data"
    }
   ],
   "source": [
    "plt.subplots(figsize=(8,8))\n",
    "G = nx.Graph()\n",
    "G.add_weighted_edges_from(weighted_edge_list)\n",
    "pos = nx.spring_layout(G)\n",
    "nx.draw(G, pos, with_labels=True, font_size = 12, node_size = node_weight, width=[G[u][v]['weight'] for u,v in G.edges()])\n",
    "plt.axis('off')\n",
    "plt.show()"
   ]
  }
 ],
 "metadata": {
  "kernelspec": {
   "display_name": "Python [default]",
   "language": "python",
   "name": "python3"
  },
  "language_info": {
   "codemirror_mode": {
    "name": "ipython",
    "version": 3
   },
   "file_extension": ".py",
   "mimetype": "text/x-python",
   "name": "python",
   "nbconvert_exporter": "python",
   "pygments_lexer": "ipython3",
   "version": "3.6.4"
  }
 },
 "nbformat": 4,
 "nbformat_minor": 2
}
