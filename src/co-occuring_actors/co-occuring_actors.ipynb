{
 "cells": [
  {
   "cell_type": "code",
   "execution_count": 14,
   "metadata": {},
   "outputs": [],
   "source": [
    "# Add your imports here\n",
    "# import datetime\n",
    "# import pandas as pd\n",
    "# import numpy as np\n",
    "# import scipy as sp\n",
    "# import matplotlib.pyplot as plt\n",
    "# import seaborn as sns\n",
    "# from pyspark.sql import *\n",
    "# import pyspark.sql.functions as F\n",
    "# from pyspark.sql.types import FloatType\n",
    "# spark = SparkSession.builder.getOrCreate()\n",
    "from sklearn.feature_extraction.text import CountVectorizer\n",
    "import csv\n",
    "import networkx as nx\n",
    "import numpy as np\n",
    "import matplotlib.pyplot as plt\n",
    "%matplotlib inline"
   ]
  },
  {
   "cell_type": "code",
   "execution_count": null,
   "metadata": {},
   "outputs": [],
   "source": [
    "with open('actors_co-occurences.csv', newline='') as csvfile:\n",
    "    data = list(csv.reader(csvfile))\n",
    "    \n",
    "docs = ['this;this;this;book',\n",
    "        'this;cat;good',\n",
    "        'cat;good;shit']\n",
    "count_model = CountVectorizer(ngram_range=(1,1)) # default unigram model\n",
    "X = count_model.fit_transform(docs.split())\n",
    "# X[X > 0] = 1 # run this line if you don't want extra within-text cooccurence (see below)\n",
    "Xc = (X.T * X) # this is co-occurrence matrix in sparse csr format\n",
    "Xc.setdiag(0) # sometimes you want to fill same word cooccurence to 0\n",
    "print(Xc.todense()) # print out matrix in dense format\n",
    "print(count_model.get_feature_names())"
   ]
  },
  {
   "cell_type": "code",
   "execution_count": 8,
   "metadata": {},
   "outputs": [
    {
     "name": "stdout",
     "output_type": "stream",
     "text": [
      "[[0 0 0 0 3]\n",
      " [0 0 2 1 1]\n",
      " [0 2 0 1 1]\n",
      " [0 1 1 0 0]\n",
      " [3 1 1 0 0]]\n",
      "['book', 'cat', 'good', 'shit', 'this']\n"
     ]
    }
   ],
   "source": [
    "docs = ['this this this book',\n",
    "        'this cat good',\n",
    "        'cat good shit']\n",
    "count_model = CountVectorizer(ngram_range=(1,1)) # default unigram model\n",
    "X = count_model.fit_transform(docs)\n",
    "# X[X > 0] = 1 # run this line if you don't want extra within-text cooccurence (see below)\n",
    "Xc = (X.T * X) # this is co-occurrence matrix in sparse csr format\n",
    "Xc.setdiag(0) # sometimes you want to fill same word cooccurence to 0\n",
    "Xc_dense = Xc.todense()\n",
    "print(Xc_dense) # print out matrix in dense format\n",
    "print(count_model.get_feature_names())"
   ]
  },
  {
   "cell_type": "code",
   "execution_count": 11,
   "metadata": {},
   "outputs": [],
   "source": [
    "A=np.matrix(Xc_dense)\n",
    "G=nx.from_numpy_matrix(A)"
   ]
  },
  {
   "cell_type": "code",
   "execution_count": 15,
   "metadata": {},
   "outputs": [
    {
     "data": {
      "image/png": "[encoded data removed]",
      "text/plain": [
       "<Figure size 432x288 with 1 Axes>"
      ]
     },
     "metadata": {},
     "output_type": "display_data"
    }
   ],
   "source": [
    "nx.draw(G)\n",
    "plt.show()"
   ]
  }
 ],
 "metadata": {
  "kernelspec": {
   "display_name": "Python [default]",
   "language": "python",
   "name": "python3"
  },
  "language_info": {
   "codemirror_mode": {
    "name": "ipython",
    "version": 3
   },
   "file_extension": ".py",
   "mimetype": "text/x-python",
   "name": "python",
   "nbconvert_exporter": "python",
   "pygments_lexer": "ipython3",
   "version": "3.6.4"
  }
 },
 "nbformat": 4,
 "nbformat_minor": 2
}
